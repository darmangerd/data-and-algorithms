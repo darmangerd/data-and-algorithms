{
  "cells": [
    {
      "cell_type": "markdown",
      "id": "3753f8ac-fd3a-4817-9c73-7772af832027",
      "metadata": {
        "id": "3753f8ac-fd3a-4817-9c73-7772af832027"
      },
      "source": [
        "**Série 4**\n",
        "\n",
        "Ce document contient les différents exercices à réaliser. Vous avez deux semaines pour compléter et soumettre cet exercice.\n",
        "\n",
        "Pour chaque exercice:\n",
        "* implémentez ce qui est demandé\n",
        "* commentez votre code \n",
        "* expliquez **en français or English** ce que vous avez codé dans la cellule correspondante"
      ]
    },
    {
      "cell_type": "markdown",
      "id": "5e19b316",
      "metadata": {},
      "source": [
        "## Contributions\n",
        "*Exercice : [contribution Darmanger]*\n",
        "- 1 : [100%]\n",
        "- 2 : [100%]"
      ]
    },
    {
      "cell_type": "markdown",
      "id": "1fb0b066-c859-40a3-a8d6-7bcc656f8764",
      "metadata": {
        "id": "1fb0b066-c859-40a3-a8d6-7bcc656f8764"
      },
      "source": [
        "## Exercice 1\n",
        "Concevez un algorithme pour **énumérer tous les arbres binaires** d'une taille N donnée, où N correspond au nombre de noeuds (vertex) ; le N ne prend pas en compte les feuilles. Les noeuds feuilles sont représentés par ceci \"(..)\": une parenthèse ouverte '(', deux points '..' - représentant les deux feuilles- et une parenthèse fermée ')'.\n",
        "\n",
        "Le programme final doit afficher la liste des arbres binaires de la taille spécifiée, un arbre par ligne. Pour N=3, il y a un total de 5 arbres binaires. L'output doit être une séquence de parenthèses et points, comme ceci:\n",
        "\n",
        "    (((..).).)\n",
        "    ((.(..)).)\n",
        "    ((..)(..))\n",
        "    (.((..).))\n",
        "    (.(.(..)))\n",
        "    \n",
        "Implémentez et testez un algorithme récursif qui résout le problème. Donnez une solution pour N=[1,10]\n",
        "\n",
        "Pour tester votre solution (\"est-ce que la solution retourne le nombre correct d'arbres?\"), vous devez lire, ~comprendre, implémenter et tester la formule qui calcule le nombre de Catalan pour un N donné:\n",
        "\n",
        "C<sub>n</sub> = $\\frac{(2n)!}{(n+1)!n!}$\n",
        "\n",
        "Aide: https://fr.wikipedia.org/wiki/Nombre_de_Catalan"
      ]
    },
    {
      "cell_type": "code",
      "execution_count": 1,
      "id": "f7d53256-24f6-4c2c-860f-2b0577daf6db",
      "metadata": {
        "id": "f7d53256-24f6-4c2c-860f-2b0577daf6db"
      },
      "outputs": [],
      "source": [
        "from math import factorial\n",
        "\n",
        "\n",
        "def catalan_nb(n:int) -> int:\n",
        "    # C_n = (2n)! / ((n+1)! * n!)\n",
        "    return factorial(2 * n) // (factorial(n + 1) * factorial(n))"
      ]
    },
    {
      "cell_type": "code",
      "execution_count": 2,
      "id": "c1fd10ee-e325-40e9-8e21-081905a50ec5",
      "metadata": {
        "id": "c1fd10ee-e325-40e9-8e21-081905a50ec5"
      },
      "outputs": [],
      "source": [
        "assert catalan_nb(3) == 5\n",
        "assert catalan_nb(5) == 42\n",
        "assert catalan_nb(8) == 1430"
      ]
    },
    {
      "cell_type": "code",
      "execution_count": 3,
      "id": "606f188a-c1c6-4632-8388-a0aa9a7c5e7e",
      "metadata": {
        "id": "606f188a-c1c6-4632-8388-a0aa9a7c5e7e",
        "tags": []
      },
      "outputs": [],
      "source": [
        "def get_all_B_Trees(n: int) -> list:\n",
        "    \"\"\" Returns all possible binary trees with n internal nodes. \"\"\"\n",
        "\n",
        "    # Base case: if the tree has no internal nodes (n = 0),\n",
        "    # there is only one possible structure, which is a leaf \".\"\n",
        "    if n == 0:\n",
        "        return [\".\"]\n",
        "    \n",
        "    # Base case: if the tree has exactly 1 internal node,\n",
        "    # the only possibility is to have two leaves: \"(..)\"\n",
        "    if n == 1:\n",
        "        return [\"(..)\"]\n",
        "    \n",
        "    res = []\n",
        "\n",
        "    # Loop through all ways to divide n into left and right subtrees\n",
        "    # The left subtree will have i nodes\n",
        "    # The right subtree will have (n - i - 1) nodes\n",
        "    # The -1 is because the root node is counted as an internal node\n",
        "    for i in range(n):\n",
        "        # Recursively generate all subtrees with i nodes on the left\n",
        "        sub_left = get_all_B_Trees(i)\n",
        "\n",
        "        # Recursively generate all subtrees with (n - i - 1) nodes on the right\n",
        "        # The quantity (n - i - 1) represents the remaining nodes after allocating i nodes to the left\n",
        "        sub_right = get_all_B_Trees(n - i - 1)\n",
        "\n",
        "        # Combine all possible left and right subtrees\n",
        "        for left in sub_left:\n",
        "            for right in sub_right:\n",
        "                # Add the current tree to the result\n",
        "                res.append(f\"({left}{right})\")\n",
        "\n",
        "    return res"
      ]
    },
    {
      "cell_type": "markdown",
      "id": "6589c1f6",
      "metadata": {},
      "source": [
        "### Solutions\n",
        "Ecrivez ci-dessous votre réponse pour N=[1,10]"
      ]
    },
    {
      "cell_type": "code",
      "execution_count": 4,
      "id": "01be5bb2",
      "metadata": {},
      "outputs": [],
      "source": [
        "trees = get_all_B_Trees(3)"
      ]
    },
    {
      "cell_type": "code",
      "execution_count": 5,
      "id": "75a36e1f",
      "metadata": {},
      "outputs": [
        {
          "name": "stdout",
          "output_type": "stream",
          "text": [
            "(.(.(..)))\n",
            "(.((..).))\n",
            "((..)(..))\n",
            "((.(..)).)\n",
            "(((..).).)\n"
          ]
        }
      ],
      "source": [
        "for tree in trees:\n",
        "    print(tree)"
      ]
    },
    {
      "cell_type": "code",
      "execution_count": 6,
      "id": "81b07554",
      "metadata": {},
      "outputs": [
        {
          "name": "stdout",
          "output_type": "stream",
          "text": [
            "Number of binary trees with 1 internal nodes: 1\n",
            "Number of binary trees with 1 internal nodes (Catalan number): 1\n",
            "\n",
            "Number of binary trees with 2 internal nodes: 2\n",
            "Number of binary trees with 2 internal nodes (Catalan number): 2\n",
            "\n",
            "Number of binary trees with 3 internal nodes: 5\n",
            "Number of binary trees with 3 internal nodes (Catalan number): 5\n",
            "\n",
            "Number of binary trees with 4 internal nodes: 14\n",
            "Number of binary trees with 4 internal nodes (Catalan number): 14\n",
            "\n",
            "Number of binary trees with 5 internal nodes: 42\n",
            "Number of binary trees with 5 internal nodes (Catalan number): 42\n",
            "\n",
            "Number of binary trees with 6 internal nodes: 132\n",
            "Number of binary trees with 6 internal nodes (Catalan number): 132\n",
            "\n",
            "Number of binary trees with 7 internal nodes: 429\n",
            "Number of binary trees with 7 internal nodes (Catalan number): 429\n",
            "\n",
            "Number of binary trees with 8 internal nodes: 1430\n",
            "Number of binary trees with 8 internal nodes (Catalan number): 1430\n",
            "\n",
            "Number of binary trees with 9 internal nodes: 4862\n",
            "Number of binary trees with 9 internal nodes (Catalan number): 4862\n",
            "\n",
            "Number of binary trees with 10 internal nodes: 16796\n",
            "Number of binary trees with 10 internal nodes (Catalan number): 16796\n",
            "\n"
          ]
        }
      ],
      "source": [
        "N = range(1, 11)\n",
        "for n in N:\n",
        "    print(f\"Number of binary trees with {n} internal nodes: {len(get_all_B_Trees(n))}\")\n",
        "    print(f\"Number of binary trees with {n} internal nodes (Catalan number): {catalan_nb(n)}\")\n",
        "    print()"
      ]
    },
    {
      "cell_type": "code",
      "execution_count": 7,
      "id": "6abfdc30",
      "metadata": {},
      "outputs": [],
      "source": [
        "assert len(trees) == catalan_nb(3)\n",
        "assert set([\"(((..).).)\", \"((.(..)).)\", \"((..)(..))\",\"(.((..).))\",\"(.(.(..)))\"]) == set(trees)"
      ]
    },
    {
      "cell_type": "code",
      "execution_count": 8,
      "id": "73375a55",
      "metadata": {},
      "outputs": [],
      "source": [
        "assert len(get_all_B_Trees(4)) == catalan_nb(4)\n",
        "assert len(get_all_B_Trees(5)) == catalan_nb(5)\n",
        "assert len(get_all_B_Trees(6)) == catalan_nb(6)\n",
        "assert len(get_all_B_Trees(7)) == catalan_nb(7)\n",
        "assert len(get_all_B_Trees(8)) == catalan_nb(8)"
      ]
    },
    {
      "cell_type": "markdown",
      "id": "2ca32f2e-e995-477c-8535-62f6e42dc093",
      "metadata": {
        "id": "2ca32f2e-e995-477c-8535-62f6e42dc093",
        "tags": []
      },
      "source": [
        "### Explications\n",
        "Expliquez comment votre algorithme fonctionne"
      ]
    },
    {
      "cell_type": "markdown",
      "id": "6751df11",
      "metadata": {},
      "source": [
        "L'algorithme est basé sur la récursivité. Il prend en entrée un entier `n` qui représente le nombre de neuds internes de l'arbre binaire. Il retourne une liste de chaînes de caractères représentant tous les arbres binaires possibles avec `n` noeuuds internes. Avec la récurssion, l'algorithme décompose un arbre en sous-arbres plus petits, jusqu'à atteindre un cas de base. Il génère ensuite tous les arbres possibles pour chaque sous-arbre, puis combine ces arbres pour former des arbres plus grands. \n",
        "\n",
        "#### Cas de base :\n",
        "-   **Cas de base 1 :** Si `n = 0`, il n'y a pas de noeud interne, donc le seul arbre possible est une feuille `\".\"`\n",
        "-   **Cas de base 2 :** Si `n = 1`, il y a exactement un noeud interne, donc la seule structure possible est un noeud interne entouré de deux feuilles, représenté par `\"(..)\"`\n",
        "\n",
        "#### Cas général (récursif) :\n",
        "Lorsque `n > 1`, l'algorithme divise l'arbre en deux sous-arbres :\n",
        "-   **Le sous-arbre gauche** avec `i` noeuds internes. \n",
        "    -   Génère tous les sous-arbres possibles pour le côté gauche avec i noeuds.\n",
        "-   **Le sous-arbre droit** avec `n - i - 1` noeuds internes (-1 car un noeuds est utilisé pour la racine de l'arbre actuel). \n",
        "    -   Génère tous les sous-arbres possibles pour le côté droit avec n - i - 1 noeuds.\n",
        "\n",
        "L'algorithm combine ensuite chaque sous-arbre gauche avec chaque sous-arbre droit pour former un nouvel arbre binaire sous la forme \"*(SousArbreGauche SousArbreDroit)*\"\n",
        "\n",
        "\n",
        "### Exemple de fonctionnement pour N = 3\n",
        "\n",
        "Pour `n = 3`, l'algorithme va :\n",
        "\n",
        "1.  Essayer toutes les possibilités pour répartir les 3 noeuds entre le sous-arbre gauche et le sous-arbre droit.\n",
        "2.  Les répartitions possibles sont :\n",
        "    -   `i = 0` à gauche et `n - i - 1 = 2` à droite.\n",
        "    -   `i = 1` à gauche et `n - i - 1 = 1` à droite.\n",
        "    -   `i = 2` à gauche et `n - i - 1 = 0` à droite.\n",
        "\n",
        "À chaque étape, il combine les sous-arbres générés pour créer des arbres complets. Cela finit par donner les 5 structures d'arbres pour `n = 3` :\n",
        "\n",
        "    (((..).).)\n",
        "    ((.(..)).)\n",
        "    ((..)(..))\n",
        "    (.((..).))\n",
        "    (.(.(..)))"
      ]
    },
    {
      "cell_type": "markdown",
      "id": "bd6bd0c1-822d-47dc-aff2-2a0e4d1f0bf7",
      "metadata": {
        "id": "bd6bd0c1-822d-47dc-aff2-2a0e4d1f0bf7"
      },
      "source": [
        "## Exercice 2\n",
        "Qu'elle est la complexité en espace/temps de l'algorithme ? Une approximation asymptotique est recommandée. Vous aurez besoin de la formule de Stirling pour cela : $n ! \\approx \\sqrt{2 \\pi n}\\left(\\frac{n}{\\mathrm{e}}\\right)^n$"
      ]
    },
    {
      "cell_type": "markdown",
      "id": "0480bc22",
      "metadata": {},
      "source": [
        "### Analyse de la complexité de l'algorithme\n",
        "\n",
        "L'algorithme génère tous les arbres binaires possibles avec $N$ noeuds internes. Il faut alors analyser la complexité en **temps** et en **espace**.\n",
        "\n",
        "#### Complexité en temps\n",
        "\n",
        "L'algorithme est récursif et génère chaque arbre binaire en explorant toutes les combinaisons possibles de sous-arbres gauche et droit. Pour une taille $n$ donnée, le nombre total d'arbres binaires est donné par le nombre de Catalan $C_n$ pour $n$ noeuds internes. La complexité temporelle de l'algorithme est donc liée à la taille de ce nombre de Catalan.\n",
        "\n",
        "Le nombre de Catalan $C_n$ est défini comme :\n",
        "\n",
        "$$\n",
        "C_n = \\frac{1}{n + 1} \\binom{2n}{n} = \\frac{(2n)!}{(n + 1)! n!}\n",
        "$$\n",
        "\n",
        "Maintenant on va approximer cette formule à l'aide de la **formule de Stirling**, qui permet d'approximer la factorielle pour des grands nombres :\n",
        "\n",
        "$$\n",
        "n! \\approx \\sqrt{2 \\pi n} \\left(\\frac{n}{e}\\right)^n.\n",
        "$$\n",
        "\n",
        "En appliquant cette approximation à chaque facteur dans la formule du nombre de Catalan, on obtient :\n",
        "\n",
        "![Serie 4](./img/serie4.jpg)\n",
        "\n",
        "Cela montre que le nombre de Catalan croît exponentiellement avec $n$. Puisque l'algorithme génère tous les arbres, la complexité temporelle est proportionnelle à $C_n$. Ainsi, la **complexité en temps** est :\n",
        "\n",
        "$$\n",
        "O(C_n) = O\\left(\\frac{4^n}{n^{3/2}}\\right) \\approx O(4^n).\n",
        "$$"
      ]
    },
    {
      "cell_type": "markdown",
      "id": "2d54301d",
      "metadata": {},
      "source": [
        "#### Complexité en espace\n",
        "\n",
        "Pour évaluer la complexité en espace, on considère deux facteurs :\n",
        "1. Le nombre total d'arbres générés, qui est $C_n$.\n",
        "2. La taille de chaque arbre. Chaque arbre est représenté par une chaîne de parenthèses et de points, et la taille d'un arbre avec $n$ noeuds internes est de l'ordre de $O(n)$. \n",
        "\n",
        "   - Lors de l'appel récursif, l'algorithme stocke les sous-arbres gauche et droit, ce qui nécessite un espace proportionnel à la taille de ces sous-arbres. Cela signifie que pour chaque appel récursif, on doit allouer de l'espace pour conserver les représentations des arbres générés.\n",
        "   - La taille maximale d'un arbre est atteinte lorsque tous les noeuds internes sont du côté gauche ou du côté droit, ce qui donne un arbre de profondeur $n$.\n",
        "\n",
        "\n",
        "Le problème ici est de savoir combien de mémoire il faut pour stocker chaque arbre binaire généré. Pour cela, on regarde le nombre total de caractères nécessaires pour représenter chaque arbre. La mémoire nécessaire est donc directement proportionnelle au nombre de noeuds internes $n$, car chaque nœud interne contribue à la longueur de la chaîne de caractères. Cela est donc proportionnel à $O(n)$.\n",
        "\n",
        "\n",
        "Ainsi, la complexité en espace est donnée par : *Nombre total d'arbres* x *Taille maximale d'un arbre*, car l'espace nécessaire est proportionnel à la taille de chaque arbre et au nombre total d'arbres générés. En utilisant l'approximation de Stirling pour le nombre de Catalan, on obtient :\n",
        "\n",
        "\n",
        "$$\n",
        "O(C_n \\cdot n) = O\\left(\\frac{4^n}{n^{3/2}} \\cdot n\\right) = O\\left(\\frac{4^n}{n^{1/2}}\\right) \\approx O(4^n).\n",
        "$$"
      ]
    },
    {
      "cell_type": "markdown",
      "id": "39daed59",
      "metadata": {},
      "source": [
        "#### Conclusion\n",
        "\n",
        "- **Complexité en temps** : $O\\left(\\frac{4^n}{n^{3/2}}\\right)$ = $O(4^n)$\n",
        "- **Complexité en espace** : $O\\left(\\frac{4^n}{n^{1/2}}\\right)$ = $O(4^n)$\n",
        "\n",
        "Ces deux complexités montrent une croissance exponentielle avec un facteur de $4^n$, ce qui signifie que l'algorithme est **exponentiel** en temps et en espace. Bien que le terme $n^{-3/2}$ ou $n^{-1/2}$ réduise légèrement la croissance, la partie exponentielle $4^n$ domine, rendant l'algorithme rapidement coûteux pour de grandes valeurs de $n$.\n"
      ]
    },
    {
      "cell_type": "code",
      "execution_count": 9,
      "id": "be45b95d",
      "metadata": {},
      "outputs": [
        {
          "data": {
            "image/png": "[encoded data removed]",
            "text/plain": [
              "<Figure size 432x288 with 1 Axes>"
            ]
          },
          "metadata": {
            "needs_background": "light"
          },
          "output_type": "display_data"
        }
      ],
      "source": [
        "import matplotlib.pyplot as plt\n",
        "import time\n",
        "import sys\n",
        "\n",
        "N = range(1, 15)\n",
        "times = []\n",
        "memories = []\n",
        "\n",
        "\n",
        "for n in N:\n",
        "    start_time = time.time()\n",
        "    trees = get_all_B_Trees(n)\n",
        "    end_time = time.time()\n",
        "    memories.append(sys.getsizeof(trees))\n",
        "    times.append(end_time - start_time)\n",
        "\n",
        "plt.plot(N, times, marker='o')\n",
        "plt.xlabel(\"Number of internal nodes\")\n",
        "plt.ylabel(\"Time (s)\")\n",
        "plt.title(\"Complexity of generating all binary trees with n internal nodes\")\n",
        "plt.grid()\n",
        "plt.show()"
      ]
    },
    {
      "cell_type": "code",
      "execution_count": 10,
      "id": "e09613b5",
      "metadata": {},
      "outputs": [
        {
          "data": {
            "image/png": "[encoded data removed]",
            "text/plain": [
              "<Figure size 432x288 with 1 Axes>"
            ]
          },
          "metadata": {
            "needs_background": "light"
          },
          "output_type": "display_data"
        }
      ],
      "source": [
        "plt.plot(N, memories, marker='o')\n",
        "plt.xlabel(\"Number of internal nodes\")\n",
        "plt.ylabel(\"Memory (bytes)\")\n",
        "plt.title(\"Complexity of generating all binary trees with n internal nodes\")\n",
        "plt.grid()\n",
        "plt.show()"
      ]
    }
  ],
  "metadata": {
    "colab": {
      "collapsed_sections": [],
      "provenance": []
    },
    "kernelspec": {
      "display_name": "base",
      "language": "python",
      "name": "python3"
    },
    "language_info": {
      "codemirror_mode": {
        "name": "ipython",
        "version": 3
      },
      "file_extension": ".py",
      "mimetype": "text/x-python",
      "name": "python",
      "nbconvert_exporter": "python",
      "pygments_lexer": "ipython3",
      "version": "3.10.6"
    }
  },
  "nbformat": 4,
  "nbformat_minor": 5
}
