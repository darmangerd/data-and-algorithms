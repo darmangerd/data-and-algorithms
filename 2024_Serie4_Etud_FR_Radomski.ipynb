{
  "cells": [
    {
      "cell_type": "markdown",
      "id": "3753f8ac-fd3a-4817-9c73-7772af832027",
      "metadata": {
        "id": "3753f8ac-fd3a-4817-9c73-7772af832027"
      },
      "source": [
        "**Série 4**\n",
        "\n",
        "Ce document contient les différents exercices à réaliser. Vous avez deux semaines pour compléter et soumettre cet exercice.\n",
        "\n",
        "Pour chaque exercice:\n",
        "* implémentez ce qui est demandé\n",
        "* commentez votre code \n",
        "* expliquez **en français or English** ce que vous avez codé dans la cellule correspondante"
      ]
    },
    {
      "cell_type": "markdown",
      "id": "5e19b316",
      "metadata": {},
      "source": [
        "## Contributions\n",
        "*Exercice : [contribution Radomski]*\n",
        "- 1 : [100%]\n",
        "- 2 : [100%]"
      ]
    },
    {
      "cell_type": "markdown",
      "id": "1fb0b066-c859-40a3-a8d6-7bcc656f8764",
      "metadata": {
        "id": "1fb0b066-c859-40a3-a8d6-7bcc656f8764"
      },
      "source": [
        "## Exercice 1\n",
        "Concevez un algorithme pour **énumérer tous les arbres binaires** d'une taille N donnée, où N correspond au nombre de noeuds (vertex) ; le N ne prend pas en compte les feuilles. Les noeuds feuilles sont représentés par ceci \"(..)\": une parenthèse ouverte '(', deux points '..' - représentant les deux feuilles- et une parenthèse fermée ')'.\n",
        "\n",
        "Le programme final doit afficher la liste des arbres binaires de la taille spécifiée, un arbre par ligne. Pour N=3, il y a un total de 5 arbres binaires. L'output doit être une séquence de parenthèses et points, comme ceci:\n",
        "\n",
        "    (((..).).)\n",
        "    ((.(..)).)\n",
        "    ((..)(..))\n",
        "    (.((..).))\n",
        "    (.(.(..)))\n",
        "    \n",
        "Implémentez et testez un algorithme récursif qui résout le problème. Donnez une solution pour N=[1,10]\n",
        "\n",
        "Pour tester votre solution (\"est-ce que la solution retourne le nombre correct d'arbres?\"), vous devez lire, ~comprendre, implémenter et tester la formule qui calcule le nombre de Catalan pour un N donné:\n",
        "\n",
        "C<sub>n</sub> = $\\frac{(2n)!}{(n+1)!n!}$\n",
        "\n",
        "Aide: https://fr.wikipedia.org/wiki/Nombre_de_Catalan"
      ]
    },
    {
      "cell_type": "code",
      "execution_count": 1,
      "id": "f7d53256-24f6-4c2c-860f-2b0577daf6db",
      "metadata": {
        "id": "f7d53256-24f6-4c2c-860f-2b0577daf6db"
      },
      "outputs": [],
      "source": [
        "import math\n",
        "\n",
        "\n",
        "def catalan_nb(n: int) -> int:\n",
        "    if n < 0:\n",
        "        raise ValueError(f\"catalan number must not be calculated for negative numbers, got {n}\")\n",
        "\n",
        "    numerator = math.factorial(2 * n)\n",
        "    denominator = math.factorial(n + 1) * math.factorial(n)\n",
        "\n",
        "    return int(numerator / denominator)"
      ]
    },
    {
      "cell_type": "code",
      "execution_count": 4,
      "id": "c1fd10ee-e325-40e9-8e21-081905a50ec5",
      "metadata": {
        "id": "c1fd10ee-e325-40e9-8e21-081905a50ec5"
      },
      "outputs": [],
      "source": [
        "assert catalan_nb(3) == 5\n",
        "assert catalan_nb(5) == 42\n",
        "assert catalan_nb(8) == 1430"
      ]
    },
    {
      "cell_type": "code",
      "execution_count": 81,
      "id": "606f188a-c1c6-4632-8388-a0aa9a7c5e7e",
      "metadata": {
        "id": "606f188a-c1c6-4632-8388-a0aa9a7c5e7e",
        "tags": []
      },
      "outputs": [],
      "source": [
        "import typing\n",
        "\n",
        "\n",
        "def calculate_binary_tree_permutations(internal_node_count: int) -> typing.Iterator[str]:\n",
        "    if internal_node_count == 0:\n",
        "        yield \".\"\n",
        "        return\n",
        "\n",
        "    children_internal_node_count = internal_node_count - 1\n",
        "\n",
        "    # +1 as upper bound of range is exclusive\n",
        "    for left_internal_node_count in range(children_internal_node_count + 1):\n",
        "        right_internal_node_count = (\n",
        "            children_internal_node_count - left_internal_node_count\n",
        "        )\n",
        "\n",
        "        left_internal_nodes = calculate_binary_tree_permutations(left_internal_node_count)\n",
        "        right_internal_nodes = list(\n",
        "            calculate_binary_tree_permutations(right_internal_node_count)\n",
        "        )\n",
        "\n",
        "        for left_internal_node in left_internal_nodes:\n",
        "            for right_internal_node in right_internal_nodes:\n",
        "                yield f\"({left_internal_node}{right_internal_node})\""
      ]
    },
    {
      "cell_type": "markdown",
      "id": "3aa59e32-d9bb-4f5b-93f6-8298879a8bfe",
      "metadata": {
        "id": "3aa59e32-d9bb-4f5b-93f6-8298879a8bfe"
      },
      "source": [
        "### Solutions\n",
        "Ecrivez ci-dessous votre réponse pour N=[1,10]"
      ]
    },
    {
      "cell_type": "code",
      "execution_count": 82,
      "id": "6210f821",
      "metadata": {},
      "outputs": [
        {
          "name": "stdout",
          "output_type": "stream",
          "text": [
            "# binary trees for 1 internal nodes\n",
            "    by catalan number: 1\n",
            "    by calculating all possible trees: 1\n",
            "\n",
            "# binary trees for 2 internal nodes\n",
            "    by catalan number: 2\n",
            "    by calculating all possible trees: 2\n",
            "\n",
            "# binary trees for 3 internal nodes\n",
            "    by catalan number: 5\n",
            "    by calculating all possible trees: 5\n",
            "\n",
            "# binary trees for 4 internal nodes\n",
            "    by catalan number: 14\n",
            "    by calculating all possible trees: 14\n",
            "\n",
            "# binary trees for 5 internal nodes\n",
            "    by catalan number: 42\n",
            "    by calculating all possible trees: 42\n",
            "\n",
            "# binary trees for 6 internal nodes\n",
            "    by catalan number: 132\n",
            "    by calculating all possible trees: 132\n",
            "\n",
            "# binary trees for 7 internal nodes\n",
            "    by catalan number: 429\n",
            "    by calculating all possible trees: 429\n",
            "\n",
            "# binary trees for 8 internal nodes\n",
            "    by catalan number: 1430\n",
            "    by calculating all possible trees: 1430\n",
            "\n",
            "# binary trees for 9 internal nodes\n",
            "    by catalan number: 4862\n",
            "    by calculating all possible trees: 4862\n",
            "\n",
            "# binary trees for 10 internal nodes\n",
            "    by catalan number: 16796\n",
            "    by calculating all possible trees: 16796\n",
            "\n"
          ]
        }
      ],
      "source": [
        "for internal_node_count in range(1, 10 + 1):\n",
        "    catalan_number_for_count = catalan_nb(internal_node_count)\n",
        "    trees_for_count = sum(1 for _ in calculate_binary_tree_permutations(internal_node_count))\n",
        "     \n",
        "    print(f\"# binary trees for {internal_node_count} internal nodes\")\n",
        "    print(f\"    by catalan number: {catalan_number_for_count}\")\n",
        "    print(f\"    by calculating all possible trees: {trees_for_count}\")\n",
        "    print(\"\")"
      ]
    },
    {
      "cell_type": "markdown",
      "id": "2ca32f2e-e995-477c-8535-62f6e42dc093",
      "metadata": {
        "id": "2ca32f2e-e995-477c-8535-62f6e42dc093",
        "tags": []
      },
      "source": [
        "### Explications\n",
        "Expliquez comment votre algorithme fonctionne"
      ]
    },
    {
      "cell_type": "markdown",
      "id": "f5a17952-cba5-4bc4-9a41-aa68a0b0d806",
      "metadata": {
        "id": "f5a17952-cba5-4bc4-9a41-aa68a0b0d806"
      },
      "source": [
        "#### Overall approach\n",
        "\n",
        "The presented solution solves the problem recursively.\n",
        "\n",
        "We define the case in which the requested tree contains not a single internal node (`internal_node_count = 0`) as our base case.\n",
        "Such a \"tree\" can only possibly contain a leaf node.\n",
        "Leaf nodes are denoted as `.`.\n",
        "\n",
        "In all other cases, `internal_node_count` is at least `1`.\n",
        "\n",
        "In every recursion step, we consider the tree's root node.\n",
        "Since the root node counts as an internal node, we know that the subtrees that have the root's children as their roots jointly contain exactly $n - 1$ nodes.\n",
        "Recall that in a binary tree, every internal node has exactly two children.\n",
        "If we want to obtain all possible binary trees, we need to consider all possible distributions of the remaining $n - 1$ internal nodes over the two subtrees (one subtree per child).\n",
        "For example, if we need to distribute three internal nodes, then we need to consider the possible distributions $(0, 2)$, $(1, 1)$, and $(2, 0)$.\n",
        "This is what the outermost for-loop does: It considers all the possible sizes that the left subtree might have; the possible sizes of the right subtree follow accordingly.\n",
        "In other words, one iteration represents exactly one possible distribution.\n",
        "\n",
        "For every distribution, we determine all possible left and right subtrees via recursive calls.\n",
        "There might be multiple possible left and right subtrees.\n",
        "In order to get all unique binary trees, we need to construct the cartesian product of all possible left and right subtrees for the same distribution.\n",
        "This is what the two inner-most for-loops do.\n",
        "\n",
        "#### Implementation details\n",
        "\n",
        "Note that the function does not return a`list` but an `Iterable` (more specifically a `Generator`).\n",
        "Functions returning a generator object are called _generator functions_ and may not only return but also yield values.\n",
        "The yielded values are exactly the elements in the iterable.\n",
        "Generator functions are computed lazily.\n",
        "\n",
        "Note that the result for the right subtree is collected in a list, whereas we leave the result of the left subtree as-is.\n",
        "For the left subtree's result, this isn't necessary as we iterate only once over it.\n",
        "The result for the right subtree, however, is subject to multiple iterations.\n",
        "If we didn't store the right subtree's result in the list, the iterator would be exhausted after the first iteration."
      ]
    },
    {
      "cell_type": "markdown",
      "id": "bd6bd0c1-822d-47dc-aff2-2a0e4d1f0bf7",
      "metadata": {
        "id": "bd6bd0c1-822d-47dc-aff2-2a0e4d1f0bf7"
      },
      "source": [
        "## Exercice 2\n",
        "Qu'elle est la complexité en espace/temps de l'algorithme ? Une approximation asymptotique est recommandée. Vous aurez besoin de la formule de Stirling pour cela : $n ! \\approx \\sqrt{2 \\pi n}\\left(\\frac{n}{\\mathrm{e}}\\right)^n$"
      ]
    },
    {
      "cell_type": "markdown",
      "id": "85d504c1-3064-4df1-8d3d-f8703c9b64ee",
      "metadata": {
        "id": "85d504c1-3064-4df1-8d3d-f8703c9b64ee"
      },
      "source": [
        "### Explications"
      ]
    },
    {
      "cell_type": "markdown",
      "id": "55dd4727-de5d-4c43-81f8-6009efda9846",
      "metadata": {
        "id": "55dd4727-de5d-4c43-81f8-6009efda9846"
      },
      "source": [
        "#### Expressing the number of iterations in terms of the Catalan number\n",
        "\n",
        "Consider the invocation of `calculate_binary_tree_permutations` (hereafter denoted as $f$) with `internal_node_count = n`.\n",
        "Let us first have a look at what happens within the for-loop, and how the number of iterations in the for loop corresponds to the counter variable $i$:\n",
        "\n",
        "The for-loop's bound, $n - 1$ , is exactly the number internal nodes that are in the subtrees of the currently considered node.\n",
        "Every iteration of the for-loop represents a different distribution of the internal nodes on the two subtrees.\n",
        "In iteration $i$, the left subtree contains exactly $i$ internal nodes and the right subtree contains exactly $n - 1 - i$ internal nodes.\n",
        "We perform one recursive call for the left and the right subtree, respectively, to determine all possible binary trees for the allocated amount of nodes.\n",
        "This yields the two lists $f(i)$ and $f(n - 1 - i)$.\n",
        "\n",
        "Now that we know which trees can occur in the subtrees, we need to create the cartesian product out of the two lists to obtain all possible trees for $n$ internal nodes.\n",
        "For that, we need exactly $|f(i)| * |f(n - 1 - i)|$ iterations.\n",
        "\n",
        "The for-loop has exactly $n$ iterations, namely for values $0, 1, \\dots, n - 1$.\n",
        "For the total number of iterations, we therefore obtain: $\\sum_{i=0}^{n - 1}{f(i) * f(n - 1 - i)}$.\n",
        "This is exactly the Catalan number.\n",
        "\n",
        "To see why the number of results corresponds to the function's complexity here, we need to observe that the loop body does not contain any operations apart from the recursive calls and the yield statement in the the nested loops.\n",
        "This implies that the yield statement is the elemental operation we need to focus on.\n",
        "Note that the number of executed yield statements is exactly the number of determined unique trees.\n",
        "This amount, in turn, is represented by the Catalan number.\n",
        "\n",
        "#### Asymptotic bound of Catalan number\n",
        "\n",
        "The Catalan number ($C_n$) can be expressed as $C_n = \\frac{1}{n + 1} \\binom{2n}{n} = \\frac{(2n)!}{(n + 1)! * n!}$.\n",
        "From this, it follows that:\n",
        "\n",
        "$\n",
        "\\begin{aligned}\n",
        "C_n     & = \\quad   & \\frac{(2n)!}{(n + 1)! * n!} & \\\\\n",
        "        & =         & \\frac{(2n)!}{(n + 1) * n! * n!} & \\quad \\quad (1) \\\\\n",
        "        & \\approx   & \\frac{\\sqrt{2 \\pi * (2n)} * (\\frac{2n}{e})^{2n}}{(n + 1) * (\\sqrt{2 \\pi n} * (\\frac{n}{e})^n)^2} & \\quad \\quad (2) \\\\\n",
        "        & =         & \\frac{2 * \\sqrt{\\pi} * \\sqrt{n} * 4^n * (\\frac{n}{e})^{2n}}{(n + 1) * (\\sqrt{2 \\pi n} * (\\frac{n}{e})^n)^2} & \\quad \\quad (3) \\\\\n",
        "        & =         & \\frac{2 * \\sqrt{\\pi} * \\sqrt{n} * 4^n * (\\frac{n}{e})^{2n}}{(n + 1) * 2 \\pi n * (\\frac{n}{e})^{2n}} & \\\\\n",
        "        & =         & \\frac{4^n}{\\sqrt{\\pi n} * (n + 1)} & \\\\\n",
        "\\end{aligned}\n",
        "$\n",
        "\n",
        "This expression has the asymptotic bound $\\mathcal{O}(4^n)$.\n",
        "\n",
        "Comments on the equalities:\n",
        "\n",
        "1. Apply Stirling's formula: $n ! \\approx \\sqrt{2 \\pi n}\\left(\\frac{n}{\\mathrm{e}}\\right)^n$\n",
        "1. Simplify nominator: Move $2$s out of powers (and roots)\n",
        "1. Simplify denominator\n"
      ]
    }
  ],
  "metadata": {
    "colab": {
      "collapsed_sections": [],
      "provenance": []
    },
    "kernelspec": {
      "display_name": ".venv",
      "language": "python",
      "name": "python3"
    },
    "language_info": {
      "codemirror_mode": {
        "name": "ipython",
        "version": 3
      },
      "file_extension": ".py",
      "mimetype": "text/x-python",
      "name": "python",
      "nbconvert_exporter": "python",
      "pygments_lexer": "ipython3",
      "version": "3.12.6"
    }
  },
  "nbformat": 4,
  "nbformat_minor": 5
}
