{
 "cells": [
  {
   "cell_type": "markdown",
   "id": "3753f8ac-fd3a-4817-9c73-7772af832027",
   "metadata": {
    "id": "3753f8ac-fd3a-4817-9c73-7772af832027"
   },
   "source": [
    "# Série 11\n",
    "Ce document contient les différents exercices à réaliser. Veuillez compléter et rendre ces exercices dans deux semaines.\n",
    "\n",
    "Pour chaque exercice:\n",
    "\n",
    "* implémentez ce qui est demandé\n",
    "* commentez votre code\n",
    "* expliquez **en français** ce que vous avez codé dans la cellule correspondante\n",
    "\n",
    "Dans vos explications à chacun des exercices, indiquez un pourcentage subjectif d'investissement de chaque membre du groupe. Des interrogations aléatoires en classe pourront être réalisées pour vérifier votre contribution/compréhension.\n",
    "\n",
    "Les tentatives infructueuses, les explications, commentaires et analyses des échecs rapportent des points. Ne rendez pas copie-blanche, même si votre fonction n'est pas correcte."
   ]
  },
  {
   "cell_type": "markdown",
   "id": "1fb0b066-c859-40a3-a8d6-7bcc656f8764",
   "metadata": {
    "id": "1fb0b066-c859-40a3-a8d6-7bcc656f8764"
   },
   "source": [
    "## Description\n",
    "Un arbre binaire peut être utilisé pour stocker une liste ordonnée d'éléments de manière à ce que la recherche et les insertions soient efficaces. Un arbre binaire utilisé de cette manière s'appelle un **arbre de tri binaire** (ou BST).\n",
    "\n",
    "Un arbre de tri binaire est un arbre binaire ayant la propriété suivante : pour chaque nœud de l'arbre, l'élément de ce nœud est supérieur à chaque élément du sous-arbre gauche de ce nœud, et il est inférieur ou égal à tous les éléments du sous-arbre droit de ce nœud. L'exemple ci-dessous montre un arbre de tri binaire contenant des éléments de type `String`, mais il en va de même pour les entiers, ou d'autres types comparables.\n"
   ]
  },
  {
   "cell_type": "markdown",
   "id": "lPkQgF0Oq3A2",
   "metadata": {
    "id": "lPkQgF0Oq3A2"
   },
   "source": [
    "![Binary_search_tree.png](data:image/png;base64,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)"
   ]
  },
  {
   "cell_type": "markdown",
   "id": "XJJQVLw0q2iA",
   "metadata": {
    "id": "XJJQVLw0q2iA"
   },
   "source": [
    "## Evaluation\n",
    "Le but de l'évaluation est de montrer expérimentalement, au moyen d'une implémentation et de quelques évaluations simples, l'affirmation $H_0$ suivante :\n",
    ">Si un **arbre de tri binaire** est créé **aléatoirement suivant une loi uniforme**, il y a une forte probabilité que l'arbre soit **approximativement équilibré** (*i.e.*, l'écart type de la distribution de la profondeur des feuilles est faible)."
   ]
  },
  {
   "cell_type": "markdown",
   "id": "1AdPQLUaCOE2",
   "metadata": {
    "id": "1AdPQLUaCOE2"
   },
   "source": [
    "### Exercice 1\n",
    "Testez la structure de données fournie en implémentant la méthode `to_sorted_list` qui retourne une liste avec les éléments ordonnés contenu dans l'arbre, du plus petit au plus grand."
   ]
  },
  {
   "cell_type": "code",
   "execution_count": null,
   "id": "f7d53256-24f6-4c2c-860f-2b0577daf6db",
   "metadata": {
    "id": "f7d53256-24f6-4c2c-860f-2b0577daf6db"
   },
   "outputs": [],
   "source": [
    "# Un objet de type TreeNode représente un nœud.\n",
    "class TreeNode():\n",
    "    def __init__ (self, item):\n",
    "        self.item = item\n",
    "        self.left = None    # Objet TreeNode qui pointe vers le sous-arbre gauche.\n",
    "        self.right = None   # Objet TreeNode qui pointe vers le sous-arbre droit.\n",
    "\n",
    "class Tree:\n",
    "    def __init__(self):\n",
    "        self.root = None\n",
    "\n",
    "    # Ajouter l'élément à l'arbre de tri binaire auquel la variable globale \"root\" fait référence.\n",
    "    # (Notez que root ne peut pas être passée comme paramètre à cette routine\n",
    "    # car la valeur de root pourrait changer, et un changement de la valeur\n",
    "    # d'un paramètre formel ne change pas le paramètre réel).\n",
    "    # new_item: String\n",
    "    def insert(self, new_item):\n",
    "        # L'arbre est vide.  Définissez la racine pour qu'elle pointe vers un nouveau\n",
    "        # nœud contenant le nouvel élément.\n",
    "        if self.root == None:\n",
    "            self.root = TreeNode(new_item)\n",
    "            return\n",
    "        # Descend dans l'arbre pour trouver une place pour new_item.\n",
    "        # Nous commençons par la racine\n",
    "        runner = self.root\n",
    "        while(True):\n",
    "            # Puisque le nouvel élément est inférieur à l'élément runner,\n",
    "            # il appartient au sous-arbre gauche du coureur.\n",
    "            # S'il y a un espace libre à runner.left, ajoutez-y un nœud.\n",
    "            # Sinon, avancez runner d'un niveau vers la gauche.\n",
    "            if new_item < runner.item:\n",
    "                if runner.left == None:\n",
    "                    runner.left = TreeNode(new_item)\n",
    "                    # Un nouvel élément a été ajouté à l'arbre\n",
    "                    return\n",
    "                else:\n",
    "                    runner = runner.left\n",
    "            # Puisque le nouvel élément est supérieur ou égal à l'élément runner,\n",
    "            # il appartient au sous-arbre droit de runner.\n",
    "            # S'il y a un espace libre à runner.right, ajoutez-y un nouveau nœud.\n",
    "            # Sinon, avancez runner d'un niveau vers la droite.\n",
    "            else:\n",
    "                if runner.right == None:\n",
    "                    runner.right = TreeNode(new_item)\n",
    "                    # Un nouvel élément a été ajouté à l'arbre.\n",
    "                    return\n",
    "                else:\n",
    "                    runner = runner.right\n",
    "\n",
    "    # Retourne True si item est un des items de l'arbre de tri binaire vers lequel le nœud pointe.\n",
    "    # Retourne False si ce n'est pas le cas.\n",
    "    def contains(self, item):\n",
    "        # Retourne True si item est un des items de l'arbre de tri binaire vers lequel le nœud pointe.\n",
    "        # Retourne False si ce n'est pas le cas\n",
    "        def contains_internal(node, item):\n",
    "            # L'arbre est vide, il ne contient donc certainement pas d'élément.\n",
    "            if node == None:\n",
    "                return False\n",
    "            # Oui, l'élément a été trouvé dans le nœud racine.\n",
    "            elif item == node.item:\n",
    "                return True\n",
    "            # Si l'élément apparaît, il doit se trouver dans le sous-arbre de gauche\n",
    "            # On renvoie le résultat de la recherche dans le sous-arbre de gauche\n",
    "            elif item < node.item:\n",
    "                return contains_internal(node.left, item)\n",
    "            # Si l'élément apparaît, il doit se trouver dans le sous-arbre de droite\n",
    "            # On renvoie le résultat de la recherche dans le sous-arbre de droite\n",
    "            else:\n",
    "                return contains_internal(node.right, item)\n",
    "\n",
    "        return contains_internal(self.root, item)\n",
    "\n",
    "    # Crée une liste ordonnée croissante des élément du BST\n",
    "    def to_sorted_list(self):\n",
    "        # A COMPLETER\n",
    "        raise NotImplementedError"
   ]
  },
  {
   "cell_type": "code",
   "execution_count": null,
   "id": "236e8517",
   "metadata": {
    "id": "236e8517",
    "scrolled": true
   },
   "outputs": [],
   "source": [
    "t = Tree()\n",
    "# les lettres de l'alphabet latin sont comparables en Python\n",
    "t.insert(\"d\")\n",
    "t.insert(\"b\")\n",
    "t.insert(\"f\")\n",
    "t.insert(\"c\")\n",
    "t.insert(\"a\")\n",
    "t.insert(\"e\")\n",
    "t.insert(\"g\")\n",
    "sorted_list = t.to_sorted_list()\n",
    "assert [\"a\", \"b\", \"c\", \"d\", \"e\", \"f\", \"g\"] == sorted_list\n",
    "assert t.contains(\"a\")\n",
    "assert not t.contains(\"z\")"
   ]
  },
  {
   "cell_type": "markdown",
   "id": "7199294e",
   "metadata": {
    "id": "7199294e",
    "scrolled": false
   },
   "source": [
    "### Exercice 2\n",
    "Créez un arbre de tri binaire aléatoire suivant $U[\\![0;1000]\\!]$ avec $2^{15}$ (32'768) nœuds. Vous pouvez remplir l'arbre en utilisant la méthode `insert` (voir le code source). Affichez les nombres du plus petits aux plus grands."
   ]
  },
  {
   "cell_type": "code",
   "execution_count": null,
   "id": "79e41d96",
   "metadata": {
    "id": "79e41d96"
   },
   "outputs": [],
   "source": [
    "# A COMPLETER"
   ]
  },
  {
   "cell_type": "markdown",
   "id": "2ca32f2e-e995-477c-8535-62f6e42dc093",
   "metadata": {
    "id": "2ca32f2e-e995-477c-8535-62f6e42dc093"
   },
   "source": [
    "### Exercice 3\n",
    "Calculez et affichez la profondeur moyenne de toutes les feuilles de l'arbre créé dans l'exercice 2.\n",
    "\n",
    "Pour vous aider vous pourriez créer un petit fichier texte appelé `depths.txt`, avec la profondeur de chaque feuille, une valeur par ligne. Mais vous pouvez utiliser une variable pour stocker l'information. Une liste ferait l'affaire.\n",
    "\n",
    "Pour ce faire, vous aurez besoin de deux fonctions récursives : une pour compter les feuilles et une pour trouver la somme des profondeurs de toutes les feuilles. Cette dernière routine doivent accepter un paramètre de type entier (depth), qui indique à quelle profondeur de l'arbre vous êtes allés. Lorsque vous appelez cette routine de manière récursive, la valeur de la profondeur augmente de 1. Vous êtes libre de définir des paramètres additionels, mais la récusivité est exigée pour cet exercice."
   ]
  },
  {
   "cell_type": "code",
   "execution_count": null,
   "id": "d79e6061",
   "metadata": {
    "id": "d79e6061"
   },
   "outputs": [],
   "source": [
    "# Fonction qui compte le nombre total de feuilles de manière récursive.\n",
    "def count_leaves(root):\n",
    "    # A COMPLETER\n",
    "    return None\n",
    "\n",
    "# Fonction qui calcule la somme des profondeurs de chaque feuille de l'arbre de manière récursive.\n",
    "def sum_depth(root, depth, file):\n",
    "    # A COMPLETER\n",
    "    return None"
   ]
  },
  {
   "cell_type": "code",
   "execution_count": null,
   "id": "795eafc0",
   "metadata": {
    "id": "795eafc0"
   },
   "outputs": [],
   "source": [
    "print(\"Number of leaves:\")\n",
    "counter = count_leaves(random_tree.root)\n",
    "print(counter)\n",
    "print(\"Sum of depth of all leaves\")\n",
    "# Utiliser f.write(...) dans la fonction sum_depth() pour écrire dans depths.txt\n",
    "with open(\"depths.txt\", 'a+') as file:\n",
    "    s = sum_depth(random_tree.root, 1, file)\n",
    "print(s)\n",
    "print(\"Average depth:\")\n",
    "print(s/counter)"
   ]
  },
  {
   "cell_type": "markdown",
   "id": "a557c604",
   "metadata": {
    "id": "a557c604"
   },
   "source": [
    "#### Exercice 3.1 (<font color='#db60cf'>Bonus</font>)\n",
    "Reportez dans un graphique la distribution des profondeurs des feuilles (il y a `counter` feuilles à afficher sur un histogramme). Vous pourrez vous aider en utilisant [Matplotlib](https://matplotlib.org/), un outil de visualisation pour Python. Matplotlib est déjà inclu dans la plupart des plateforms en ligne de Jupyter Notebook (notamment Colab)."
   ]
  },
  {
   "cell_type": "code",
   "execution_count": null,
   "id": "9672b987",
   "metadata": {
    "id": "9672b987"
   },
   "outputs": [],
   "source": [
    "import matplotlib.pyplot as plt\n",
    "# A COMPLETER"
   ]
  },
  {
   "cell_type": "markdown",
   "id": "I1QJaxTO4Ru1",
   "metadata": {
    "id": "I1QJaxTO4Ru1"
   },
   "source": [
    "Ce résultat semble-t-il dans le sens de l'hypothèse $H_0$ formulée plus tôt ? Quel serait l'intérêt qu'une telle hypothèse fût vraie ? Quelle allure aurait l'histogramme si le BST était parfaitement équilibré ?"
   ]
  },
  {
   "cell_type": "markdown",
   "id": "Igj6jRS_5QeM",
   "metadata": {
    "id": "Igj6jRS_5QeM"
   },
   "source": [
    "<< A COMPLÉTER >>"
   ]
  },
  {
   "cell_type": "markdown",
   "id": "v_dJqBGr9cVN",
   "metadata": {
    "id": "v_dJqBGr9cVN"
   },
   "source": [
    "Faites varier la limite supérieure en paramètre de votre générateur uniforme d'entiers parmi `np.arange(50, 500, 10)` en prenant soin de conserver à chaque fois l'écart type et la moyenne de la distribution. Que remarquez-vous ? Comment l'expliqueriez-vous ?"
   ]
  },
  {
   "cell_type": "code",
   "execution_count": null,
   "id": "pVUTGJG49btU",
   "metadata": {
    "id": "pVUTGJG49btU"
   },
   "outputs": [],
   "source": [
    "import numpy as np\n",
    "import statistics\n",
    "import tqdm\n",
    "\n",
    "means, stddevs = [], []\n",
    "\n",
    "for largest_possible_number in tqdm.tqdm(np.arange(50, 500, 10)):\n",
    "    #                          ^^^^^^^^^-- petite visualisation pratique !\n",
    "\n",
    "    # A COMPLETER\n",
    "\n",
    "    # créer un arbre ;\n",
    "    # le remplir de 2^15 éléments suivant U[[0,largest_possible_number]] ;\n",
    "    # depths_list = [profondeurs des feuilles], de taille N_feuilles\n",
    "    # stddevs.append(statistics.stdev(depths_list))\n",
    "    # means.append(statistics.mean(depths_list))\n",
    "\n",
    "# plot de l'écart-type et de la moyenne en fonction du paramètre de loi uniforme lors de la création du BST\n",
    "plt.subplot(1, 2, 1)\n",
    "plt.plot(np.arange(50, 500, 10), stddevs)\n",
    "plt.subplot(1, 2, 2)\n",
    "plt.plot(np.arange(50, 500, 10), means)"
   ]
  },
  {
   "cell_type": "markdown",
   "id": "3aHeKXDLBi-9",
   "metadata": {
    "id": "3aHeKXDLBi-9"
   },
   "source": [
    "<< A COMPLÉTER >>"
   ]
  }
 ],
 "metadata": {
  "colab": {
   "provenance": []
  },
  "interpreter": {
   "hash": "4d627b3ea71e790ed7d9c294cc76e400708b53c97c06f52348911b9296e7b669"
  },
  "kernelspec": {
   "display_name": "Python 3 (ipykernel)",
   "language": "python",
   "name": "python3"
  },
  "language_info": {
   "codemirror_mode": {
    "name": "ipython",
    "version": 3
   },
   "file_extension": ".py",
   "mimetype": "text/x-python",
   "name": "python",
   "nbconvert_exporter": "python",
   "pygments_lexer": "ipython3",
   "version": "3.9.7"
  }
 },
 "nbformat": 4,
 "nbformat_minor": 5
}
