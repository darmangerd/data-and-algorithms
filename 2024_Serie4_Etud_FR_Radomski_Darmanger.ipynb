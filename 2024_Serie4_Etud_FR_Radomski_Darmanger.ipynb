{
  "cells": [
    {
      "cell_type": "markdown",
      "id": "3753f8ac-fd3a-4817-9c73-7772af832027",
      "metadata": {
        "id": "3753f8ac-fd3a-4817-9c73-7772af832027"
      },
      "source": [
        "**Série 4**\n",
        "\n",
        "Ce document contient les différents exercices à réaliser. Vous avez deux semaines pour compléter et soumettre cet exercice.\n",
        "\n",
        "Pour chaque exercice:\n",
        "* implémentez ce qui est demandé\n",
        "* commentez votre code \n",
        "* expliquez **en français or English** ce que vous avez codé dans la cellule correspondante"
      ]
    },
    {
      "cell_type": "markdown",
      "id": "1fb0b066-c859-40a3-a8d6-7bcc656f8764",
      "metadata": {
        "id": "1fb0b066-c859-40a3-a8d6-7bcc656f8764"
      },
      "source": [
        "## Exercice 1\n",
        "Concevez un algorithme pour **énumérer tous les arbres binaires** d'une taille N donnée, où N correspond au nombre de noeuds (vertex) ; le N ne prend pas en compte les feuilles. Les noeuds feuilles sont représentés par ceci \"(..)\": une parenthèse ouverte '(', deux points '..' - représentant les deux feuilles- et une parenthèse fermée ')'.\n",
        "\n",
        "Le programme final doit afficher la liste des arbres binaires de la taille spécifiée, un arbre par ligne. Pour N=3, il y a un total de 5 arbres binaires. L'output doit être une séquence de parenthèses et points, comme ceci:\n",
        "\n",
        "    (((..).).)\n",
        "    ((.(..)).)\n",
        "    ((..)(..))\n",
        "    (.((..).))\n",
        "    (.(.(..)))\n",
        "    \n",
        "Implémentez et testez un algorithme récursif qui résout le problème. Donnez une solution pour N=[1,10]\n",
        "\n",
        "Pour tester votre solution (\"est-ce que la solution retourne le nombre correct d'arbres?\"), vous devez lire, ~comprendre, implémenter et tester la formule qui calcule le nombre de Catalan pour un N donné:\n",
        "\n",
        "C<sub>n</sub> = $\\frac{(2n)!}{(n+1)!n!}$\n",
        "\n",
        "Aide: https://fr.wikipedia.org/wiki/Nombre_de_Catalan"
      ]
    },
    {
      "cell_type": "code",
      "execution_count": null,
      "id": "f7d53256-24f6-4c2c-860f-2b0577daf6db",
      "metadata": {
        "id": "f7d53256-24f6-4c2c-860f-2b0577daf6db"
      },
      "outputs": [],
      "source": [
        "def catalan_nb(n: int):\n",
        "    # A COMPLETER\n",
        "    return None"
      ]
    },
    {
      "cell_type": "code",
      "execution_count": null,
      "id": "c1fd10ee-e325-40e9-8e21-081905a50ec5",
      "metadata": {
        "id": "c1fd10ee-e325-40e9-8e21-081905a50ec5"
      },
      "outputs": [],
      "source": [
        "assert catalan_nb(3) == 5\n",
        "assert catalan_nb(5) == 42\n",
        "assert catalan_nb(8) == 1430"
      ]
    },
    {
      "cell_type": "code",
      "execution_count": null,
      "id": "606f188a-c1c6-4632-8388-a0aa9a7c5e7e",
      "metadata": {
        "id": "606f188a-c1c6-4632-8388-a0aa9a7c5e7e",
        "tags": []
      },
      "outputs": [],
      "source": [
        "# A COMPLETER\n",
        "# Vous n'êtes pas obligés d'utiliser cette méthode avec cette signature. Vous pouvez créer d'autres classes/méthodes\n",
        "def get_all_B_Trees(n: int):\n",
        "    # A COMPLETER\n",
        "    pass"
      ]
    },
    {
      "cell_type": "markdown",
      "id": "3aa59e32-d9bb-4f5b-93f6-8298879a8bfe",
      "metadata": {
        "id": "3aa59e32-d9bb-4f5b-93f6-8298879a8bfe"
      },
      "source": [
        "### Solutions\n",
        "Ecrivez ci-dessous votre réponse pour N=[1,10]\n",
        "\n",
        "<< A REMPLIR PAR L'ETUDIANT >>"
      ]
    },
    {
      "cell_type": "markdown",
      "id": "2ca32f2e-e995-477c-8535-62f6e42dc093",
      "metadata": {
        "id": "2ca32f2e-e995-477c-8535-62f6e42dc093",
        "tags": []
      },
      "source": [
        "### Explications\n",
        "Expliquez comment votre algorithme fonctionne"
      ]
    },
    {
      "cell_type": "markdown",
      "id": "f5a17952-cba5-4bc4-9a41-aa68a0b0d806",
      "metadata": {
        "id": "f5a17952-cba5-4bc4-9a41-aa68a0b0d806"
      },
      "source": [
        "<< A REMPLIR PAR L'ETUDIANT >>"
      ]
    },
    {
      "cell_type": "markdown",
      "id": "bd6bd0c1-822d-47dc-aff2-2a0e4d1f0bf7",
      "metadata": {
        "id": "bd6bd0c1-822d-47dc-aff2-2a0e4d1f0bf7"
      },
      "source": [
        "## Exercice 2\n",
        "Qu'elle est la complexité en espace/temps de l'algorithme ? Une approximation asymptotique est recommandée. Vous aurez besoin de la formule de Stirling pour cela : $n ! \\approx \\sqrt{2 \\pi n}\\left(\\frac{n}{\\mathrm{e}}\\right)^n$"
      ]
    },
    {
      "cell_type": "markdown",
      "id": "85d504c1-3064-4df1-8d3d-f8703c9b64ee",
      "metadata": {
        "id": "85d504c1-3064-4df1-8d3d-f8703c9b64ee"
      },
      "source": [
        "### Explications"
      ]
    },
    {
      "cell_type": "markdown",
      "id": "55dd4727-de5d-4c43-81f8-6009efda9846",
      "metadata": {
        "id": "55dd4727-de5d-4c43-81f8-6009efda9846"
      },
      "source": [
        "<< A REMPLIR PAR L'ETUDIANT >>"
      ]
    }
  ],
  "metadata": {
    "colab": {
      "collapsed_sections": [],
      "provenance": []
    },
    "kernelspec": {
      "display_name": "Python",
      "language": "python",
      "name": "python3"
    },
    "language_info": {
      "codemirror_mode": {
        "name": "ipython",
        "version": 3
      },
      "file_extension": ".py",
      "mimetype": "text/x-python",
      "name": "python",
      "nbconvert_exporter": "python",
      "pygments_lexer": "ipython3",
      "version": "3.8.10"
    }
  },
  "nbformat": 4,
  "nbformat_minor": 5
}
