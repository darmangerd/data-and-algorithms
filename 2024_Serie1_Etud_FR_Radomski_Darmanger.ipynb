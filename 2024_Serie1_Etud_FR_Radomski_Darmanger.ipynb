{
  "cells": [
    {
      "cell_type": "markdown",
      "id": "9aec3600-4aba-4aca-8b31-fafd437386b0",
      "metadata": {
        "id": "9aec3600-4aba-4aca-8b31-fafd437386b0"
      },
      "source": [
        "# Série 1\n",
        "Ce document contient les différents exercices à réaliser. Veuillez compléter et rendre ces exercices pour la semaine prochaine.\n",
        "\n",
        "Pour chaque exercice:\n",
        "* implémentez ce qui est demandé\n",
        "* commentez votre code\n",
        "* expliquez **en français** ce que vous avez codé dans la cellule correspondante\n",
        "\n",
        "Dans vos explications à chacun des exercices, indiquez un pourcentage subjectif d'investissement de chaque membre du groupe. **Des interrogations aléatoires en classe pourront être réalisées pour vérifier votre contribution/compréhension.**"
      ]
    },
    {
      "cell_type": "markdown",
      "id": "c048d1b5-ae84-420b-ad75-54022ad3d823",
      "metadata": {
        "id": "c048d1b5-ae84-420b-ad75-54022ad3d823"
      },
      "source": [
        "## Exercice 1\n",
        "Le PGCD (plus grand commun diviseur) est le plus grand nombre entier qui divise simultanément deux autres nombres entiers.\n",
        "\n",
        "Implémentez l'algorithme d'Euclide permettant de calculer le PGCD de deux nombres entiers. Vous trouverez plus d'informations concernant l'algorithme d'Euclide en cliquant sur ce [lien](https://en.wikipedia.org/wiki/Greatest_common_divisor#Euclid's_algorithm)."
      ]
    },
    {
      "cell_type": "code",
      "execution_count": 7,
      "id": "530b3d63-e9ed-4be6-ba5b-e814dd41e0da",
      "metadata": {
        "id": "530b3d63-e9ed-4be6-ba5b-e814dd41e0da"
      },
      "outputs": [],
      "source": [
        "def gcd(n: int, m: int):\n",
        "    result = 0\n",
        "    # A COMPLETER\n",
        "    while m != 0:\n",
        "        n, m = m, n%m\n",
        "        #          ^-- modulo operator!\n",
        "        result = n\n",
        "    return result"
      ]
    },
    {
      "cell_type": "code",
      "execution_count": 8,
      "id": "102485ed-c85e-44f3-ae2f-9023bdffc948",
      "metadata": {
        "id": "102485ed-c85e-44f3-ae2f-9023bdffc948"
      },
      "outputs": [],
      "source": [
        "assert gcd(9,6) == 3\n",
        "assert gcd(6, 9) == 3\n",
        "assert gcd(24,32) == 8\n",
        "assert gcd(18,18) == 18\n",
        "assert not gcd(10,15) == 10\n",
        "assert not gcd(12,9) == 4\n",
        "assert not gcd(14,14) == 34"
      ]
    },
    {
      "cell_type": "markdown",
      "id": "a16a16c3-0418-4825-af9c-86694192e9f5",
      "metadata": {
        "id": "a16a16c3-0418-4825-af9c-86694192e9f5"
      },
      "source": [
        "### Explications"
      ]
    },
    {
      "cell_type": "markdown",
      "id": "cae476f0-400c-4ef8-b018-4afa60982a5a",
      "metadata": {
        "id": "cae476f0-400c-4ef8-b018-4afa60982a5a"
      },
      "source": [
        "On utilise la variante \"Euclidean algorithm\", pour calculer le plus grand diviseur commun entre deux nombres. On va utiliser le reste de la division euclidienne pour trouver le PGCD. On va répéter l'opération jusqu'à ce que le reste soit égal à 0. Le dernier diviseur est le PGCD.\n",
        "\n",
        "#### Algorithme : gcd(n, m)\n",
        "1. Tant que le deuxième nombre (`m`) n'est pas égal à 0 :\n",
        "   - On remplace `n` par `m` et `m` par `n % m`.\n",
        "2. Quand `m` est égal à 0, `n` contient le PGCD des deux nombres de départ.\n",
        "\n",
        "Autrement dit, on continue de remplacer `n` et `m` jusqu'à ce que le reste (`m`) devienne 0. Le dernier `n` est alors le PGCD.\n",
        "\n",
        "\n",
        "#### Exemple :\n",
        "gcd(48,18) = 6 car :\n",
        "- 48 % 18 = 12\n",
        "- 18 % 12 = 6\n",
        "- 12 % 6 = 0\n",
        "- donc 6 est le PGCD de 48 et 18"
      ]
    },
    {
      "cell_type": "markdown",
      "id": "f4caa6ca-084e-45ea-bf26-9ce9ea4c4667",
      "metadata": {
        "id": "f4caa6ca-084e-45ea-bf26-9ce9ea4c4667"
      },
      "source": [
        "## Exercice 2\n",
        "Implémentez une manière de calculer $x^n$ en utilisant la méthode de dichotomie."
      ]
    },
    {
      "cell_type": "code",
      "execution_count": 13,
      "id": "d76d206b-89e0-44f4-bf0d-10f223950c2a",
      "metadata": {
        "id": "d76d206b-89e0-44f4-bf0d-10f223950c2a"
      },
      "outputs": [],
      "source": [
        "def powdi(x: int, n: int) -> int:\n",
        "    if n == 0:\n",
        "        return 1\n",
        "    if n == 1:\n",
        "        return x\n",
        "    if n % 2 == 0:\n",
        "        return powdi(x, n//2) * powdi(x, n//2)\n",
        "        \n",
        "    return x * powdi(x, n//2) * powdi(x, n//2)"
      ]
    },
    {
      "cell_type": "code",
      "execution_count": 14,
      "id": "f3963a0f-8fda-4321-ab94-8856103945c9",
      "metadata": {
        "id": "f3963a0f-8fda-4321-ab94-8856103945c9"
      },
      "outputs": [],
      "source": [
        "assert powdi(2,3) == 8\n",
        "assert powdi(4,2) == 16\n",
        "assert powdi(2,2) == 4\n",
        "assert powdi(4,0) == 1\n",
        "assert powdi(2,1) == 2\n",
        "assert not powdi(5,2) == 10\n",
        "assert not powdi(3,7) == 10\n",
        "assert not powdi(3,3) == 10"
      ]
    },
    {
      "cell_type": "markdown",
      "id": "4f21166a-1dff-44fe-87fa-97721ca66713",
      "metadata": {
        "id": "4f21166a-1dff-44fe-87fa-97721ca66713"
      },
      "source": [
        "### Explications"
      ]
    },
    {
      "cell_type": "markdown",
      "id": "94104e88",
      "metadata": {},
      "source": [
        "Cette méthode pour calculer la $n$-ième puissance de $x$ est de complexité sous-linéaire (sublinear).\n",
        "Contrairement à l'approche naïve qui consiste à multiplier $x$ par lui-même $n$ fois, cette méthode tire parti des lois des exposants (exposant laws). L'idée est de diviser le problème en sous-problèmes plus petits pour optimiser le calcul de la fonction, surtout lorsque `n` devient grand (diviser pour mieux régner).\n",
        "Plus précisément, elle utilise le fait que $x^{2k} = (x^k)^2 = x^k * x^k$.\n",
        "\n",
        "Cette méthode est donc beaucoup plus rapide que la méthode naïve de multiplication répétée, en particulier pour des grands `n`. À chaque étape, on divise `n` par `2`, ce qui réduit la complexité de l'algorithme.\n",
        "\n",
        "\n",
        "Quelques mots maintenant sur l'implémentation : les deux premières instructions \"if\" traitent des cas de base, à savoir $x^0 = 1$ et $x^1 = x$.\n",
        "Une fois que nous avons déterminé que nous ne sommes pas dans l'un de ces cas de base, nous appliquons le schéma ci-dessus.\n",
        "\n",
        "Notez que nous n'utilisons pas l'opérateur de division standard `/`, mais l'opérateur de division entière `//` ([docs](https://docs.python.org/3/reference/expressions.html#binary-arithmetic-operations)).\n",
        "Le résultat d'une division entière est celui d'une division régulière avec la fonction `floor` appliquée à son résultat.\n",
        "En d'autres termes, nous arrondissons toujours vers le bas, jamais vers le haut.\n",
        "Cela ne pose pas de problème lorsque l'on traite des exposants pairs.\n",
        "Cependant, il faut en tenir compte lorsque l'on traite des exposants impairs, car sinon nous manquerions une multiplication par `x`.\n",
        "C'est ce que vérifie la dernière instruction \"if\", et cela explique pourquoi nous multiplions également par `x` lorsqu'il s'agit de nombres impairs.\n",
        "\n",
        "Notez que ce schéma ne fonctionne de cette manière que si nous traitons des exposants entiers.\n",
        "Cette exigence est reflétée dans la signature de la fonction.\n"
      ]
    },
    {
      "cell_type": "markdown",
      "id": "76ff6d14",
      "metadata": {},
      "source": [
        "#### Algorithme :\n",
        "\n",
        "- **Cas `n = 0`** :  \n",
        "  - On retourne `1`, car tout nombre élevé à la puissance `0` est égal à `1`.\n",
        "\n",
        "- **Cas `n = 1`** :  \n",
        "  - On retourne `x`, car tout nombre élevé à la puissance `1` est égal à lui-même (`x`).\n",
        "\n",
        "- **Cas `n` est pair** :  \n",
        "  - On divise `n` par `2` et on calcule `x^(n/2)`, puis on retourne le carré de ce résultat :  \n",
        "    `x^(n/2) * x^(n/2)`.\n",
        "  - Cette approche permet de réduire le nombre d'opérations en réutilisant le résultat intermédiaire.\n",
        "  - **Exemple** : `x^8 = (x^4) * (x^4)`\n",
        "\n",
        "- **Cas `n` est impair** :  \n",
        "  - On divise `n` par `2`, on calcule `x^(n/2)`, puis on retourne le carré de ce résultat multiplié par `x` : \n",
        "    `x^(n/2) * x^(n/2) * x`.\n",
        "  - Cela suit la même logique que dans le cas pair, mais on ajoute `x` à la fin pour compenser le fait que `n` est impair.\n",
        "  - **Exemple** : `x^9 = (x^4) * (x^4) * x`"
      ]
    },
    {
      "cell_type": "markdown",
      "id": "5ed1f459-7bd3-48dc-ac2b-e149c6df6c7f",
      "metadata": {
        "id": "5ed1f459-7bd3-48dc-ac2b-e149c6df6c7f"
      },
      "source": [
        "## Exercice 3\n",
        "La suite de Fibonacci est une suite de nombres entiers dans laquelle chaque nombre $f_{n+2}$ correspond à la somme des deux nombres qui le précèdent, $f_{n+1}+f_{n}$.\n",
        "\n",
        "Implémentez l'algorithme de Fibonacci en utilisant la multiplication matricielle."
      ]
    },
    {
      "cell_type": "code",
      "execution_count": 1,
      "id": "c2865af5-764e-494a-9749-851fdf39cd63",
      "metadata": {
        "id": "c2865af5-764e-494a-9749-851fdf39cd63"
      },
      "outputs": [],
      "source": [
        "import numpy as np\n",
        "import numpy.typing as np_typing\n",
        "\n",
        "type TMatrix = np_typing.NDArray[np.int32] | np_typing.NDArray[np.float64]\n",
        "\n",
        "\n",
        "def powdi(x: TMatrix, n: int) -> TMatrix:\n",
        "    if n == 0:\n",
        "        return np.identity(2)\n",
        "    if n == 1:\n",
        "        return x\n",
        "    if n % 2 == 0:\n",
        "        return powdi(x, n // 2) @ powdi(x, n // 2)\n",
        "\n",
        "    return x @ powdi(x, n // 2) @ powdi(x, n // 2)\n",
        "\n",
        "\n",
        "def fibo(n: int):\n",
        "    f0f1 = np.array([[0], [1]])\n",
        "\n",
        "    # base matrix used to calculate fibonacci numbers\n",
        "    fibonacci_matrix = np.array([[0, 1], [1, 1]])\n",
        "    # calculate the power of the base matrix\n",
        "    fibonacci_matrix_power_n = powdi(fibonacci_matrix, n)\n",
        "\n",
        "    return (fibonacci_matrix_power_n @ f0f1)[0]\n"
      ]
    },
    {
      "cell_type": "code",
      "execution_count": 2,
      "id": "frkDf9GqJ2KD",
      "metadata": {
        "colab": {
          "base_uri": "https://localhost:8080/"
        },
        "id": "frkDf9GqJ2KD",
        "outputId": "c04f3216-826c-422a-a481-8c55dff8f247"
      },
      "outputs": [
        {
          "data": {
            "text/plain": [
              "array([21])"
            ]
          },
          "execution_count": 2,
          "metadata": {},
          "output_type": "execute_result"
        }
      ],
      "source": [
        "fibo(8)"
      ]
    },
    {
      "cell_type": "code",
      "execution_count": 3,
      "id": "YRNKIzdzJrki",
      "metadata": {
        "colab": {
          "base_uri": "https://localhost:8080/"
        },
        "id": "YRNKIzdzJrki",
        "outputId": "d36e8d0f-782b-45ed-d601-39291b83506b"
      },
      "outputs": [
        {
          "data": {
            "text/plain": [
              "array([[13, 21],\n",
              "       [21, 34]])"
            ]
          },
          "execution_count": 3,
          "metadata": {},
          "output_type": "execute_result"
        }
      ],
      "source": [
        "powdi(np.array([[0,1],[1,1]]), 8)"
      ]
    },
    {
      "cell_type": "code",
      "execution_count": 4,
      "id": "75ca81ec-27df-45a1-9464-57e73c08aef7",
      "metadata": {
        "colab": {
          "base_uri": "https://localhost:8080/"
        },
        "id": "75ca81ec-27df-45a1-9464-57e73c08aef7",
        "outputId": "4d18b918-d398-49e4-aa32-cb37c9278c73"
      },
      "outputs": [],
      "source": [
        "assert fibo(8) == 21\n",
        "assert fibo(10) == 55\n",
        "assert fibo(0) == 0\n",
        "assert fibo(1) == 1\n",
        "assert not fibo(5) == 10"
      ]
    },
    {
      "cell_type": "markdown",
      "id": "3f47e9dc-52a3-419a-b944-55a7a0d0a4e7",
      "metadata": {
        "id": "3f47e9dc-52a3-419a-b944-55a7a0d0a4e7"
      },
      "source": [
        "### Explications"
      ]
    },
    {
      "attachments": {},
      "cell_type": "markdown",
      "id": "00cd736a-f752-461e-8540-4bf6e9193b4d",
      "metadata": {
        "id": "00cd736a-f752-461e-8540-4bf6e9193b4d"
      },
      "source": [
        "#### Matrix-based `powdi`\n",
        "\n",
        "The exponent law that we used for the scalar version of `powdi` equally applies to matrices.\n",
        "That is, it holds that $A^{2k} = (A^k)^2 = A^k * A^k$.\n",
        "Because of this, the matrix-based implementation of `powdi` works the same way the scalar version does.\n",
        "\n",
        "Note that we now use the matrix multiplication operator (`@`) instead of the scalar multiplication operator (`*`).\n",
        "\n",
        "#### Matrix-based fibonacci sequence\n",
        "\n",
        "Instead of considering individual members of the Fibonacci sequence, we consider overlapping pairs of adjacent sequence members.\n",
        "We obtain the pairs by moving a sliding window of length 2 over the sequence. \n",
        "The first pair would therefore be $\\left[\\begin{array}{c}\n",
        "f_0 \\\\\n",
        "f_1\n",
        "\\end{array}\\right] = \\left[\\begin{array}{c}\n",
        "0 \\\\\n",
        "1\n",
        "\\end{array}\\right]$, the second one $\\left[\\begin{array}{c}\n",
        "f_1 \\\\\n",
        "f_2\n",
        "\\end{array}\\right] = \\left[\\begin{array}{c}\n",
        "1 \\\\\n",
        "2\n",
        "\\end{array}\\right]$, the third one $\\left[\\begin{array}{c}\n",
        "f_2 \\\\\n",
        "f_3\n",
        "\\end{array}\\right] = \\left[\\begin{array}{c}\n",
        "2 \\\\\n",
        "3\n",
        "\\end{array}\\right]$ and so on and so forth.\n",
        "\n",
        "As shown in exercise 3.1, there is a matrix $A$ such that $A * \\left[\\begin{array}{c}\n",
        "f_n \\\\\n",
        "f_{n+1}\n",
        "\\end{array}\\right] = \\left[\\begin{array}{c}\n",
        "f_{n+1} \\\\\n",
        "f_{n+2}\n",
        "\\end{array}\\right]$.\n",
        "In simple terms, there is a matrix $A$ that transforms the current pair into the next Fibonacci pair.\n",
        "This matrix is called the Fibonacci matrix.\n",
        "\n",
        "Note that we can perform the matrix multiplication again to obtain the element following the next element.\n",
        "More generally, if we start from the base case $F_0 = \\left[\\begin{array}{c}\n",
        "0 \\\\\n",
        "1\n",
        "\\end{array}\\right]$, performing the matrix multiplication $n$ times yields $F_n$.\n",
        "That is, $F_n = A^n * F_0$.\n",
        "The first component of $F_n$ then is the $n$ th member of the Fibonacci sequence.\n",
        "\n",
        "This is precisely what `fibo` does: First, we construct the base case $F_0$. Then, we construct the Fibonacci matrix $A$ and its $n$ th power.\n",
        "We then calculate $F_n$, and access its first element since it contains the $n$ th member of the Fibonacci sequence.\n"
      ]
    },
    {
      "attachments": {},
      "cell_type": "markdown",
      "id": "6d41402d-e2b8-4067-a41d-c2220cfdb932",
      "metadata": {
        "id": "6d41402d-e2b8-4067-a41d-c2220cfdb932"
      },
      "source": [
        "### Exercice 3.1\n",
        "\n",
        "$(1)$ Montrez qu'il existe une matrice $A$ reliant $\\left[\\begin{array}{c}\n",
        "f_n \\\\\n",
        "f_{n+1}\n",
        "\\end{array}\\right]$ à $\\left[\\begin{array}{c}\n",
        "f_{n+1} \\\\\n",
        "f_{n+2}\n",
        "\\end{array}\\right]$ pour tout $n\\in \\mathbb{N}$."
      ]
    },
    {
      "attachments": {},
      "cell_type": "markdown",
      "id": "b97c8f6e-1cb0-4205-b767-15a90d302f42",
      "metadata": {
        "id": "b97c8f6e-1cb0-4205-b767-15a90d302f42"
      },
      "source": [
        "We search a $2 \\times 2$ matrix $A = \\begin{bmatrix}\n",
        "a_{11} & a_{12}\\\\\n",
        "a_{21} & a_{22}\n",
        "\\end{bmatrix}$, such that $A * \\left[\\begin{array}{c}\n",
        "f_n \\\\\n",
        "f_{n+1}\n",
        "\\end{array}\\right] = \\left[\\begin{array}{c}\n",
        "f_{n+1} \\\\\n",
        "f_{n+2}\n",
        "\\end{array}\\right]$. If we consider this line-by-line, we obtain:\n",
        "\n",
        "1. $a_{11} * f_n + a_{12} * f_{n+1}$ and\n",
        "1. $a_{21} * f_n + a_{22} * f_{n+2}$\n",
        "\n",
        "This trivially holds for the matrix $A = \\begin{bmatrix}\n",
        "0 & 1\\\\\n",
        "1 & 1\n",
        "\\end{bmatrix}$, which is exactly the Fibonacci matrix that we used in the previous exercise."
      ]
    },
    {
      "attachments": {},
      "cell_type": "markdown",
      "id": "f0579286",
      "metadata": {},
      "source": [
        "$(2)$ Trouvez alors une expression de $\\left[\\begin{array}{c}\n",
        "f_n \\\\\n",
        "f_{n+1}\n",
        "\\end{array}\\right]$ selon $A$ et  $\\left[\\begin{array}{c}\n",
        "f_0 \\\\\n",
        "f_{1}\n",
        "\\end{array}\\right]$ .\n",
        "\n",
        "It holds that $F_n = A^n * F_0$, with $A$ being the Fibonacci matrix and $F_0$ representing the base case, i.e., $F_0 = \\left[\\begin{array}{c}\n",
        "0 \\\\\n",
        "1\n",
        "\\end{array}\\right]$.\n",
        "This has been previously shown in this exercise."
      ]
    },
    {
      "attachments": {},
      "cell_type": "markdown",
      "id": "H4AmpMoXgwvm",
      "metadata": {
        "id": "H4AmpMoXgwvm"
      },
      "source": [
        "### Exercice 3.2 - (<font color='#db60cf'>Bonus</font>) Une formule analytique pour $f_n$\n",
        "\n",
        "#### Eigenvectors and eigenspace\n",
        "\n",
        "Que peut-on dire de $A$ ? Déterminez ses valeurs propres et ses sous-espaces propres associés."
      ]
    },
    {
      "attachments": {},
      "cell_type": "markdown",
      "id": "v8KEN04Ki9Vu",
      "metadata": {
        "id": "v8KEN04Ki9Vu"
      },
      "source": [
        "##### Eigenvalues\n",
        "\n",
        "For an eigenvector $x$, the following must hold:\n",
        "\n",
        "$Ax = \\lambda x$\n",
        "\n",
        "$Ax - \\lambda x = 0$\n",
        "\n",
        "$(A - \\lambda I) x = 0$\n",
        "\n",
        "If this equation holds for all eigenvectors $x$, this means that the matrix $(A - \\lambda x)$ transforms an infinite amount of vectors to the zero vector.\n",
        "This, in turn, implies that the matrix' determinant must be zero.\n",
        "\n",
        "$det(A - \\lambda I) = 0$\n",
        "\n",
        "$det(\\begin{bmatrix}\n",
        "-\\lambda & 1\\\\\n",
        "1 & 1 - \\lambda\n",
        "\\end{bmatrix}) = 0$\n",
        "\n",
        "$-\\lambda * (1 - \\lambda) - (1 * 1) = 0$\n",
        "\n",
        "$\\lambda^2 - \\lambda - 1 = 0$\n",
        "\n",
        "Solving for $\\lambda$ yields $\\lambda_1 = \\frac{1 + \\sqrt{5}}{2}$ and $\\lambda_2 = \\frac{1 - \\sqrt{5}}{2}$\n",
        "\n",
        "##### Eigenvectors\n",
        "\n",
        "We have previously shown that the following equation must hold for all eigenvectors $x$:\n",
        "\n",
        "$(A - \\lambda I) x = 0$\n",
        "\n",
        "$(\\begin{bmatrix}\n",
        "-\\lambda & 1\\\\\n",
        "1 & 1 - \\lambda\n",
        "\\end{bmatrix}) x = 0$\n",
        "\n",
        "We determined two eigenvalues (i.e., values for $\\lambda$) in the previous section, meaning that the matrix is now fully known.\n",
        "Solving this equation is equal to determining the matrix' null space.\n",
        "\n",
        "We first determine the null space for $\\lambda_1 = \\frac{1 + \\sqrt{5}}{2}$:\n",
        "\n",
        "$\\begin{bmatrix}\n",
        "-\\lambda_1 & 1\\\\\n",
        "1 & 1 - \\lambda_1\n",
        "\\end{bmatrix}$\n",
        "\n",
        "$\\begin{bmatrix}\n",
        "-(\\frac{1}{2} + \\frac{\\sqrt{5}}{2}) & 1\\\\\n",
        "1 & 1 - (\\frac{1}{2} + \\frac{\\sqrt{5}}{2})\n",
        "\\end{bmatrix}$\n",
        "\n",
        "$\\begin{bmatrix}\n",
        "-\\frac{1}{2} - \\frac{\\sqrt{5}}{2} & 1\\\\\n",
        "1 & \\frac{1}{2} - \\frac{\\sqrt{5}}{2}\n",
        "\\end{bmatrix}$\n",
        "\n",
        "Multiplying the first row with $-\\frac{2}{1 + \\sqrt{5}}$ (reciprocal of the top-left cell) yields:\n",
        "\n",
        "$\\begin{bmatrix}\n",
        "-\\frac{1}{2} - \\frac{\\sqrt{5}}{2} & 1\\\\\n",
        "1 & \\frac{1}{2} - \\frac{\\sqrt{5}}{2}\n",
        "\\end{bmatrix}$\n",
        "\n",
        "$\\begin{bmatrix}\n",
        "1 & -\\frac{2}{1 + \\sqrt{5}}\\\\\n",
        "1 & \\frac{1 - \\sqrt{5}}{2}\n",
        "\\end{bmatrix}$\n",
        "\n",
        "The first row now equals the second row.\n",
        "This can be demonstrated as follows:\n",
        "\n",
        "$-\\frac{2}{1 + \\sqrt{5}}$\n",
        "\n",
        "$-\\frac{2}{1 + \\sqrt{5}} * \\frac{\\sqrt{5} - 1}{\\sqrt{5} - 1}$\n",
        "\n",
        "$-\\frac{2 * (\\sqrt{5} - 1)}{5 - 1}$\n",
        "\n",
        "$-\\frac{\\sqrt{5} - 1}{2}$\n",
        "\n",
        "$\\frac{1 - \\sqrt{5}}{2}$\n",
        "\n",
        "The fact that the two rows must be equal can also be shown without explicitly showing the equivalence.\n",
        "Recall that the matrix' determinant zero, which is equivalent to saying that the matrix is not full-rank.\n",
        "This, in turn, means that both rows contain the same information, which is why it is possible to eliminate one row by the other.\n",
        "Subtracting the first row from the second yields:\n",
        "\n",
        "$\\begin{bmatrix}\n",
        "1 & \\frac{1 - \\sqrt{5}}{2}\\\\\n",
        "0 & 0\n",
        "\\end{bmatrix}$\n",
        "\n",
        "With $x_2 = t$, we obtain:\n",
        "\n",
        "$x_1 + \\frac{1 - \\sqrt{5}}{2} * t = 0$\n",
        "\n",
        "$x_1 = - \\frac{1 - \\sqrt{5}}{2} * t$\n",
        "\n",
        "This leaves us with the following eigenvectors:\n",
        "\n",
        "$u(t) = \\begin{pmatrix}\n",
        "\\frac{\\sqrt{5} - 1}{2} * t\\\\\n",
        "t\n",
        "\\end{pmatrix}$\n",
        "\n",
        "Repeating this entire process allows us to obtain the eigenvectors $v(t)$ for our second eigenvalue $\\lambda_2 = \\frac{1 - \\sqrt{5}}{2}$:\n",
        "\n",
        "$v(t) = \\begin{pmatrix}\n",
        "-\\frac{\\sqrt{5} + 1}{2} * t\\\\\n",
        "t\n",
        "\\end{pmatrix}$\n",
        "\n",
        "##### Eigenspace\n",
        "\n",
        "The vectors $u(t)$ and $v(t)$, alongside with the zero vector, form the eigenspace of $A$.\n"
      ]
    },
    {
      "attachments": {},
      "cell_type": "markdown",
      "id": "PZjl6-cZi_kO",
      "metadata": {
        "id": "PZjl6-cZi_kO"
      },
      "source": [
        "#### Analytical solution for $f_n$\n",
        "\n",
        "En utilisant $(2)$, en déduire une forme analytique de $f_n$."
      ]
    },
    {
      "attachments": {},
      "cell_type": "markdown",
      "id": "2pv0qd4JjBfy",
      "metadata": {
        "id": "2pv0qd4JjBfy"
      },
      "source": [
        "Recall that $F_n = A^n * F_0$.\n",
        "By using the matrix-based version of `powdi`, this already allows us to determine the $n$ th member of the Fibonacci sequence in sublinear time.\n",
        "However, we need to acknowledge that we're not only determining one element of the sequence but an entire pair.\n",
        "Discarding the second result does not simplify the computation, as we still need to raise the entire matrix $A$ to the $n$ th power.\n",
        "This affects the constant part of the algorithm's complexity.\n",
        "\n",
        "We can leverage the properties of eigenvectors to avoid raising $A$ to the $n$ th power.\n",
        "Recall that multiplying some matrix $A$ with an eigenvector $x$ of that matrix does not change the direction of $x$ but only scales it.\n",
        "The scaling factor is exactly the eigenvector's eigenvalue.\n",
        "\n",
        "As a first step, let's try to express the base case $F_0 = \\begin{pmatrix}\n",
        "0 \\\\\n",
        "1\n",
        "\\end{pmatrix}$ in terms of eigenvectors.\n",
        "For simplicity, we choose the eigenvectors $u(1)$ and $v(1)$.\n",
        "We will come to why this is useful in just a second.\n",
        "\n",
        "By solving the linear equation $x * u(1) + y * v(1) = \\begin{pmatrix}\n",
        "0 \\\\\n",
        "1\n",
        "\\end{pmatrix}$, we determine that the following holds:\n",
        "\n",
        "$F_0 = \\frac{5 + \\sqrt{5}}{10} * u(1) + \\frac{5 - \\sqrt{5}}{10} * v(1)$\n",
        "\n",
        "For $F_n$ therefore follows:\n",
        "\n",
        "$F_n = A^n * (\\frac{5 + \\sqrt{5}}{10} * u(1) + \\frac{5 - \\sqrt{5}}{10} * v(1))$\n",
        "\n",
        "$F_n = \\frac{5 + \\sqrt{5}}{10} * A^n * u(1) + \\frac{5 - \\sqrt{5}}{10} * A^n * v(1)$\n",
        "\n",
        "The fact that matrix multiplication is distributive allowed us to turn a single vector-matrix multiplication ($A^n * F_0$) into two separate ones.\n",
        "Note that the separate vector-matrix-multiplications only involve eigenvectors, which allows us to express the vector-matrix-multiplication in terms of the eigenvectors' eigenvalues:\n",
        "\n",
        "$F_n = \\frac{5 + \\sqrt{5}}{10} * \\lambda_1^n * u(1) + \\frac{5 - \\sqrt{5}}{10} * \\lambda_2^n * v(1)$\n",
        "\n",
        "Note that $F_n$ still represents a pair, but that the two components of $F_n$ can now be computed independently of one another.\n",
        "The first component (i.e., the component containing the value of $f_n$) can therefore be calculated as follows:\n",
        "\n",
        "$f_n = \\frac{5 + \\sqrt{5}}{10} * (\\frac{1 + \\sqrt{5}}{2})^n * \\frac{\\sqrt{5} - 1}{2} + \\frac{5 - \\sqrt{5}}{10} * (\\frac{1 - \\sqrt{5}}{2})^n * (-\\frac{\\sqrt{5} + 1}{2})$"
      ]
    },
    {
      "cell_type": "markdown",
      "id": "07be6c36-643f-4951-b68c-8b792565eda7",
      "metadata": {
        "id": "07be6c36-643f-4951-b68c-8b792565eda7"
      },
      "source": [
        "## Exercice 4\n",
        "Implémentez et testez les 3 versions de l'algorithme calculant la sous-suite de somme maximale, c'est-à-dire:\n",
        "* 3 boucles imbriquées\n",
        "* 2 boucles imbriquées\n",
        "* une seule boucle (Kadane)"
      ]
    },
    {
      "cell_type": "code",
      "execution_count": 42,
      "id": "d882174a-af35-4cc5-9b63-80afab0c5500",
      "metadata": {
        "id": "d882174a-af35-4cc5-9b63-80afab0c5500"
      },
      "outputs": [],
      "source": [
        "import typing\n",
        "\n",
        "def maxSub3(sequence: typing.Sequence[int]) -> int:\n",
        "    maxSum = 0\n",
        "    \n",
        "    for lowerBoundInclusive in range(len(sequence)):\n",
        "        for upperBoundInclusive in range(lowerBoundInclusive, len(sequence)):\n",
        "            currentSum = 0\n",
        "\n",
        "            for intervalIdx in range(lowerBoundInclusive, upperBoundInclusive + 1):\n",
        "                currentSum += sequence[intervalIdx]\n",
        "\n",
        "            if currentSum > maxSum:\n",
        "                maxSum = currentSum\n",
        "\n",
        "    return maxSum\n",
        "\n",
        "def maxSub2(sequence: list[int]) -> int:\n",
        "    maxSum = 0\n",
        "    \n",
        "    for lowerBound in range(len(sequence)):\n",
        "        currentSum = 0\n",
        "\n",
        "        for upperBound in range(lowerBound, len(sequence)):\n",
        "            currentSum += sequence[upperBound]\n",
        "\n",
        "            if currentSum > maxSum:\n",
        "                maxSum = currentSum\n",
        "\n",
        "    return maxSum\n",
        "\n",
        "def maxSub1(sequence: typing.Sequence[int]) -> int:\n",
        "    maxSum = 0\n",
        "    currentSum = 0\n",
        "\n",
        "    for it in sequence:\n",
        "        currentSum += it\n",
        "\n",
        "        if currentSum > maxSum:\n",
        "            maxSum = currentSum\n",
        "        if currentSum < 0:\n",
        "            currentSum = 0\n",
        "\n",
        "    return maxSum"
      ]
    },
    {
      "cell_type": "code",
      "execution_count": 43,
      "id": "a9b9bc16-b296-408b-a5f9-1a486cd77ebd",
      "metadata": {
        "id": "a9b9bc16-b296-408b-a5f9-1a486cd77ebd"
      },
      "outputs": [],
      "source": [
        "assert maxSub3([4,3,-10,2]) == 7\n",
        "assert maxSub3([4,3,-10,2,8]) == 10\n",
        "assert maxSub3([4,-10, 5, -10]) == 5\n",
        "assert not maxSub3([4,3,-10,2,8]) == -10\n",
        "\n",
        "assert maxSub2([4,3,-10,2]) == 7\n",
        "assert maxSub2([4,3,-10,2,8]) == 10\n",
        "assert maxSub2([4,-10, 5, -10]) == 5\n",
        "assert not maxSub2([4,3,-10,2,8]) == -10\n",
        "\n",
        "assert maxSub1([4,3,-10,2]) == 7\n",
        "assert maxSub1([4,3,-10,2,8]) == 10\n",
        "assert maxSub1([4,-10, 5, -10]) == 5\n",
        "assert not maxSub1([4,3,-10,2,8]) == -10"
      ]
    },
    {
      "cell_type": "markdown",
      "id": "e43f328f-cec8-4d5d-bb25-0abcd8a184fb",
      "metadata": {
        "id": "e43f328f-cec8-4d5d-bb25-0abcd8a184fb"
      },
      "source": [
        "### Explications"
      ]
    },
    {
      "attachments": {},
      "cell_type": "markdown",
      "id": "9ea3d8b5-a91c-4aa7-ad87-35fe32043114",
      "metadata": {
        "id": "9ea3d8b5-a91c-4aa7-ad87-35fe32043114"
      },
      "source": [
        "Otherwise, it contributes positively to the overall sum.\n",
        "\n",
        "Whe assume that empty subsequences are permissible."
      ]
    }
  ],
  "metadata": {
    "colab": {
      "provenance": []
    },
    "kernelspec": {
      "display_name": "Python",
      "language": "python",
      "name": "python3"
    },
    "language_info": {
      "codemirror_mode": {
        "name": "ipython",
        "version": 3
      },
      "file_extension": ".py",
      "mimetype": "text/x-python",
      "name": "python",
      "nbconvert_exporter": "python",
      "pygments_lexer": "ipython3",
      "version": "3.12.6"
    }
  },
  "nbformat": 4,
  "nbformat_minor": 5
}
