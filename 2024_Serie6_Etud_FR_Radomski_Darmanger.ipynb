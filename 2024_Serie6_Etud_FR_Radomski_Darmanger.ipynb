{
 "cells": [
  {
   "cell_type": "markdown",
   "id": "3753f8ac-fd3a-4817-9c73-7772af832027",
   "metadata": {
    "id": "3753f8ac-fd3a-4817-9c73-7772af832027"
   },
   "source": [
    "# Série 6\n",
    "Ce document contient les différents exercices à réaliser. Veuillez compléter et rendre ces exercices pour la semaine prochaine.\n",
    "\n",
    "Pour chaque exercice:\n",
    "* implémentez ce qui est demandé\n",
    "* commentez votre code\n",
    "* expliquez **en français or in English** ce que vous avez codé dans la cellule correspondante\n",
    "\n",
    "Dans vos explications à chacun des exercices, indiquez un pourcentage subjectif d'investissement de chaque membre du groupe. **Des interrogations aléatoires en classe pourront être réalisées pour vérifier votre contribution/compréhension.**\n",
    "\n",
    "Les tentatives infructueuses, les explications, commentaires et analyses des échecs **rapportent des points**. Ne rendez pas copie-blanche, même si votre fonction n'est pas correcte."
   ]
  },
  {
   "cell_type": "markdown",
   "id": "781725a1",
   "metadata": {},
   "source": [
    "## Contributions\n",
    "*Exercice : [contribution Radomski, contribution Darmanger]*\n",
    "- 1 : [40%, 60%]\n",
    "- 2 : [40%, 60%]"
   ]
  },
  {
   "cell_type": "code",
   "execution_count": 1,
   "id": "f703bc49",
   "metadata": {},
   "outputs": [],
   "source": [
    "import math"
   ]
  },
  {
   "cell_type": "markdown",
   "id": "1fb0b066-c859-40a3-a8d6-7bcc656f8764",
   "metadata": {
    "id": "1fb0b066-c859-40a3-a8d6-7bcc656f8764"
   },
   "source": [
    "## Exercice 1\n",
    "Vous allez devoir implémenter un algorithme pour trouver la meilleure combinaison dans la multiplication de n matrices  M<sub>1</sub>, ..., M<sub>n</sub> dont le vecteur D=(d<sub>0</sub>,d<sub>1</sub>,...d<sub>n</sub>) fournit les dimenstion de la matrice M<sub>i</sub> = d<sub>i-1</sub> × d<sub>i</sub>\n",
    "\n",
    "Vous devez:\n",
    "* générer un nombre entier aléatoire *random* plus grand ou égal à 3 (le nombre de matrices)  \n",
    "* générer un vecteur de *random*+1 dimensions aléatoires comprises entre, 2 et 19: D<sub>*random*</sub>\n",
    "* générer random matrices à valeurs entières M<sub>i</sub> de dimension d<sub>i-1</sub> × d<sub>i</sub> pour i = 1, ..., *random*\n",
    "* programmer l'algorithme de recherche de la meilleures combinaison\n",
    "* trouver la meilleure combinaison et multiplier leurs matrices selon la meilleure combinaison\n",
    "* tester éventuellement avec des combinaisons aléatoires de leur suite de matrices (pour ce dernier exercice, il faut implémenter un compteur de multiplications scalaires dans la fonction de multiplication matricielle)"
   ]
  },
  {
   "cell_type": "code",
   "execution_count": 2,
   "id": "f7d53256-24f6-4c2c-860f-2b0577daf6db",
   "metadata": {
    "id": "f7d53256-24f6-4c2c-860f-2b0577daf6db"
   },
   "outputs": [],
   "source": [
    "import random\n",
    "random.seed(0)\n",
    "import sys\n",
    "\n",
    "class MatrixMult:\n",
    "    nmbre_matr = 1\n",
    "    dimensions = []\n",
    "    MAX_VALUE = sys.maxsize \n",
    "\n",
    "    def __init__(self, dimensions, nmbre_matr):\n",
    "        self.nmbre_matr = nmbre_matr \n",
    "        self.dimensions = dimensions\n",
    "        self.best_pivot = [[0 for i in range(nmbre_matr+1)] for j in range(nmbre_matr+1)] \n",
    "        self.pivots_in_postorder = []\n",
    "\n",
    "    def best_n_mult(self,high):\n",
    "        print(high)\n",
    "        best_value = [[0 for i in range(high+1)] for j in range(high+1)] \n",
    "        h=2\n",
    "        while h<=high:\n",
    "            l=h-2\n",
    "            while l>=0:\n",
    "                min_n_mult = self.MAX_VALUE+1\n",
    "                i=l+1\n",
    "                while i<=h-1:\n",
    "                    n_mult = self.dimensions[l]*self.dimensions[i]*self.dimensions[h] + best_value[l][i] + best_value[i][h]\n",
    "                    if min_n_mult > n_mult:\n",
    "                        min_n_mult = n_mult\n",
    "                        self.best_pivot[l][h] = i\n",
    "                    i+=1\n",
    "                best_value[l][h] = min_n_mult\n",
    "                print(l,h,best_value[l][h])\n",
    "                l-=1\n",
    "            h+=1\n",
    "        print(best_value)\n",
    "        return best_value[0][high]\n",
    "\n",
    "    def write_pivots_in_postorder(self,l,h):\n",
    "        if ( l+1 < h ):\n",
    "            b = self.best_pivot[l][h]\n",
    "            self.write_pivots_in_postorder(l, b)\n",
    "            self.write_pivots_in_postorder(b, h)\n",
    "            self.pivots_in_postorder.append(b)\n",
    "            print(b)\n",
    "\n"
   ]
  },
  {
   "cell_type": "code",
   "execution_count": 3,
   "id": "15c8328d",
   "metadata": {},
   "outputs": [],
   "source": [
    "scalar_mult_count = 0  # global variable for counting scalar multiplications\n",
    "\n",
    "def matrix_multiplication(A, B):\n",
    "    global scalar_mult_count\n",
    "    rows_A, cols_A = len(A), len(A[0])\n",
    "    rows_B, cols_B = len(B), len(B[0])\n",
    "    if cols_A != rows_B:\n",
    "        raise ValueError(\"Matrix cannot be multiplied\")\n",
    "    \n",
    "    result = [[0] * cols_B for _ in range(rows_A)]\n",
    "    for i in range(rows_A):\n",
    "        for j in range(cols_B):\n",
    "            for k in range(cols_A):\n",
    "                result[i][j] += A[i][k] * B[k][j]\n",
    "                scalar_mult_count += 1  # count each scalar multiplication\n",
    "    return result"
   ]
  },
  {
   "cell_type": "code",
   "execution_count": 4,
   "id": "4eb1f992",
   "metadata": {},
   "outputs": [],
   "source": [
    "def do_operation(a, matrices, l, h):\n",
    "    \"\"\"\n",
    "    Multiplies the matrices from index l to h according to the optimal order determined\n",
    "\n",
    "    :param a: Instance of MatrixMult containing the optimal pivots.\n",
    "    :param matrices: List of matrices to be multiplied.\n",
    "    :param l: Starting index\n",
    "    :param h: Ending index\n",
    "    :return: Matrix resulting from optimal multiplication\n",
    "    \"\"\"\n",
    "    # base case : if the range is only one matrix\n",
    "    if l == h - 1:\n",
    "        return matrices[l]\n",
    "    else:\n",
    "        # recursive case : multiply the matrices from l to b and b to h\n",
    "        b = a.best_pivot[l][h]\n",
    "        left_matrix = do_operation(a, matrices, l, b)\n",
    "        right_matrix = do_operation(a, matrices, b, h)\n",
    "        # multiply the two matrices\n",
    "        result = matrix_multiplication(left_matrix, right_matrix)\n",
    "        return result"
   ]
  },
  {
   "cell_type": "code",
   "execution_count": 5,
   "id": "c8875422",
   "metadata": {},
   "outputs": [],
   "source": [
    "def random_parenthesization(matrices):\n",
    "    \"\"\" \n",
    "    Returns the result of randomly parenthesizing the matrices in the list.\n",
    "    Use to test the functionality of the optimal matrix multiplication algorithm. \n",
    "    \"\"\"\n",
    "    if len(matrices) == 1:\n",
    "        return matrices[0]\n",
    "    else:\n",
    "        k = random.randint(1, len(matrices) - 1)\n",
    "        left = random_parenthesization(matrices[:k])\n",
    "        right = random_parenthesization(matrices[k:])\n",
    "        return matrix_multiplication(left, right)\n"
   ]
  },
  {
   "cell_type": "code",
   "execution_count": 6,
   "id": "fdff16bd",
   "metadata": {},
   "outputs": [
    {
     "name": "stdout",
     "output_type": "stream",
     "text": [
      "15\n",
      "0 2 450\n",
      "1 3 540\n",
      "0 3 1350\n",
      "2 4 3060\n",
      "1 4 1458\n",
      "0 4 2223\n",
      "3 5 4284\n",
      "2 5 5440\n",
      "1 5 2172\n",
      "0 5 2802\n",
      "4 6 2618\n",
      "3 6 5984\n",
      "2 6 6980\n",
      "1 6 2634\n",
      "0 6 3129\n",
      "5 7 2618\n",
      "4 7 5797\n",
      "3 7 9350\n",
      "2 7 8850\n",
      "1 7 3195\n",
      "0 7 3960\n",
      "6 8 2431\n",
      "5 8 4433\n",
      "4 8 7480\n",
      "3 8 10989\n",
      "2 8 10841\n",
      "1 8 3858\n",
      "0 8 4443\n",
      "7 9 1768\n",
      "6 9 3264\n",
      "5 9 4496\n",
      "4 9 6400\n",
      "3 9 8848\n",
      "2 9 10288\n",
      "1 9 4170\n",
      "0 9 4530\n",
      "8 10 1872\n",
      "7 10 4216\n",
      "6 10 4848\n",
      "5 10 6512\n",
      "4 10 8848\n",
      "3 10 11440\n",
      "2 10 11728\n",
      "1 10 4602\n",
      "0 10 5412\n",
      "9 11 864\n",
      "8 11 1488\n",
      "7 11 2814\n",
      "6 11 3936\n",
      "5 11 4860\n",
      "4 11 6288\n",
      "3 11 8124\n",
      "2 11 9204\n",
      "1 11 4926\n",
      "0 11 5196\n",
      "10 12 1188\n",
      "9 12 1392\n",
      "8 12 2346\n",
      "7 12 3936\n",
      "6 12 4662\n",
      "5 12 5784\n",
      "4 12 7410\n",
      "3 12 9312\n",
      "2 12 9864\n",
      "1 12 5124\n",
      "0 12 5619\n",
      "11 13 396\n",
      "10 13 1044\n",
      "9 13 1548\n",
      "8 13 2172\n",
      "7 13 3498\n",
      "6 13 4620\n",
      "5 13 5544\n",
      "4 13 6972\n",
      "3 13 8808\n",
      "2 13 9888\n",
      "1 13 5322\n",
      "0 13 5592\n",
      "12 14 330\n",
      "11 14 576\n",
      "10 14 1116\n",
      "9 14 1680\n",
      "8 14 2200\n",
      "7 14 3305\n",
      "6 14 4240\n",
      "5 14 5010\n",
      "4 14 6200\n",
      "3 14 7730\n",
      "2 14 8630\n",
      "1 14 5412\n",
      "0 14 5637\n",
      "13 15 300\n",
      "12 15 880\n",
      "11 15 876\n",
      "10 15 1956\n",
      "9 15 2080\n",
      "8 15 2850\n",
      "7 15 4155\n",
      "6 15 4790\n",
      "5 15 5710\n",
      "4 15 7050\n",
      "3 15 8630\n",
      "2 15 9130\n",
      "1 15 5562\n",
      "0 15 6012\n",
      "[[0, 0, 450, 1350, 2223, 2802, 3129, 3960, 4443, 4530, 5412, 5196, 5619, 5592, 5637, 6012], [0, 0, 0, 540, 1458, 2172, 2634, 3195, 3858, 4170, 4602, 4926, 5124, 5322, 5412, 5562], [0, 0, 0, 0, 3060, 5440, 6980, 8850, 10841, 10288, 11728, 9204, 9864, 9888, 8630, 9130], [0, 0, 0, 0, 0, 4284, 5984, 9350, 10989, 8848, 11440, 8124, 9312, 8808, 7730, 8630], [0, 0, 0, 0, 0, 0, 2618, 5797, 7480, 6400, 8848, 6288, 7410, 6972, 6200, 7050], [0, 0, 0, 0, 0, 0, 0, 2618, 4433, 4496, 6512, 4860, 5784, 5544, 5010, 5710], [0, 0, 0, 0, 0, 0, 0, 0, 2431, 3264, 4848, 3936, 4662, 4620, 4240, 4790], [0, 0, 0, 0, 0, 0, 0, 0, 0, 1768, 4216, 2814, 3936, 3498, 3305, 4155], [0, 0, 0, 0, 0, 0, 0, 0, 0, 0, 1872, 1488, 2346, 2172, 2200, 2850], [0, 0, 0, 0, 0, 0, 0, 0, 0, 0, 0, 864, 1392, 1548, 1680, 2080], [0, 0, 0, 0, 0, 0, 0, 0, 0, 0, 0, 0, 1188, 1044, 1116, 1956], [0, 0, 0, 0, 0, 0, 0, 0, 0, 0, 0, 0, 0, 396, 576, 876], [0, 0, 0, 0, 0, 0, 0, 0, 0, 0, 0, 0, 0, 0, 330, 880], [0, 0, 0, 0, 0, 0, 0, 0, 0, 0, 0, 0, 0, 0, 0, 300], [0, 0, 0, 0, 0, 0, 0, 0, 0, 0, 0, 0, 0, 0, 0, 0], [0, 0, 0, 0, 0, 0, 0, 0, 0, 0, 0, 0, 0, 0, 0, 0]]\n",
      "2\n",
      "3\n",
      "4\n",
      "5\n",
      "6\n",
      "7\n",
      "8\n",
      "9\n",
      "10\n",
      "11\n",
      "12\n",
      "13\n",
      "14\n",
      "1\n"
     ]
    }
   ],
   "source": [
    "MAX_RANDOM = 20\n",
    "\n",
    "# number of matrices (minimum 3)\n",
    "nmbre_matr = random.randint(3, MAX_RANDOM)\n",
    "\n",
    "# generate a vector with dimensions d[0..n] between 2 and 19\n",
    "d = [random.randint(2, 19) for _ in range(nmbre_matr + 1)]\n",
    "\n",
    "# generate n matrices with dimensions d[i-1] x d[i].\n",
    "matrices = []\n",
    "for i in range(1, nmbre_matr + 1):\n",
    "    rows = d[i - 1]\n",
    "    cols = d[i]\n",
    "    matrix = [[random.randint(1, 20) for _ in range(cols)] for _ in range(rows)]\n",
    "    matrices.append(matrix)\n",
    "\n",
    "# find the optimal number of scalar multiplications\n",
    "a = MatrixMult(d, nmbre_matr)\n",
    "a.best_n_mult(nmbre_matr)\n",
    "a.write_pivots_in_postorder(0, nmbre_matr)\n"
   ]
  },
  {
   "cell_type": "code",
   "execution_count": 7,
   "id": "dc42b578",
   "metadata": {},
   "outputs": [
    {
     "name": "stdout",
     "output_type": "stream",
     "text": [
      "Final matrix:\n",
      "[103563271949187971812839191211, 286685409667883544508409043755, 297895135463868351220286463634, 321636500603098360819706075786, 267070850100423279523016702020, 268841345470531171519818935248, 216664460344810468835015264476, 363081604603276656183979351697, 309161478820927308310510133854, 223119484559215910368487990863]\n",
      "[40232649729350900781619859765, 111372627115596613581838148637, 115727423589527670957699905526, 124950558488342680154864650790, 103752689179892489727794461132, 104440497885714283122539745000, 84170625143229523180684479204, 141051308501758667553643971927, 120104215066435778090155095882, 86678297248622200947777835017]\n",
      "[95052261602308415718124256460, 263125102599476325705588159932, 273413593575697773034060736520, 295203851913495601143225338144, 245122501753505434288619765444, 246747494723986224614831007376, 198858597038390708930682777456, 333242924968412187014564957664, 283754049180484157229286558300, 204783136102596818267129937396]\n",
      "[61066203511676746816732944698, 169044384567882478134415563686, 175654212395274107118160555480, 189653335906994190631567478788, 157478636752257279968134618136, 158522611400993007059197188964, 127756450525982740059863319400, 214091489585811010043854662242, 182297424831190055103031417528, 131562663046452744009004454950]\n",
      "[88488380718769526586292650243, 244954868649069509527280564403, 254532882797679533814328783874, 274818404080431503204474991426, 228195446298207471237606965632, 229708224577584993615653226336, 185126318378658445857752039228, 310230670153718262317893010413, 264159273133697692805625305946, 190641735470893909226813532335]\n",
      "[108628620612506148426631010545, 300707384149867617817990067965, 312465385107048173514743448402, 337367956241050773415210709462, 280133463399584165568965489436, 281990554877141327774841075668, 227261663521837543145211474996, 380840167903397833362928010631, 324282772826016657966816588254, 234032407273299702811347488337]\n",
      "[69206040103601244234463749486, 191577202855637585653799060533, 199068089522060338986798420679, 214933230097576774159532069122, 178469795466007730024132380596, 179652927007577274754028926757, 144785782154617751567118565360, 242628874272897681435308881823, 206596810810214755883946628169, 149099344832197535601546174127]\n",
      "[53446333199024041085380882339, 147950944770382120726953628462, 153735995094470869317846231321, 165988301225343896157690290168, 137828376542652176490604828644, 138742083532271213895469891553, 111814939041782228053088142900, 187377050307501245656682709942, 159550264281094538193903293531, 115146210528967652897953678308]\n",
      "[66012841177876246561610034540, 182737741479526234696318468035, 189882995146819920435729531307, 205016110747320955348779904422, 170235115972346798222737495676, 171363657271199250694346503413, 138105298725225865231909199176, 231433864999020889956883669961, 197064337725214171353510270309, 142219831611663896242872340357]\n",
      "[80575512241390012159916050570, 223050346916487217595203458367, 231771869335712206695236344165, 250243404865844788308665094254, 207789597089007996586071014504, 209167098674469972041876047631, 168571826171352376444567081936, 282489011071893902840571735569, 240537442013392079919611260775, 173594039865600174189772655461]\n",
      "[46328493178491495178216939885, 128247232789535249172120636238, 133261845550561059241584834323, 143882422249482629647426880264, 119472761183815464217668785320, 120264783114557481072882596771, 96923723866052989259868506348, 162422674809891495825185057410, 138301785883200051232348824101, 99811345506937571717047824152]\n",
      "[80880655946163245133229848334, 223895050317230209941332065342, 232649601600751368443591516020, 251191089807924412667403226172, 208576507227131995994925838316, 209959225483506668963036915504, 169210216547360509529304830872, 283558811821419417442515532214, 241448369963319522137934869984, 174251449629116887328099731822]\n",
      "[80026403993210863650771250787, 221530297190478757029466543045, 230192383935899851803232795164, 248538039130836855559059438438, 206373546746636320451026744088, 207741660895239015353508083990, 167423038188234063155854629900, 280563897080036617259223275187, 238898220743656130473333420880, 172411026360598668666395483517]\n",
      "[31668958435534493521660527721, 87666487856758196968647924954, 91094347306068268363818859531, 98354298558054824389869720496, 81668486248946672471595964984, 82209891933689405886674313363, 66254548160802429450541153564, 111027935178235184294326304486, 94539520026418401685088674413, 68228451550488056007917427412]\n",
      "[89563058237098329262103909870, 247929807146408943302200408886, 257624144775844780014360570956, 278156030535837916310690364508, 230966844237149181042470244340, 232497994971935458818775173112, 187374648507571552397598487256, 313998373031854197967752850870, 267367446114402131948828893072, 192957049476123672476951751494]\n",
      "\n",
      "Scalar multiplications count: 6012\n"
     ]
    }
   ],
   "source": [
    "\n",
    "# multiply matrices according to the best combination\n",
    "\n",
    "scalar_mult_count = 0  # resetting the counter before testing\n",
    "final_matrix = do_operation(a, matrices, 0, nmbre_matr)\n",
    "optimal_scalar_mult_count = scalar_mult_count\n",
    "\n",
    "print(\"Final matrix:\")\n",
    "for row in final_matrix:\n",
    "    print(row)\n",
    "print(f\"\\nScalar multiplications count: {optimal_scalar_mult_count}\")\n"
   ]
  },
  {
   "cell_type": "code",
   "execution_count": 8,
   "id": "4a3f0e06",
   "metadata": {},
   "outputs": [
    {
     "name": "stdout",
     "output_type": "stream",
     "text": [
      "\n",
      "Test 1:\n",
      "Scalar multiplications count (random): 22566\n",
      "The final matrices are equal\n",
      "Random scalar multiplication count is greater (or equal) to optimal (expected)\n",
      "\n",
      "Test 2:\n",
      "Scalar multiplications count (random): 18890\n",
      "The final matrices are equal\n",
      "Random scalar multiplication count is greater (or equal) to optimal (expected)\n",
      "\n",
      "Test 3:\n",
      "Scalar multiplications count (random): 25078\n",
      "The final matrices are equal\n",
      "Random scalar multiplication count is greater (or equal) to optimal (expected)\n",
      "\n",
      "Test 4:\n",
      "Scalar multiplications count (random): 23331\n",
      "The final matrices are equal\n",
      "Random scalar multiplication count is greater (or equal) to optimal (expected)\n",
      "\n",
      "Test 5:\n",
      "Scalar multiplications count (random): 23994\n",
      "The final matrices are equal\n",
      "Random scalar multiplication count is greater (or equal) to optimal (expected)\n",
      "\n",
      "Test 6:\n",
      "Scalar multiplications count (random): 19023\n",
      "The final matrices are equal\n",
      "Random scalar multiplication count is greater (or equal) to optimal (expected)\n",
      "\n",
      "Test 7:\n",
      "Scalar multiplications count (random): 19708\n",
      "The final matrices are equal\n",
      "Random scalar multiplication count is greater (or equal) to optimal (expected)\n",
      "\n",
      "Test 8:\n",
      "Scalar multiplications count (random): 26787\n",
      "The final matrices are equal\n",
      "Random scalar multiplication count is greater (or equal) to optimal (expected)\n",
      "\n",
      "Test 9:\n",
      "Scalar multiplications count (random): 19096\n",
      "The final matrices are equal\n",
      "Random scalar multiplication count is greater (or equal) to optimal (expected)\n",
      "\n",
      "Test 10:\n",
      "Scalar multiplications count (random): 18002\n",
      "The final matrices are equal\n",
      "Random scalar multiplication count is greater (or equal) to optimal (expected)\n"
     ]
    }
   ],
   "source": [
    "\n",
    "# test with random combinations of parentheses to verify \n",
    "# equality and compare scalar multiplications (must be greater than or \n",
    "# or equal to the best combination)\n",
    "\n",
    "num_tests = 10  # number of tests with random parentheses\n",
    "\n",
    "for test in range(num_tests):\n",
    "    scalar_mult_count = 0  # resetting the counter before testing\n",
    "    final_matrix_random = random_parenthesization(matrices)\n",
    "    random_scalar_mult_count = scalar_mult_count\n",
    "    print(f\"\\nTest {test + 1}:\")\n",
    "    print(\"Scalar multiplications count (random):\", random_scalar_mult_count)\n",
    "\n",
    "    if final_matrix_random == final_matrix:\n",
    "        print(\"The final matrices are equal\")\n",
    "    else:\n",
    "        print(\"The final matrices are not equal\")\n",
    "\n",
    "    if random_scalar_mult_count >= optimal_scalar_mult_count:\n",
    "        print(\"Random scalar multiplication count is greater (or equal) to optimal (expected)\")\n",
    "    else:\n",
    "        print(\"Random scalar multiplication count is less than optimal (unexpected)\")\n"
   ]
  },
  {
   "cell_type": "code",
   "execution_count": 9,
   "id": "c1fd10ee-e325-40e9-8e21-081905a50ec5",
   "metadata": {
    "id": "c1fd10ee-e325-40e9-8e21-081905a50ec5"
   },
   "outputs": [
    {
     "name": "stdout",
     "output_type": "stream",
     "text": [
      "Dimensions vector:\n",
      "5 [3, 3, 3, 3, 2, 2]\n",
      "\n",
      "\"Random\" matrices: \n",
      "[[[10, 6, 19], [7, 16, 13], [8, 12, 18]], [[13, 20, 14], [6, 8, 5], [14, 3, 9]], [[15, 18, 1], [7, 7, 6], [6, 20, 17]], [[4, 1], [14, 14], [15, 9]], [[6, 10], [17, 17]]]\n",
      "\n",
      "best_n_mult: \n",
      "5\n",
      "0 2 27\n",
      "1 3 27\n",
      "0 3 54\n",
      "2 4 18\n",
      "1 4 36\n",
      "0 4 54\n",
      "3 5 12\n",
      "2 5 30\n",
      "1 5 48\n",
      "0 5 66\n",
      "[[0, 0, 27, 54, 54, 66], [0, 0, 0, 27, 36, 48], [0, 0, 0, 0, 18, 30], [0, 0, 0, 0, 0, 12], [0, 0, 0, 0, 0, 0], [0, 0, 0, 0, 0, 0]]\n",
      "\n",
      "write_pivots_in_postorder: \n",
      "4\n",
      "3\n",
      "2\n",
      "1\n",
      "\n",
      "Final matrix:\n",
      "[[7782820, 9373872], [6874034, 8281554], [7700480, 9274968]]\n"
     ]
    }
   ],
   "source": [
    "# Nous vous mettons à disposition une matrice pour que vous puissiez tester votre algorithme de multiplication matricielle.\n",
    "# Vous devez quand même implémenter la partie \"aléatoire\" demandée et la tester vous-même.\n",
    "dimensions = [3, 3, 3, 3, 2, 2]\n",
    "nmbre_matr = 5\n",
    "print(\"Dimensions vector:\")\n",
    "print(nmbre_matr, dimensions)\n",
    "print()\n",
    "\n",
    "print(\"\\\"Random\\\" matrices: \")\n",
    "# Vous pouvez convertir l'équivalent de cette matrice 3D en la structure de données que vous avez implémentée\n",
    "matrices = [[[10,6,19],[7,16,13],[8,12,18]],[[13,20,14],[6,8,5],[14,3,9]],[[15,18,1],[7,7,6],[6,20,17]],[[4,1],[14,14],[15,9]],[[6,10],[17,17]]]\n",
    "print(matrices)\n",
    "print()\n",
    "a = MatrixMult(dimensions, nmbre_matr)\n",
    "print(\"best_n_mult: \")\n",
    "a.best_n_mult(nmbre_matr)\n",
    "print()\n",
    "print(\"write_pivots_in_postorder: \")\n",
    "a.write_pivots_in_postorder( 0, nmbre_matr)\n",
    "print()\n",
    "\n",
    "# Fonction qui multiplie les matrices dans le bon ordre.\n",
    "# Vous n'êtes pas obligé de l'utiliser et vous pouvez utiliser une autre fonction que vous avez créée.\n",
    "# Si c'est le cas, apportez les modifications nécessaires ici pour que l'assertion fonctionne\n",
    "pivots = a.pivots_in_postorder\n",
    "final_matrix = do_operation(a, matrices, 0, nmbre_matr)\n",
    "\n",
    "print(\"Final matrix:\")\n",
    "print(final_matrix)\n",
    "assert final_matrix == [[7782820,9373872],[6874034,8281554],[7700480,9274968]]"
   ]
  },
  {
   "cell_type": "markdown",
   "id": "2ca32f2e-e995-477c-8535-62f6e42dc093",
   "metadata": {
    "id": "2ca32f2e-e995-477c-8535-62f6e42dc093"
   },
   "source": [
    "### Explications"
   ]
  },
  {
   "cell_type": "markdown",
   "id": "0917e4c4",
   "metadata": {},
   "source": [
    "Comme vu en classe, la multiplication de matrices est associative mais pas commutative, ce qui signifie que l'ordre dans lequel nous effectuons les multiplications peut affecter le nombre total de calculs. Notre objectif est donc de déterminer l'ordre de parenthésation qui minimise ce nombre.\n",
    "\n",
    "Pour faire cela, on a suivi ces étapes  :\n",
    "\n",
    "1.  **Génération aléatoire des données (comme demandé) :**\n",
    "\n",
    "    -   Nous avons généré un nombre aléatoire de matrices (au moins 3)\n",
    "    -   Nous avons créé un vecteur de dimensions aléatoires pour ces matrices.\n",
    "    -   Nous avons généré les matrices elles-mêmes avec des valeurs entières aléatoires\n",
    "2.  **Recherche de la meilleure combinaison :**\n",
    "\n",
    "    -   Nous avons utilisé l'algorithme de programmation dynamique pour trouver l'ordre optimal de multiplication. Cet algorithme calcule le nombre minimal de multiplications scalaires nécessaires pour multiplier la chaîne de matrices.\n",
    "    -   Les fonctions clés utilisées sont :\n",
    "        -   `best_n_mult(high)`: calcule le coût minimal de multiplication pour les sous-chaînes de matrices en stockant les résultats dans `best_value`.\n",
    "        -   `write_pivots_in_postorder(l, h)`: détermine l'ordre optimal de parenthésation en parcourant les pivots optimaux.\n",
    "            - `best_value[i][j]` contient le coût minimal pour multiplier la sous-chaîne de matrices de M<sub>i</sub> à M<sub>j</sub>.\n",
    "            - `best_pivot[i][j]` enregistre le pivot optimal (indice où couper) pour atteindre ce coût minimal.\n",
    "3.  **Multiplication des matrices selon l'ordre optimal :**\n",
    "\n",
    "    -   Nous avons multiplié les matrices en suivant l'ordre optimal obtenu, en utilisant la fonction récursive `do_operation(a, matrices, l, h)`. Cette fonction utilise les pivots optimaux pour décider comment associer les matrices.\n",
    "    -   Nous avons également compté le nombre de multiplications scalaires effectuées grâce à un compteur global `scalar_mult_count` dans la fonction `matrix_multiplication(A, B)`. Ce compteur est incrémenté à chaque multiplication scalaire.\n",
    "        -   Plus de détails sur la multiplication matricielle sont données dans une série d'exercices précédents.\n",
    "4.  **Comparaison avec des parenthésations aléatoires :**\n",
    "\n",
    "    -   Pour évaluer l'efficacité de l'ordre optimal, nous avons multiplié les matrices en utilisant des parenthésations aléatoires à l'aide de la fonction `random_parenthesization(matrices)`.\n",
    "    -   Nous avons comparé le nombre de multiplications scalaires pour chaque parenthésation aléatoire avec celui obtenu avec l'ordre optimal.\n",
    "    -   Les résultats ont montré que l'ordre optimal minimise effectivement le nombre de multiplications scalaires par rapport aux ordres aléatoires.\n",
    "5.  **Vérification avec un jeu de données spécifique :**\n",
    "\n",
    "    -   Nous avons testé notre implémentation avec un ensemble de matrices et de dimensions fournies pour vérifier que le résultat obtenu correspondait bien au résultat attendu\n",
    "    -   L'assertion finale confirme que notre algorithme fonctionne correctement.\n",
    "  \n",
    "\n",
    "#### Note sur best_n_mult\n",
    "-   **best_value** : Cette matrice stocke le coût minimal de multiplication pour chaque sous-chaîne de matrices.\n",
    "    -   `bestValue[1][1]` représente le coût de multiplier la matrice M₁ seule, ce qui est zéro puisque aucune multiplication n'est nécessaire.\n",
    "    -   `bestValue[1][2]` représente le coût minimal pour multiplier les matrices M<sub>1</sub> et M<sub>2</sub>.\n",
    "    -   `bestValue[1][4]` contiendra le coût minimal pour multiplier toutes les matrices de M<sub>1</sub> à M<sub>4</sub>.\n",
    "-   **best_pivot** : Cette matrice enregistre le pivot optimal (l'indice où découper) pour chaque sous-chaîne qui donne le coût minimal.\n",
    "    -   `bestPivot[1][3] = 2` signifie que pour multiplier les matrices de M<sub>1</sub> à M<sub>3</sub>, le pivot optimal (l'endroit où séparer la multiplication) est après M<sub>2</sub>.\n",
    "  \n",
    "\n",
    "ref: https://en.wikipedia.org/wiki/Matrix_chain_multiplication"
   ]
  },
  {
   "cell_type": "markdown",
   "id": "X8kNNBha4QW-",
   "metadata": {
    "id": "X8kNNBha4QW-"
   },
   "source": [
    "## Exercice 2 - La revanche du puits magique"
   ]
  },
  {
   "cell_type": "markdown",
   "id": "fc71aaa5",
   "metadata": {},
   "source": [
    "#### Rappel de l'énoncé puits magique \n",
    "\n",
    "Il y a un puits magique profond dans une forêt qui a quelques nénuphars sur ses eaux. Vous avez un grand panier vide et quelques pièces de monnaie, et vous vous tenez à côté du puits. Vous avez plus de pièces que de nénuphars dans le puits. Le puits a pris note du fait que votre panier est vide. Si vous lancez une pièce dans le puits, le puits lancera un nénuphar dans votre panier. Si vous lancez quatre pièces à la fois dans le puits, le puits prendra note du nombre de nénuphars qu'il a lancés dans votre panier jusqu'à présent. Si vous lancez deux pièces à la fois dans le puits, le puits lancera autant de nénuphars dans votre panier qu'il avait pris note la dernière fois. Si vous lancez une pièce, ou deux pièces à la fois, dans le puits, et qu'il ne reste pas assez de nénuphars dans le puits, le puits ne lancera aucun nénuphar.\n",
    "Étant donné $L$ le nombre de nénuphars dans le puits au début, retournez le nombre minimum de pièces que vous devrez lancer dans le puits pour qu'il lance tous ses nénuphars dans votre panier."
   ]
  },
  {
   "cell_type": "markdown",
   "id": "yGjdSF4E4d6U",
   "metadata": {
    "id": "yGjdSF4E4d6U"
   },
   "source": [
    "Lors du cours de récurrence, vous aviez certainement effectué une recherche exhaustive en créant un arbre des possibilités et en prenant le minimum parmi les feuilles. Cet algorithme, tout à fait correct pour une première approche, avait cependant une complexité temporelle de $O(3^L)$. Nous allons utiliser la programmation dynamique pour améliorer cela.\n",
    "\n",
    "Prenons une liste $u$ de termes $u_{i}$ correspondant au plus petit nombre de pièces pour obtenir $i$ fleurs. Que valent $u_0$ et $u_1$ ?"
   ]
  },
  {
   "cell_type": "markdown",
   "id": "Rc6GJuHE6AzN",
   "metadata": {
    "id": "Rc6GJuHE6AzN"
   },
   "source": [
    "#### Réponse\n",
    "\n",
    "- i=0 : $u_0 = 0$ car il n'y a pas besoin de pièces pour obtenir 0 fleurs.\n",
    "- i=1 : $u_1 = 1$ car il faut une pièce pour obtenir 1 fleur."
   ]
  },
  {
   "cell_type": "markdown",
   "id": "akkkVK9p6BXw",
   "metadata": {
    "id": "akkkVK9p6BXw"
   },
   "source": [
    "Pour $i>1$, il existe deux façons possibles d'obtenir $i$ fleurs - soit nous collectons d'abord $i-1$ fleurs, puis utilisons une opération d'une pièce pour obtenir un autre fleurs, soit la dernière opération doit avoir été une opération de deux pièces. Cela signifie que nous avions demandé au puits de se souvenir de l'état de notre panier à $k$ fleurs (où $k$ est un diviseur de $i$) et ensuite appliqué $\\frac{i}{k}-1$ opérations de deux pièces.\n",
    "\n",
    "Avec une expression plus formelle, nous aurions une formule similaire à cela (formule $(1)$) :"
   ]
  },
  {
   "cell_type": "markdown",
   "id": "qUpH5bxn7Nmm",
   "metadata": {
    "id": "qUpH5bxn7Nmm"
   },
   "source": [
    "$$u_{i}=\\min \\left(□, \\min _{k \\mid i}\\left\\{u_{k}+4+2\\left(\\frac{i}{k}-1\\right)\\right\\}\\right).$$"
   ]
  },
  {
   "cell_type": "markdown",
   "id": "DpDO2067DkqW",
   "metadata": {
    "id": "DpDO2067DkqW"
   },
   "source": [
    "Que faudrait-il mettre à la place du \"□\" ?"
   ]
  },
  {
   "cell_type": "markdown",
   "id": "34nUc0pHEBYh",
   "metadata": {
    "id": "34nUc0pHEBYh"
   },
   "source": [
    "#### Réponse\n",
    "\n",
    "La formule décrit les deux façons possibles d'obtenir $i$ fleurs. Ici il manque la première façon d'obtenir ces $i$ fleurs. C'est à dire : \"... nous collectons d'abord $i-1$ fleurs, puis utilisons une opération d'une pièce pour obtenir un autre fleurs ...\".\n",
    "\n",
    "Donc Il faudrait mettre $u_{i-1}+1$ car c'est le nombre de pièces que nous aurions utilisé pour obtenir $i-1$ fleurs, puis nous aurions utilisé une opération d'une pièce pour obtenir $i$ fleurs.\n",
    "\n",
    "$$u_{i}=\\min \\left(u_{i-1}+1, \\min _{k \\mid i}\\left\\{u_{k}+4+2\\left(\\frac{i}{k}-1\\right)\\right\\}\\right).$$"
   ]
  },
  {
   "cell_type": "markdown",
   "id": "WJmAu0hf8kiU",
   "metadata": {
    "id": "WJmAu0hf8kiU"
   },
   "source": [
    "Au lieu d'itérer sur les diviseurs de $i$ comme la formule nous le permettrait, nous allons procéder comme suit :\n",
    "\n",
    "Au début, nous pouvons dire que toutes les valeurs de la suite, les $u_i$ (sauf $u_0$ et $u_1$), sont égales à l'infini. Maintenant, parcourons toutes les valeurs de $i$ de $2$ à $N$ ($N$ étant un entier que vous choisirez à votre convenance...). Une des possibilités est d'utiliser une pièce et ainsi passer de $i-1$ fleurs à $i$ fleurs, donc nous pouvons dire que $u_i\\leftarrow \\min(u_i, u_{i-1}+1)$.\n",
    "\n",
    "À présent, lorsque nous avons déjà $i$ fleurs, nous pouvons également utiliser quatre pièces pour mémoriser l'état de notre panier, puis obtenir plus tard $j \\cdot i$ fleurs du puits. Nous devrions donc mettre à jour $u_i$ pour tous les multiples de $i$ avec la formule $(2)$:"
   ]
  },
  {
   "cell_type": "markdown",
   "id": "tpQtWF92ErxG",
   "metadata": {
    "id": "tpQtWF92ErxG"
   },
   "source": [
    "$$u_{j \\cdot i} = \\min(u_{j \\cdot i}, u_i + 4 + 2 \\cdot (j - 1)), i < j \\cdot i ≤ N$$"
   ]
  },
  {
   "cell_type": "markdown",
   "id": "-rAClpJFEx5D",
   "metadata": {
    "id": "-rAClpJFEx5D"
   },
   "source": [
    "Implémentez ce travail dans la fonction suivante :"
   ]
  },
  {
   "cell_type": "markdown",
   "id": "d84998b7",
   "metadata": {},
   "source": [
    "Version qui suit le template imposé :"
   ]
  },
  {
   "cell_type": "code",
   "execution_count": 10,
   "id": "UeKGIG_94RdC",
   "metadata": {
    "id": "UeKGIG_94RdC"
   },
   "outputs": [],
   "source": [
    "\n",
    "def min_well_coin(L, test=False):\n",
    "    U = [math.inf] * (L + 1)\n",
    "    U[0] = 0\n",
    "    U[1] = 1\n",
    "\n",
    "    # For each i...\n",
    "    for i in range(2, L + 1): # starting from 2 because we already know the values for 0 and 1\n",
    "        # u_i can be obtained from u_i-1\n",
    "        U[i] = min(U[i], U[i - 1] + 1)\n",
    "        # We then update all divisors of i\n",
    "        for k in range(2, i + 1):\n",
    "             # if i * k is in the adequate range\n",
    "            division_condition = i< i * k <= L\n",
    "            if division_condition:\n",
    "                # Formula (2):\n",
    "                U[i*k] = min(U[i*k], U[i] + 4 + 2 * (k-1))\n",
    "\n",
    "    # Return the correct term from the U sequence\n",
    "    if test:\n",
    "        return U[L], U\n",
    "    return U[L]"
   ]
  },
  {
   "cell_type": "markdown",
   "id": "e51fbc5f",
   "metadata": {},
   "source": [
    "Version avec complexité améliorée (itère sur les multiples de $i$ directement) :"
   ]
  },
  {
   "cell_type": "code",
   "execution_count": 11,
   "id": "bea5c0ab",
   "metadata": {},
   "outputs": [],
   "source": [
    "# version avec complexité améliorée\n",
    "\n",
    "def min_well_coin_opti(L, test=False):\n",
    "    U = [math.inf] * (L + 1) # initialize the list with infinity values of size L+1 (0 to L)\n",
    "    U[0] = 0\n",
    "    U[1] = 1\n",
    "\n",
    "    # For each i...\n",
    "    for i in range(2, L + 1): # starting from 2 because we already know the values for 0 and 1\n",
    "        # u_i can be obtained from u_i-1\n",
    "        U[i] = min(U[i], U[i - 1] + 1)\n",
    "        # We then update all divisors of i\n",
    "        for k in range(2, L // i + 1):  # L//i + 1 represents the maximum value of k such that i * k <= L\n",
    "            # Formula (2):\n",
    "            U[i*k] = min(U[i*k], U[i] + 4 + 2 * (k-1))\n",
    "\n",
    "    # Return the correct term from the U sequence\n",
    "    if test:\n",
    "        return U[L], U\n",
    "    return U[L]"
   ]
  },
  {
   "cell_type": "code",
   "execution_count": 12,
   "id": "d7944fd1",
   "metadata": {},
   "outputs": [
    {
     "data": {
      "text/plain": [
       "(13, [0, 1, 2, 3, 4, 5, 6, 7, 8, 9, 10, 11, 12, 13, 13, 13])"
      ]
     },
     "execution_count": 12,
     "metadata": {},
     "output_type": "execute_result"
    }
   ],
   "source": [
    "min_well_coin(15, True)"
   ]
  },
  {
   "cell_type": "code",
   "execution_count": 13,
   "id": "2d7607e7",
   "metadata": {},
   "outputs": [
    {
     "data": {
      "text/plain": [
       "(13, [0, 1, 2, 3, 4, 5, 6, 7, 8, 9, 10, 11, 12, 13, 13, 13])"
      ]
     },
     "execution_count": 13,
     "metadata": {},
     "output_type": "execute_result"
    }
   ],
   "source": [
    "min_well_coin_opti(15, True)"
   ]
  },
  {
   "cell_type": "code",
   "execution_count": 14,
   "id": "FXxForz_APsN",
   "metadata": {
    "id": "FXxForz_APsN"
   },
   "outputs": [],
   "source": [
    "assert min_well_coin(12) == 12\n",
    "assert min_well_coin(13) == 13\n",
    "assert min_well_coin(15) == 13\n",
    "assert min_well_coin(16) == 14\n",
    "assert min_well_coin(17) == 15\n",
    "assert min_well_coin(18) == 14\n",
    "assert min_well_coin(19) == 15\n",
    "assert min_well_coin(21) == 15\n",
    "assert min_well_coin(22) == 16\n",
    "assert min_well_coin(23) == 17\n",
    "assert min_well_coin(93) == 27\n",
    "assert min_well_coin(94) == 28\n",
    "assert min_well_coin(96) == 26\n",
    "assert min_well_coin(97) == 27"
   ]
  },
  {
   "cell_type": "code",
   "execution_count": 15,
   "id": "1fe282b3",
   "metadata": {},
   "outputs": [],
   "source": [
    "assert min_well_coin_opti(12) == 12\n",
    "assert min_well_coin_opti(13) == 13\n",
    "assert min_well_coin_opti(15) == 13\n",
    "assert min_well_coin_opti(16) == 14\n",
    "assert min_well_coin_opti(17) == 15\n",
    "assert min_well_coin_opti(18) == 14\n",
    "assert min_well_coin_opti(19) == 15\n",
    "assert min_well_coin_opti(21) == 15\n",
    "assert min_well_coin_opti(22) == 16\n",
    "assert min_well_coin_opti(23) == 17\n",
    "assert min_well_coin_opti(93) == 27\n",
    "assert min_well_coin_opti(94) == 28\n",
    "assert min_well_coin_opti(96) == 26\n",
    "assert min_well_coin_opti(97) == 27 "
   ]
  },
  {
   "cell_type": "markdown",
   "id": "1HZp1MJnHxqy",
   "metadata": {
    "id": "1HZp1MJnHxqy"
   },
   "source": [
    "Que pouvait-on choisir pour $N$ en fin de compte ?"
   ]
  },
  {
   "cell_type": "markdown",
   "id": "D7d5dWC4H6GD",
   "metadata": {
    "id": "D7d5dWC4H6GD"
   },
   "source": [
    "\n",
    "- **$L$** : Dans le contexte de la fonction `min_well_coin(L)`, $L$ représente le nombre cible de nénuphars que l'on souhaite obtenir dans le panier.\n",
    "- **$N$** : Dans la formule donnée, $N$ représente la limite supérieure pour laquelle on va calculer le nombre minimal de pièces pour atteindre chaque quantité de nénuphars, jusqu'à $L$ inclus. $N$ est le nombre maximal de nénuphars que l'on veut envisager pour les calculs dans la liste `U`.\n",
    "- La liste `U` dans le code est indexée jusqu'à $L$, et cette longueur représente le nombre total d'entrées possibles pour le nombre de nénuphars. En pratique, cela signifie que $N$ correspond à la taille maximale de la liste `U`, qui est $L + 1$ (pour inclure l'indice 0).\n",
    "\n",
    "On assume alors que $N$ désigne implicitement la valeur maximale pour laquelle on calcule le nombre minimum de pièces, et cette valeur est définie comme étant $L$, l'entrée de la fonction `min_well_coin(L)`. Cela signifie que, pour ce code :\n",
    "\n",
    "- **$N$** est le plus grand nombre de nénuphars que nous souhaitons atteindre, et ici, nous l'avons implicitement fixé à $L$.\n",
    "- **Taille de la liste `U`** : On initialise la liste `U` avec $L + 1$ valeurs, ce qui permet de stocker le nombre minimal de pièces pour obtenir tous les nombres de nénuphars de 0 jusqu'à $L$.\n",
    "\n",
    "Dans cet algorithme, nous ne cherchons pas à aller au-delà de $L$ nénuphars ; nous voulons uniquement savoir le nombre minimal de pièces pour obtenir jusqu'à $L$ nénuphars. Par conséquent, il n'est pas nécessaire de calculer des valeurs pour des nénuphars au-delà de $L$, ce qui signifie que $N$ (le nombre maximal de nénuphars que nous envisageons) est effectivement défini à $L$.\n",
    "\n",
    "Donc N est égal à L, et est la valeur passé en argument des assertions également."
   ]
  },
  {
   "cell_type": "markdown",
   "id": "2270fb88",
   "metadata": {},
   "source": [
    "On remarque aussi qu'on peut utiliser le tableau `U` pour stocker les valeurs de $u_i$ pour $i$ allant de 0 à $L$. Et donc obtenir les résultats inférieurs à $L$ en accédant directement à `U[i]`."
   ]
  },
  {
   "cell_type": "code",
   "execution_count": 16,
   "id": "cad55122",
   "metadata": {},
   "outputs": [],
   "source": [
    "list_U = min_well_coin(97, True)[1]\n",
    "\n",
    "assert list_U[12] == 12\n",
    "assert list_U[13] == 13\n",
    "assert list_U[15] == 13\n",
    "assert list_U[16] == 14\n",
    "assert list_U[17] == 15\n",
    "assert list_U[18] == 14\n",
    "assert list_U[19] == 15\n",
    "assert list_U[21] == 15\n",
    "assert list_U[22] == 16\n",
    "assert list_U[23] == 17\n",
    "assert list_U[93] == 27\n",
    "assert list_U[94] == 28\n",
    "assert list_U[96] == 26\n",
    "assert list_U[97] == 27"
   ]
  },
  {
   "cell_type": "markdown",
   "id": "qpkOqmB8E20g",
   "metadata": {
    "id": "qpkOqmB8E20g"
   },
   "source": [
    "Affichez sur un graphe les valeurs de la fonction pour $L$ allant de $0$ à $1000$. Quel est l'aspect du graphe ?"
   ]
  },
  {
   "cell_type": "code",
   "execution_count": 17,
   "id": "OL5W4uOAFDaZ",
   "metadata": {
    "id": "OL5W4uOAFDaZ"
   },
   "outputs": [
    {
     "data": {
      "image/png": "[encoded data removed]",
      "text/plain": [
       "<Figure size 1008x576 with 1 Axes>"
      ]
     },
     "metadata": {
      "needs_background": "light"
     },
     "output_type": "display_data"
    }
   ],
   "source": [
    "import matplotlib.pyplot as plt\n",
    "\n",
    "L_values = range(1, 1001)\n",
    "U_values = [min_well_coin(L) for L in L_values]\n",
    "\n",
    "plt.figure(figsize=(14, 8))\n",
    "plt.plot(L_values, U_values)\n",
    "plt.xlabel(\"L - Number of flowers\")\n",
    "plt.ylabel(\"U(L) - Minimum number of coins\")\n",
    "plt.title(\"Minimum number of coins needed to collect L flowers\")\n",
    "plt.show()\n"
   ]
  },
  {
   "cell_type": "markdown",
   "id": "qdCXdJCdFFuw",
   "metadata": {
    "id": "qdCXdJCdFFuw"
   },
   "source": [
    "### Explications"
   ]
  },
  {
   "cell_type": "markdown",
   "id": "e283a1f6",
   "metadata": {},
   "source": [
    "-   On observe une forte augmentation du nombre minimal de pièces pour les petites valeurs de L (jusqu'à environ 200 fleurs). Cela s'explique par le fait que chaque fleur ajoutée nécessite souvent un coût additionnel, car les stratégies (de mémorisation et d'accumulation avec multiples) ne sont pas encore assez rentables pour réduire le coût de manière significative pour l'instant.\n",
    "  \n",
    "-   Après environ 200 fleurs, le nombre minimal de pièces nécessaires continue d'augmenter, mais de manière moins rapide et de façon plus irrégulière. Cela montre que l'algorithme commence à tirer bénéfices des stratégies de mémorisation. On voit des sauts qui se produisent, c'est lorsque l'utilisation de l'opération \"lancer quatre pièces pour mémoriser l'état, puis lancer des paires de pièces pour dupliquer le nombre de nénuphars\", devient plus avantageuse que d'ajouter des nénuphars un par un \n",
    "  \n",
    "-   Globalement, le nombre de pièces nécessaires pour obtenir $L$ fleurs augmente avec $L$, mais la courbe montre que les optimisations de l'algorithme permettent d'obtenir des \"économies\" importante. Plutôt que de croître de manière linéaire ou exponentielle, la courbe devient de plus en plus plate, ce qui indique une amélioration de l'efficacité pour les grandes valeurs de $L$ grâce aux stratégies mises en place. On voit globalement une forme logarithmique.\n",
    "\n",
    "Ce graphique montre bien l'efficacité de l'approche dynamique. En utilisant la programmation dynamique, nous avons pu réduire la complexité."
   ]
  },
  {
   "cell_type": "markdown",
   "id": "5536b592",
   "metadata": {},
   "source": [
    "### Explications Algorithmiques"
   ]
  },
  {
   "cell_type": "markdown",
   "id": "85b2b719",
   "metadata": {},
   "source": [
    "Dans cet algorithme, nous utilisons la programmation dynamique pour calculer le nombre minimal de pièces nécessaires pour obtenir jusqu'à $L$ fleurs.\n",
    "\n",
    "La formule (2) permet de propager le coût minimal en partant du nombre minimal de pièces pour obtenir $i$ fleurs et en le réutilisant pour calculer efficacement le coût pour des multiples de $i$ (comme $2⋅i$, $3⋅i$, etc.). En utilisant 4 pièces pour mémoriser $i$ fleurs, puis en ajoutant des fleurs par étapes de 2 pièces, on minimise le coût pour atteindre chaque multiple $j⋅i$ sans recalculer chaque possibilité depuis zéro. Cela optimise le nombre de pièces nécessaires pour obtenir jusqu'à $N$ fleurs en mettant à jour chaque $u_{j \\cdot i}$ avec le coût minimal calculé.\n",
    "\n",
    "##### Implémentation\n",
    " \n",
    "Nous initialisons un tableau $U$ où $U[i]$ représente le nombre minimal de pièces nécessaires pour obtenir $i$ fleurs. Les valeurs initiales sont $U[0] = 0$ et $U[1] = 1$.\n",
    "\n",
    "Pour chaque nombre de fleurs $i$ de $2$ à $L$, nous considérons deux possibilités :\n",
    "\n",
    "1. **Ajouter une fleur en partant de $i - 1$ fleurs** : Cela coûte une pièce supplémentaire, donc $U[i] = \\min(U[i], U[i - 1] + 1)$.\n",
    "\n",
    "2. **Utiliser l’opération de mémorisation et de récupération de l’état** :\n",
    "    - Lorsque nous avons $i$ fleurs, nous lançons 4 pièces pour \"mémoriser\" cet état.\n",
    "    - Ensuite, pour chaque entier $j \\geq 2$ tel que $i \\times j \\leq L$, nous pouvons multiplier le nombre de fleurs par $j$ en lançant 2 pièces supplémentaires pour chaque itération après la première.\n",
    "    - Le coût total pour atteindre $i \\times j$ fleurs est donc $U[i] + 4 + 2 \\times (j - 1)$.\n",
    "    - Nous mettons à jour $U[i \\times j]$ si ce coût est inférieur à la valeur actuellement stockée.\n",
    "\n",
    "En parcourant tous les $i$ de $2$ à $L$ et en appliquant ces deux possibilités, nous construisons le tableau $U$ de manière efficace, en réduisant la redondance des calculs."
   ]
  },
  {
   "cell_type": "markdown",
   "id": "Yy_cvNWoFQTU",
   "metadata": {
    "id": "Yy_cvNWoFQTU"
   },
   "source": [
    "#### Complexité"
   ]
  },
  {
   "cell_type": "markdown",
   "id": "6iBPzZVoFWbJ",
   "metadata": {
    "id": "6iBPzZVoFWbJ"
   },
   "source": [
    "Quelle est la complexité temporelle de cet algorithme ? Que pouvez-vous en dire au regard de la recherche exhaustive codée plus tôt en lab ?"
   ]
  },
  {
   "cell_type": "markdown",
   "id": "fcVl13CNFjIV",
   "metadata": {
    "id": "fcVl13CNFjIV"
   },
   "source": [
    "- Boucle **externe** : La boucle principale s'exécute pour chaque $i$ de $2$ à $L$, donc $O(L)$ itérations\n",
    "- Boucle **interne** : Pour chaque $i$, on met à jour uniquement les multiples de $i$ jusqu'à $L$, donc $O(\\frac{L}{i})$ itérations\n",
    "- La **complexité temporelle** totale de l'algorithme est donc environ:\n",
    "$$\n",
    "O(L) + O\\left(\\sum_{i=2}^{L} \\frac{L}{i}\\right) = O(L) + O(L \\cdot \\log L) = O(L \\log L)\n",
    "$$\n",
    "\n",
    "  - (On passe de la somme $\\sum_{i=2}^{L} \\frac{L}{i}$ à $L \\cdot \\log L$ car $\\sum_{i=2}^{L} \\frac{1}{i} \\approx \\log L$. Donc, $\\sum_{i=2}^{L} \\frac{L}{i} \\approx L \\cdot \\log L$)\n",
    "\n",
    "\n",
    "Notes : version simple (comme sur le template fourni) de l'algorithme, qui itère sur la range (1, i+1) pour chaque i, la complexité est environ $O(L^2)$. Car boucle externe s'écute environ $L$ fois, et la boucle interne dans le pire cas peut s'exécuter jusqu'à L fois pour certains cas (même si toutes les itérations ne sont pas prises en compte pour toutes les valeurs de $i$)."
   ]
  },
  {
   "cell_type": "markdown",
   "id": "2fdc5c31",
   "metadata": {},
   "source": [
    "##### Analyse de la complexité\n",
    "Comparé à la recherche exhaustive qui avait une complexité exponentielle $O(3^L)$, notre algorithme est beaucoup plus efficace. La recherche exhaustive devenait rapidement inutilisable pour des valeurs de $L$ encore petite, alors que l'algorithme dynamique que nous avons mis en place permet de calculer le nombre minimal de pièces pour de grands $L$ en un temps raisonnable. La recherche exhaustive explore toutes les combinaisons possibles d'actions (lancer 1, 2 ou 4 pièces) pour atteindre $L$ nénuphars, ce qui conduit à une complexité exponentielle en $L$, soit $O(3^L)$. Ici nous avons une complexité logarithmique, ce qui est bien plus efficace.\n",
    " \n",
    "Conclusion : L'utilisation de la programmation dynamique nous a permis de réutiliser les résultats déjà calculés pour construire les solutions optimales pour des valeurs supérieures de $L$, évitant ainsi les calculs redondants et réduisant significativement le temps de calcul, c'est globalement bien plus performant."
   ]
  },
  {
   "cell_type": "code",
   "execution_count": 18,
   "id": "355c5612",
   "metadata": {},
   "outputs": [
    {
     "data": {
      "image/png": "[encoded data removed]",
      "text/plain": [
       "<Figure size 720x432 with 1 Axes>"
      ]
     },
     "metadata": {
      "needs_background": "light"
     },
     "output_type": "display_data"
    },
    {
     "data": {
      "image/png": "[encoded data removed]",
      "text/plain": [
       "<Figure size 720x432 with 1 Axes>"
      ]
     },
     "metadata": {
      "needs_background": "light"
     },
     "output_type": "display_data"
    }
   ],
   "source": [
    "import timeit\n",
    "\n",
    "L_values = list(range(100, 1000, 100))\n",
    "\n",
    "times = []\n",
    "for L in L_values:\n",
    "    time_taken = timeit.timeit(lambda: min_well_coin(L), number=10)\n",
    "    times.append(time_taken / 10) \n",
    "\n",
    "plt.figure(figsize=(10, 6))\n",
    "plt.plot(L_values, times, marker='o', linestyle='-')\n",
    "plt.xlabel(\"Value of L\")\n",
    "plt.ylabel(\"Execution time (seconds)\")\n",
    "plt.title(\"Time complexity of the min_well_coin algorithm\")\n",
    "plt.grid()\n",
    "plt.show()\n",
    "\n",
    "\n",
    "times = []\n",
    "for L in L_values:\n",
    "    time_taken = timeit.timeit(lambda: min_well_coin_opti(L), number=10)\n",
    "    times.append(time_taken / 10)  \n",
    "\n",
    "# Plot des résultats\n",
    "plt.figure(figsize=(10, 6))\n",
    "plt.plot(L_values, times, marker='o', linestyle='-')\n",
    "plt.xlabel(\"Value of L\")\n",
    "plt.ylabel(\"Execution time (seconds)\")\n",
    "plt.title(\"Time complexity of the min_well_coin_opti algorithm\")\n",
    "plt.grid()\n",
    "plt.show()"
   ]
  }
 ],
 "metadata": {
  "colab": {
   "provenance": []
  },
  "kernelspec": {
   "display_name": "base",
   "language": "python",
   "name": "python3"
  },
  "language_info": {
   "codemirror_mode": {
    "name": "ipython",
    "version": 3
   },
   "file_extension": ".py",
   "mimetype": "text/x-python",
   "name": "python",
   "nbconvert_exporter": "python",
   "pygments_lexer": "ipython3",
   "version": "3.10.6"
  }
 },
 "nbformat": 4,
 "nbformat_minor": 5
}
