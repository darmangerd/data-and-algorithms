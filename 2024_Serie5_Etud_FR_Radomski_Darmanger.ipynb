{
  "cells": [
    {
      "cell_type": "markdown",
      "id": "3753f8ac-fd3a-4817-9c73-7772af832027",
      "metadata": {
        "id": "3753f8ac-fd3a-4817-9c73-7772af832027"
      },
      "source": [
        "# Série 5\n",
        "Ce document contient les différents exercices à réaliser. Veuillez compléter et rendre ces exercices dans deux semaines.\n",
        "\n",
        "Pour chaque exercice:\n",
        "* implémentez ce qui est demandé\n",
        "* commentez votre code\n",
        "* expliquez **en français ou en anglais** ce que vous avez codé dans la cellule correspondante\n",
        "\n",
        "\n",
        "Dans vos explications à chacun des exercices, indiquez un pourcentage subjectif d'investissement de chaque membre du groupe. **Des interrogations aléatoires en classe pourront être réalisées pour vérifier votre contribution/compréhension.**"
      ]
    },
    {
      "cell_type": "markdown",
      "id": "1fb0b066-c859-40a3-a8d6-7bcc656f8764",
      "metadata": {
        "id": "1fb0b066-c859-40a3-a8d6-7bcc656f8764"
      },
      "source": [
        "## Exercice 1\n",
        "Ecrivez un programme qui interprête une liste d'instructions en RPN (Reverse Polish Notation).\n",
        "* Si l'instruction est un entier, ajoutez-la au sommet de la pile.\n",
        "* Les opérations + - * / déclenchent un `pop()` des deux derniers nombres de la pile et un `push()` du résultat de l'opération entre ces deux nombres.\n",
        "\n",
        "Exemples:\n",
        "\n",
        "- ```1 4 - 3 *``` donne comme résultat ```-9```\n",
        "\n",
        "- ```3 4 * 6 / 1 2 +``` donne comme résultat ```2 3```\n",
        "\n",
        "Votre solution doit utiliser une pile que vous avez implémentée. Elle doit utiliser une liste (tableau) de taille fixe sans pour autant hériter de `List`. Il faut utiliser les fonctions (que vous devez implémenter) suivantes:"
      ]
    },
    {
      "cell_type": "code",
      "execution_count": 5,
      "id": "f7d53256-24f6-4c2c-860f-2b0577daf6db",
      "metadata": {
        "id": "f7d53256-24f6-4c2c-860f-2b0577daf6db"
      },
      "outputs": [],
      "source": [
        "class MyStack:\n",
        "    def __init__(self, size: int) -> None:\n",
        "        if size < 0:\n",
        "            raise RuntimeError(\"attempted to create stack of negative size\")\n",
        "\n",
        "        self._size = 0\n",
        "        self._elements: list[int] = [0 for _ in range(size)]\n",
        "\n",
        "    def print(self) -> str:\n",
        "        return \" \".join(str(it) for it in self._elements)\n",
        "\n",
        "    def size(self) -> int:\n",
        "        return self._size\n",
        "\n",
        "    def is_empty(self) -> bool:\n",
        "        return self._size == 0\n",
        "\n",
        "    def push(self, o: int):  # Throws FullStackException\n",
        "        if self._size == len(self._elements):\n",
        "            raise FullStackException(\n",
        "                f\"attempted to push element onto full stack, received '{o}'\"\n",
        "            )\n",
        "\n",
        "        self._elements[self._size] = o\n",
        "        self._size += 1\n",
        "\n",
        "    def pop(self) -> int:  # Throws VoidStackException\n",
        "        if self._size == 0:\n",
        "            raise VoidStackException(f\"attempted to pop an element from an empty stack\")\n",
        "\n",
        "        popped_element_idx = self._size - 1\n",
        "        self._size = popped_element_idx\n",
        "\n",
        "        return self._elements[popped_element_idx]\n",
        "\n",
        "    def __repr__(self) -> str:\n",
        "        return repr(self._elements)\n",
        "\n",
        "\n",
        "class Error(Exception):\n",
        "    pass\n",
        "\n",
        "\n",
        "class FullStackException(Error):\n",
        "    pass\n",
        "\n",
        "\n",
        "class VoidStackException(Error):\n",
        "    pass"
      ]
    },
    {
      "cell_type": "code",
      "execution_count": 6,
      "id": "c1fd10ee-e325-40e9-8e21-081905a50ec5",
      "metadata": {
        "id": "c1fd10ee-e325-40e9-8e21-081905a50ec5"
      },
      "outputs": [],
      "source": [
        "s = MyStack(3)\n",
        "assert s.size() == 0\n",
        "assert s.is_empty() == True\n",
        "s.push(1)\n",
        "s.push(4)\n",
        "s.print()\n",
        "assert s.size() == 2\n",
        "assert s.is_empty() == False\n",
        "assert s.pop() == 4\n",
        "s.print()\n",
        "assert s.size() == 1\n",
        "s.push(3)\n",
        "s.push(10)\n",
        "assert s.size() == 3\n",
        "s.print()\n",
        "try:\n",
        "    s.push(12)\n",
        "    print(\"Erreur: FullStackException doit être levée durant cette opération\")\n",
        "except FullStackException:\n",
        "    pass\n",
        "except:\n",
        "    print(\"Erreur: FullStackException doit être levée durant cette opération\")\n",
        "assert s.pop() == 10\n",
        "assert s.pop() == 3\n",
        "assert s.pop() == 1\n",
        "assert s.size() == 0\n",
        "assert s.is_empty() == True\n",
        "\n",
        "s = MyStack(3)\n",
        "s.push(5)\n",
        "assert s.size() == 1\n",
        "assert s.is_empty() == False\n",
        "s.print()\n",
        "assert s.pop() == 5\n",
        "assert s.size() == 0\n",
        "assert s.is_empty() == True\n",
        "s.print()\n",
        "try:\n",
        "    s.pop()\n",
        "    print(\"Erreur: VoidStackException doit être levée durant cette opération\")\n",
        "except VoidStackException:\n",
        "    pass\n",
        "except:\n",
        "    print(\"Erreur: VoidStackException doit être levée durant cette opération\")"
      ]
    },
    {
      "cell_type": "code",
      "execution_count": null,
      "id": "39c64d99-3c68-4a46-9ead-6ab8605a9cf6",
      "metadata": {
        "id": "39c64d99-3c68-4a46-9ead-6ab8605a9cf6"
      },
      "outputs": [],
      "source": [
        "import typing\n",
        "\n",
        "\n",
        "def rpn(entry: typing.Sequence[str]):\n",
        "    operand_stack = MyStack(len(entry))\n",
        "\n",
        "    operations: typing.Mapping[str, typing.Callable[[int, int], int]] = {\n",
        "        '+': (lambda first, second: first + second),\n",
        "        '-': (lambda first, second: first - second),\n",
        "        '*': (lambda first, second: first * second),\n",
        "        '/': (lambda first, second: first // second),\n",
        "    }\n",
        "\n",
        "    for operand_or_operator in entry:\n",
        "        operation = \n",
        "\n",
        "    # A COMPLETER\n",
        "    return None # retourne un objet MyStack"
      ]
    },
    {
      "cell_type": "code",
      "execution_count": null,
      "id": "18596dc6-a912-422c-9593-2c6ed7f660c9",
      "metadata": {
        "id": "18596dc6-a912-422c-9593-2c6ed7f660c9"
      },
      "outputs": [],
      "source": [
        "s = rpn([\"1\",\"4\",\"-\",\"3\",\"*\"])\n",
        "s.print() # doit être \"-9\"\n",
        "s = rpn([\"3\",\"4\",\"*\",\"6\",\"/\",\"1\",\"2\",\"+\"])\n",
        "s.print() # doit être \"2 3\""
      ]
    },
    {
      "cell_type": "markdown",
      "id": "2ca32f2e-e995-477c-8535-62f6e42dc093",
      "metadata": {
        "id": "2ca32f2e-e995-477c-8535-62f6e42dc093"
      },
      "source": [
        "### Explications"
      ]
    },
    {
      "cell_type": "markdown",
      "id": "f5a17952-cba5-4bc4-9a41-aa68a0b0d806",
      "metadata": {
        "id": "f5a17952-cba5-4bc4-9a41-aa68a0b0d806"
      },
      "source": [
        "<< A REMPLIR PAR L'ETUDIANT >>"
      ]
    },
    {
      "cell_type": "markdown",
      "id": "bd6bd0c1-822d-47dc-aff2-2a0e4d1f0bf7",
      "metadata": {
        "id": "bd6bd0c1-822d-47dc-aff2-2a0e4d1f0bf7"
      },
      "source": [
        "## Exercice 2\n",
        "Implémentez et testez une liste doublement chaînée et son itérateur. Implémentez une classe pour la liste et une autre pour son itérateur. Si cela vous aide, vous pouvez utiliser la classe `Node` du cours."
      ]
    },
    {
      "cell_type": "code",
      "execution_count": 18,
      "id": "689c847f",
      "metadata": {},
      "outputs": [],
      "source": [
        "class Node:\n",
        "    previous_node = None\n",
        "    current_node = None\n",
        "    next_node = None\n",
        "    def __init__(self, previous_node = None, current_node = None, next_node = None):\n",
        "        self.current_node = current_node\n",
        "        self.previous_node = previous_node\n",
        "        self.next_node = next_node\n",
        "    \n",
        "    def get(self):\n",
        "        \"\"\" Return the current node \"\"\"\n",
        "        return self.current_node\n",
        "    \n",
        "    def set(self, node):\n",
        "        \"\"\" Set the current node \"\"\"\n",
        "        self.current_node = node\n",
        "        \n",
        "    def get_next(self):\n",
        "        \"\"\" Return the next node \"\"\"\n",
        "        return self.next_node\n",
        "    \n",
        "    def set_next(self, node):\n",
        "        \"\"\" Set the next node \"\"\"\n",
        "        self.next_node = node\n",
        "        \n",
        "    def get_previous(self):\n",
        "        \"\"\" Return the previous node \"\"\"\n",
        "        return self.previous_node\n",
        "    \n",
        "    def set_previous(self, node):\n",
        "        \"\"\" Set the previous node \"\"\"\n",
        "        self.previous_node = node\n"
      ]
    },
    {
      "cell_type": "code",
      "execution_count": 15,
      "id": "69cdb9e4",
      "metadata": {},
      "outputs": [],
      "source": [
        "class DoublyLinkedIterator:\n",
        "    def __init__(self):\n",
        "        self.current_node = None\n",
        "\n",
        "    def __init__(self, node):\n",
        "        self.current_node = node\n",
        "\n",
        "    # modifie la valeur de l'élément actuellement itéré\n",
        "    def set(self,value):\n",
        "        \"\"\" Set the value of the current node \"\"\"\n",
        "        if self.current_node is not None:\n",
        "            self.current_node.set(value)\n",
        "\n",
        "    # retourne la valeur stockée dans l'élément actuellement itéré\n",
        "    def get(self):\n",
        "        \"\"\" Return the value of the current node \"\"\"\n",
        "        if self.current_node is not None:\n",
        "            return self.current_node.get()\n",
        "\n",
        "    # retourne une instance de l'itérateur sur le prochain élément de la liste\n",
        "    # s'il y en a un\n",
        "    def increment(self):\n",
        "        \"\"\" Return an iterator on the next element of the list \"\"\"\n",
        "        if self.current_node is not None and self.current_node.get_next() is not None:\n",
        "            # self.current_node = self.current_node.get_next()\n",
        "            return DoublyLinkedIterator(self.current_node.get_next())\n",
        "        return None\n",
        "\n",
        "    # retourne une instance de l'itérateur sur l'élément précédent de la liste\n",
        "    # s'il y en a un\n",
        "    def decrement(self):\n",
        "        \"\"\" Return an iterator on the previous element of the list \"\"\"\n",
        "        if self.current_node is not None and self.current_node.get_previous() is not None:\n",
        "            # self.current_node = self.current_node.get_previous()\n",
        "            return DoublyLinkedIterator(self.current_node.get_previous())\n",
        "        return None\n",
        "\n",
        "    # retourne une valeur booléenne, selon si l'itérateur passé en paramètre énumère\n",
        "    # la même liste et est positionner au même endroit.\n",
        "    # Autrement dit, si les deux itérateurs sont sur le même élément\n",
        "    def equals(self,o):\n",
        "        \"\"\" Return a boolean value, according to if the two iterators are on the same element \"\"\"\n",
        "        return self.current_node == o.current_node"
      ]
    },
    {
      "cell_type": "code",
      "execution_count": 16,
      "id": "6f501f1b-c57f-4537-b843-93cc508b923b",
      "metadata": {
        "id": "6f501f1b-c57f-4537-b843-93cc508b923b"
      },
      "outputs": [],
      "source": [
        "class DoublyLinkedList:\n",
        "    def __init__ (self):\n",
        "        self.head = None\n",
        "        self.tail = None\n",
        "\n",
        "    # retourne une instance de l'itérateur DoublyLinkedIterator ayant le\n",
        "    # premier élément de la liste comme position initiale.\n",
        "    def begin(self):\n",
        "        \"\"\" Return an iterator on the head of the list \"\"\"\n",
        "        return DoublyLinkedIterator(self.head)\n",
        "\n",
        "    # retourne une instance de l'itérateur DoublyLinkedIterator ayant le\n",
        "    # dernier élément de la liste comme position initiale\n",
        "    def end(self):\n",
        "        \"\"\" Return an iterator on the tail of the list \"\"\"\n",
        "        return DoublyLinkedIterator(self.tail)\n",
        "\n",
        "    # ajoute un élément à la fin de la liste\n",
        "    def add(self, value):\n",
        "        \"\"\" Add an element at the end of the list \"\"\"\n",
        "        new_node = Node(None, value, None)\n",
        "        if self.is_empty():\n",
        "            # since the list is empty, the new node is both the head and the tail (only element)\n",
        "            self.head = new_node\n",
        "            self.tail = new_node\n",
        "        else:\n",
        "            self.tail.set_next(new_node) # previous tail node now points to the new node\n",
        "            new_node.set_previous(self.tail) # new node previous link points to the previous tail node\n",
        "            self.tail = new_node # the new node is now the tail\n",
        "\n",
        "\n",
        "    # supprime l'élément en tête de liste (le premier) et le retourne\n",
        "    def remove(self):\n",
        "        \"\"\" Remove the head of the list and return it \"\"\"\n",
        "        if self.is_empty():\n",
        "            return None\n",
        "        \n",
        "        # get the value of the head\n",
        "        value = self.head.get()\n",
        "\n",
        "        # if the list has only one element, the head and the tail are the same\n",
        "        if self.head == self.tail:\n",
        "            self.head = None\n",
        "            self.tail = None\n",
        "        else:\n",
        "            # the new head is the next node of the current head\n",
        "            self.head = self.head.get_next()\n",
        "            # the new head previous link is None\n",
        "            self.head.set_previous(None)\n",
        "        return value\n",
        "\n",
        "    # retourne une valeur booléenne, selon que la liste est vide ou non\n",
        "    def is_empty(self):\n",
        "        \"\"\" Return a boolean value, according to if the list is empty or not \"\"\"\n",
        "        return self.head is None # if head is None, the list is empty"
      ]
    },
    {
      "cell_type": "code",
      "execution_count": 17,
      "id": "0d5a3f23",
      "metadata": {},
      "outputs": [],
      "source": [
        "dll = DoublyLinkedList()\n",
        "assert dll.is_empty() == True\n",
        "dll.add(3)\n",
        "assert dll.begin().get() == 3\n",
        "assert dll.is_empty() == False\n",
        "dll.add(10)\n",
        "dll.add(9)\n",
        "assert dll.end().get() == 9\n",
        "\n",
        "it = dll.begin()\n",
        "assert it.get() == 3\n",
        "it = it.increment()\n",
        "assert it.get() == 10\n",
        "it = it.decrement()\n",
        "assert it.equals(dll.begin()) == True\n",
        "it.set(4)\n",
        "assert it.get() == 4\n",
        "\n",
        "assert dll.remove() == 4\n",
        "assert dll.begin().get() == 10\n",
        "assert dll.remove() == 10\n",
        "assert dll.remove() == 9\n",
        "assert dll.is_empty() == True"
      ]
    },
    {
      "cell_type": "markdown",
      "id": "85d504c1-3064-4df1-8d3d-f8703c9b64ee",
      "metadata": {
        "id": "85d504c1-3064-4df1-8d3d-f8703c9b64ee"
      },
      "source": [
        "### Explications"
      ]
    },
    {
      "cell_type": "markdown",
      "id": "55dd4727-de5d-4c43-81f8-6009efda9846",
      "metadata": {
        "id": "55dd4727-de5d-4c43-81f8-6009efda9846"
      },
      "source": [
        "Une liste doublement chaînée est une liste où chaque élément possède un pointeur vers l'élément précédent et un pointeur vers l'élément suivant. Cela permet de parcourir la liste dans les deux sens. Un itérateur est un objet qui permet de parcourir une liste. Il possède des méthodes pour se déplacer dans la liste et pour récupérer l'élément courant."
      ]
    },
    {
      "cell_type": "markdown",
      "id": "16b3e22e-7071-40f1-a581-acbbf60cb96f",
      "metadata": {
        "id": "16b3e22e-7071-40f1-a581-acbbf60cb96f"
      },
      "source": [
        "## Exercice 3\n",
        "Implémentez et testez une classe qui crée et rempli la liste doublement chaînée créée dans l'exercice 2 avec _n_ nombres aléatoires entre _0_ et _2n_. Utilisez l'implémentation de l'itérateur de l'exercice 2 pour:\n",
        "* itérer dans la liste et afficher chaque élément\n",
        "* afficher le premier élément de la liste et la position de la première occurence de X dans la liste:\n",
        "  *  le cas où X n’est pas présent dans la liste doit être géré avec une exception dédiée `ItemNotFound`\n",
        "* itérer la liste à l'envers (du dernier au premier élément) et afficher chaque élément dans l'ordre d'itération\n",
        "* retirer chaque occurrence de X de la liste (elle peut contenir des éléments à double)\n",
        "  * le cas où X n’est pas présent dans la liste doit être géré avec une exception dédiée `ItemNotFound`"
      ]
    },
    {
      "cell_type": "code",
      "execution_count": null,
      "id": "3919b194-357b-41dd-88f5-2c7fdf61ac27",
      "metadata": {
        "id": "3919b194-357b-41dd-88f5-2c7fdf61ac27"
      },
      "outputs": [],
      "source": [
        "class TestLinkedList:\n",
        "    list = None\n",
        "\n",
        "    def __init__(self):\n",
        "        pass\n",
        "\n",
        "    def print_list_forwards(self):\n",
        "        # A COMPLETER\n",
        "        pass\n",
        "\n",
        "    def first_element(self):\n",
        "        # A COMPLETER\n",
        "        pass\n",
        "\n",
        "    def first_occurence(self, x):\n",
        "        # A COMPLETER\n",
        "        pass\n",
        "\n",
        "    def print_list_backwards(self):\n",
        "        # A COMPLETER\n",
        "        pass\n",
        "\n",
        "    def remove_element(self, x):\n",
        "        # A COMPLETER\n",
        "        pass"
      ]
    },
    {
      "cell_type": "code",
      "execution_count": null,
      "id": "k-tbRqHDOzjV",
      "metadata": {
        "id": "k-tbRqHDOzjV"
      },
      "outputs": [],
      "source": [
        "# Quelques tests à titre indicatif\n",
        "n = 5\n",
        "test = TestLinkedList(n)\n",
        "test.print_list_forwards()\n",
        "print()\n",
        "test.first_element()\n",
        "print()\n",
        "print(\"Must be the first element of the list (index = 0)\")\n",
        "test.first_occurence(test.list.begin().get())\n",
        "test.first_occurence(test.list.end().get())\n",
        "\n",
        "try:\n",
        "    test.first_occurence(n*2+1)\n",
        "    print(\"Error: ItemNotFound exception must be raised\")\n",
        "except ItemNotFound:\n",
        "    pass\n",
        "except:\n",
        "    print(\"Error: ItemNotFound exception must be raised\")\n",
        "\n",
        "test.print_list_backwards()\n",
        "print()\n",
        "test.remove_element(test.list.begin().get())\n",
        "test.print_list_forwards()\n",
        "test.remove_element(test.list.end().get())\n",
        "test.print_list_forwards()\n",
        "\n",
        "try:\n",
        "    test.remove_element(n*2+1)\n",
        "    print(\"Error: ItemNotFound exception must be raised\")\n",
        "except ItemNotFound:\n",
        "    pass\n",
        "except:\n",
        "    print(\"Error: ItemNotFound exception must be raised\")"
      ]
    },
    {
      "cell_type": "markdown",
      "id": "bf53aa4c-b468-420f-a136-7a48c7615308",
      "metadata": {
        "id": "bf53aa4c-b468-420f-a136-7a48c7615308"
      },
      "source": [
        "### Explications"
      ]
    },
    {
      "cell_type": "markdown",
      "id": "4208091b-7d07-4182-ac98-df7591e97a7e",
      "metadata": {
        "id": "4208091b-7d07-4182-ac98-df7591e97a7e"
      },
      "source": [
        "<< A REMPLIR PAR L'ETUDIANT >>"
      ]
    }
  ],
  "metadata": {
    "colab": {
      "provenance": []
    },
    "kernelspec": {
      "display_name": ".venv",
      "language": "python",
      "name": "python3"
    },
    "language_info": {
      "codemirror_mode": {
        "name": "ipython",
        "version": 3
      },
      "file_extension": ".py",
      "mimetype": "text/x-python",
      "name": "python",
      "nbconvert_exporter": "python",
      "pygments_lexer": "ipython3",
      "version": "3.12.6"
    }
  },
  "nbformat": 4,
  "nbformat_minor": 5
}
