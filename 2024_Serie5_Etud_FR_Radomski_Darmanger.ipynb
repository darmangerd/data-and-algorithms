{
  "cells": [
    {
      "cell_type": "markdown",
      "id": "3753f8ac-fd3a-4817-9c73-7772af832027",
      "metadata": {
        "id": "3753f8ac-fd3a-4817-9c73-7772af832027"
      },
      "source": [
        "# Série 5\n",
        "Ce document contient les différents exercices à réaliser. Veuillez compléter et rendre ces exercices dans deux semaines.\n",
        "\n",
        "Pour chaque exercice:\n",
        "* implémentez ce qui est demandé\n",
        "* commentez votre code\n",
        "* expliquez **en français ou en anglais** ce que vous avez codé dans la cellule correspondante\n",
        "\n",
        "\n",
        "Dans vos explications à chacun des exercices, indiquez un pourcentage subjectif d'investissement de chaque membre du groupe. **Des interrogations aléatoires en classe pourront être réalisées pour vérifier votre contribution/compréhension.**"
      ]
    },
    {
      "cell_type": "markdown",
      "id": "1fb0b066-c859-40a3-a8d6-7bcc656f8764",
      "metadata": {
        "id": "1fb0b066-c859-40a3-a8d6-7bcc656f8764"
      },
      "source": [
        "## Exercice 1\n",
        "Ecrivez un programme qui interprête une liste d'instructions en RPN (Reverse Polish Notation).\n",
        "* Si l'instruction est un entier, ajoutez-la au sommet de la pile.\n",
        "* Les opérations + - * / déclenchent un `pop()` des deux derniers nombres de la pile et un `push()` du résultat de l'opération entre ces deux nombres.\n",
        "\n",
        "Exemples:\n",
        "\n",
        "- ```1 4 - 3 *``` donne comme résultat ```-9```\n",
        "\n",
        "- ```3 4 * 6 / 1 2 +``` donne comme résultat ```2 3```\n",
        "\n",
        "Votre solution doit utiliser une pile que vous avez implémentée. Elle doit utiliser une liste (tableau) de taille fixe sans pour autant hériter de `List`. Il faut utiliser les fonctions (que vous devez implémenter) suivantes:"
      ]
    },
    {
      "cell_type": "code",
      "execution_count": null,
      "id": "f7d53256-24f6-4c2c-860f-2b0577daf6db",
      "metadata": {
        "id": "f7d53256-24f6-4c2c-860f-2b0577daf6db"
      },
      "outputs": [],
      "source": [
        "class MyStack:\n",
        "    def __init__(self, size: int):\n",
        "        # A COMPLETER\n",
        "        pass\n",
        "\n",
        "    def print(self):\n",
        "        # A COMPLETER\n",
        "        pass\n",
        "\n",
        "    def size(self):\n",
        "        # A COMPLETER\n",
        "        return None # retourne un int\n",
        "\n",
        "    def is_empty(self):\n",
        "        # A COMPLETER\n",
        "        return None # retourne un boolean\n",
        "\n",
        "    def push(self, o: int): # Throws FullStackException\n",
        "        # A COMPLETER\n",
        "        pass\n",
        "\n",
        "    def pop(self): # Throws VoidStackException\n",
        "        # A COMPLETER\n",
        "        return None # retourne un int\n",
        "\n",
        "class Error(Exception):\n",
        "    pass\n",
        "\n",
        "class FullStackException(Error):\n",
        "    pass\n",
        "\n",
        "class VoidStackException(Error):\n",
        "    pass\n"
      ]
    },
    {
      "cell_type": "code",
      "execution_count": null,
      "id": "c1fd10ee-e325-40e9-8e21-081905a50ec5",
      "metadata": {
        "id": "c1fd10ee-e325-40e9-8e21-081905a50ec5"
      },
      "outputs": [],
      "source": [
        "s = MyStack(3)\n",
        "assert s.size() == 0\n",
        "assert s.is_empty() == True\n",
        "s.push(1)\n",
        "s.push(4)\n",
        "s.print()\n",
        "assert s.size() == 2\n",
        "assert s.is_empty() == False\n",
        "assert s.pop() == 4\n",
        "s.print()\n",
        "assert s.size() == 1\n",
        "s.push(3)\n",
        "s.push(10)\n",
        "assert s.size() == 3\n",
        "s.print()\n",
        "try:\n",
        "    s.push(12)\n",
        "    print(\"Erreur: FullStackException doit être levée durant cette opération\")\n",
        "except FullStackException:\n",
        "    pass\n",
        "except:\n",
        "    print(\"Erreur: FullStackException doit être levée durant cette opération\")\n",
        "assert s.pop() == 10\n",
        "assert s.pop() == 3\n",
        "assert s.pop() == 1\n",
        "assert s.size() == 0\n",
        "assert s.is_empty() == True\n",
        "\n",
        "s = MyStack(3)\n",
        "s.push(5)\n",
        "assert s.size() == 1\n",
        "assert s.is_empty() == False\n",
        "s.print()\n",
        "assert s.pop() == 5\n",
        "assert s.size() == 0\n",
        "assert s.is_empty() == True\n",
        "s.print()\n",
        "try:\n",
        "    s.pop()\n",
        "    print(\"Erreur: VoidStackException doit être levée durant cette opération\")\n",
        "except VoidStackException:\n",
        "    pass\n",
        "except:\n",
        "    print(\"Erreur: VoidStackException doit être levée durant cette opération\")"
      ]
    },
    {
      "cell_type": "code",
      "execution_count": null,
      "id": "39c64d99-3c68-4a46-9ead-6ab8605a9cf6",
      "metadata": {
        "id": "39c64d99-3c68-4a46-9ead-6ab8605a9cf6"
      },
      "outputs": [],
      "source": [
        "# Param:\n",
        "# entry: String[]\n",
        "def rpn(entry):\n",
        "    # A COMPLETER\n",
        "    return None # retourne un objet MyStack"
      ]
    },
    {
      "cell_type": "code",
      "execution_count": null,
      "id": "18596dc6-a912-422c-9593-2c6ed7f660c9",
      "metadata": {
        "id": "18596dc6-a912-422c-9593-2c6ed7f660c9"
      },
      "outputs": [],
      "source": [
        "s = rpn([\"1\",\"4\",\"-\",\"3\",\"*\"])\n",
        "s.print() # doit être \"-9\"\n",
        "s = rpn([\"3\",\"4\",\"*\",\"6\",\"/\",\"1\",\"2\",\"+\"])\n",
        "s.print() # doit être \"2 3\""
      ]
    },
    {
      "cell_type": "markdown",
      "id": "2ca32f2e-e995-477c-8535-62f6e42dc093",
      "metadata": {
        "id": "2ca32f2e-e995-477c-8535-62f6e42dc093"
      },
      "source": [
        "### Explications"
      ]
    },
    {
      "cell_type": "markdown",
      "id": "f5a17952-cba5-4bc4-9a41-aa68a0b0d806",
      "metadata": {
        "id": "f5a17952-cba5-4bc4-9a41-aa68a0b0d806"
      },
      "source": [
        "<< A REMPLIR PAR L'ETUDIANT >>"
      ]
    },
    {
      "cell_type": "markdown",
      "id": "bd6bd0c1-822d-47dc-aff2-2a0e4d1f0bf7",
      "metadata": {
        "id": "bd6bd0c1-822d-47dc-aff2-2a0e4d1f0bf7"
      },
      "source": [
        "## Exercice 2\n",
        "Implémentez et testez une liste doublement chaînée et son itérateur. Implémentez une classe pour la liste et une autre pour son itérateur. Si cela vous aide, vous pouvez utiliser la classe `Node` du cours."
      ]
    },
    {
      "cell_type": "code",
      "execution_count": null,
      "id": "6f501f1b-c57f-4537-b843-93cc508b923b",
      "metadata": {
        "id": "6f501f1b-c57f-4537-b843-93cc508b923b"
      },
      "outputs": [],
      "source": [
        "class DoublyLinkedList:\n",
        "    def __init__ (self):\n",
        "        # A COMPLETER\n",
        "        pass\n",
        "\n",
        "    # retourne une instance de l'itérateur DoublyLinkedIterator ayant le\n",
        "    # premier élément de la liste comme position initiale.\n",
        "    def begin(self):\n",
        "        # A COMPLETER\n",
        "        return None\n",
        "\n",
        "    # retourne une instance de l'itérateur DoublyLinkedIterator ayant le\n",
        "    # dernier élément de la liste comme position initiale\n",
        "    def end(self):\n",
        "        # A COMPLETER\n",
        "        return None\n",
        "\n",
        "    # ajoute un élément à la fin de la liste\n",
        "    def add(self, e):\n",
        "        # A COMPLETER\n",
        "        pass\n",
        "\n",
        "    # supprime l'élément en tête de liste (le premier) et le retourne\n",
        "    def remove(self):\n",
        "        # A COMPLETER\n",
        "        return None # retourne l'élément supprimé\n",
        "\n",
        "    # retourne une valeur booléenne, selon que la liste est vide ou non\n",
        "    def is_empty(self):\n",
        "        # A COMPLETER\n",
        "        return None # retourne un boolean\n",
        "\n",
        "\n",
        "class DoublyLinkedIterator:\n",
        "    def __init__(self):\n",
        "        # A COMPLETER\n",
        "        pass\n",
        "\n",
        "    # modifie la valeur de l'élément actuellement itéré\n",
        "    def set(self,e):\n",
        "        # A COMPLETER\n",
        "        pass\n",
        "\n",
        "    # retourne la valeur stockée dans l'élément actuellement itéré\n",
        "    def get(self):\n",
        "        # A COMPLETER\n",
        "        return None\n",
        "\n",
        "    # retourne une instance de l'itérateur sur le prochain élément de la liste\n",
        "    # s'il y en a un\n",
        "    def increment(self):\n",
        "        # A COMPLETER\n",
        "        return None\n",
        "\n",
        "    # retourne une instance de l'itérateur sur l'élément précédent de la liste\n",
        "    # s'il y en a un\n",
        "    def decrement(self):\n",
        "        # A COMPLETER\n",
        "        return None\n",
        "\n",
        "    # retourne une valeur booléenne, selon si l'itérateur passé en paramètre énumère\n",
        "    # la même liste et est positionner au même endroit.\n",
        "    # Autrement dit, si les deux itérateurs sont sur le même élément\n",
        "    def equals(self,o):\n",
        "        # A COMPLETER\n",
        "        return None"
      ]
    },
    {
      "cell_type": "code",
      "execution_count": null,
      "id": "44b9dcda-5039-4731-902e-9ed1d09634b4",
      "metadata": {
        "id": "44b9dcda-5039-4731-902e-9ed1d09634b4"
      },
      "outputs": [],
      "source": [
        "dll = DoublyLinkedList()\n",
        "assert dll.is_empty() == True\n",
        "dll.add(3)\n",
        "assert dll.begin().get() == 3\n",
        "assert dll.is_empty() == False\n",
        "dll.add(10)\n",
        "dll.add(9)\n",
        "assert dll.end().get() == 9\n",
        "\n",
        "it = dll.begin()\n",
        "assert it.get() == 3\n",
        "it = it.increment()\n",
        "assert it.get() == 10\n",
        "it = it.decrement()\n",
        "assert it.equals(dll.begin()) == True\n",
        "it.set(4)\n",
        "assert it.get() == 4\n",
        "\n",
        "assert dll.remove() == 4\n",
        "assert dll.begin().get() == 10\n",
        "assert dll.remove() == 10\n",
        "assert dll.remove() == 9\n",
        "assert dll.is_empty() == True"
      ]
    },
    {
      "cell_type": "markdown",
      "id": "85d504c1-3064-4df1-8d3d-f8703c9b64ee",
      "metadata": {
        "id": "85d504c1-3064-4df1-8d3d-f8703c9b64ee"
      },
      "source": [
        "### Explications"
      ]
    },
    {
      "cell_type": "markdown",
      "id": "55dd4727-de5d-4c43-81f8-6009efda9846",
      "metadata": {
        "id": "55dd4727-de5d-4c43-81f8-6009efda9846"
      },
      "source": [
        "<< A REMPLIR PAR L'ETUDIANT >>"
      ]
    },
    {
      "cell_type": "markdown",
      "id": "16b3e22e-7071-40f1-a581-acbbf60cb96f",
      "metadata": {
        "id": "16b3e22e-7071-40f1-a581-acbbf60cb96f"
      },
      "source": [
        "## Exercice 3\n",
        "Implémentez et testez une classe qui crée et rempli la liste doublement chaînée créée dans l'exercice 2 avec _n_ nombres aléatoires entre _0_ et _2n_. Utilisez l'implémentation de l'itérateur de l'exercice 2 pour:\n",
        "* itérer dans la liste et afficher chaque élément\n",
        "* afficher le premier élément de la liste et la position de la première occurence de X dans la liste:\n",
        "  *  le cas où X n’est pas présent dans la liste doit être géré avec une exception dédiée `ItemNotFound`\n",
        "* itérer la liste à l'envers (du dernier au premier élément) et afficher chaque élément dans l'ordre d'itération\n",
        "* retirer chaque occurrence de X de la liste (elle peut contenir des éléments à double)\n",
        "  * le cas où X n’est pas présent dans la liste doit être géré avec une exception dédiée `ItemNotFound`"
      ]
    },
    {
      "cell_type": "code",
      "execution_count": null,
      "id": "3919b194-357b-41dd-88f5-2c7fdf61ac27",
      "metadata": {
        "id": "3919b194-357b-41dd-88f5-2c7fdf61ac27"
      },
      "outputs": [],
      "source": [
        "class TestLinkedList:\n",
        "    list = None\n",
        "\n",
        "    def __init__(self):\n",
        "        pass\n",
        "\n",
        "    def print_list_forwards(self):\n",
        "        # A COMPLETER\n",
        "        pass\n",
        "\n",
        "    def first_element(self):\n",
        "        # A COMPLETER\n",
        "        pass\n",
        "\n",
        "    def first_occurence(self, x):\n",
        "        # A COMPLETER\n",
        "        pass\n",
        "\n",
        "    def print_list_backwards(self):\n",
        "        # A COMPLETER\n",
        "        pass\n",
        "\n",
        "    def remove_element(self, x):\n",
        "        # A COMPLETER\n",
        "        pass"
      ]
    },
    {
      "cell_type": "code",
      "source": [
        "# Quelques tests à titre indicatif\n",
        "n = 5\n",
        "test = TestLinkedList(n)\n",
        "test.print_list_forwards()\n",
        "print()\n",
        "test.first_element()\n",
        "print()\n",
        "print(\"Must be the first element of the list (index = 0)\")\n",
        "test.first_occurence(test.list.begin().get())\n",
        "test.first_occurence(test.list.end().get())\n",
        "\n",
        "try:\n",
        "    test.first_occurence(n*2+1)\n",
        "    print(\"Error: ItemNotFound exception must be raised\")\n",
        "except ItemNotFound:\n",
        "    pass\n",
        "except:\n",
        "    print(\"Error: ItemNotFound exception must be raised\")\n",
        "\n",
        "test.print_list_backwards()\n",
        "print()\n",
        "test.remove_element(test.list.begin().get())\n",
        "test.print_list_forwards()\n",
        "test.remove_element(test.list.end().get())\n",
        "test.print_list_forwards()\n",
        "\n",
        "try:\n",
        "    test.remove_element(n*2+1)\n",
        "    print(\"Error: ItemNotFound exception must be raised\")\n",
        "except ItemNotFound:\n",
        "    pass\n",
        "except:\n",
        "    print(\"Error: ItemNotFound exception must be raised\")"
      ],
      "metadata": {
        "id": "k-tbRqHDOzjV"
      },
      "id": "k-tbRqHDOzjV",
      "execution_count": null,
      "outputs": []
    },
    {
      "cell_type": "markdown",
      "id": "bf53aa4c-b468-420f-a136-7a48c7615308",
      "metadata": {
        "id": "bf53aa4c-b468-420f-a136-7a48c7615308"
      },
      "source": [
        "### Explications"
      ]
    },
    {
      "cell_type": "markdown",
      "id": "4208091b-7d07-4182-ac98-df7591e97a7e",
      "metadata": {
        "id": "4208091b-7d07-4182-ac98-df7591e97a7e"
      },
      "source": [
        "<< A REMPLIR PAR L'ETUDIANT >>"
      ]
    }
  ],
  "metadata": {
    "kernelspec": {
      "display_name": "Python 3 (ipykernel)",
      "language": "python",
      "name": "python3"
    },
    "language_info": {
      "codemirror_mode": {
        "name": "ipython",
        "version": 3
      },
      "file_extension": ".py",
      "mimetype": "text/x-python",
      "name": "python",
      "nbconvert_exporter": "python",
      "pygments_lexer": "ipython3",
      "version": "3.8.8"
    },
    "colab": {
      "provenance": []
    }
  },
  "nbformat": 4,
  "nbformat_minor": 5
}