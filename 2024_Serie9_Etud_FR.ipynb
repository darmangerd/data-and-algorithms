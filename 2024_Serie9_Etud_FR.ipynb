{
  "cells": [
    {
      "cell_type": "markdown",
      "id": "3753f8ac-fd3a-4817-9c73-7772af832027",
      "metadata": {
        "id": "3753f8ac-fd3a-4817-9c73-7772af832027"
      },
      "source": [
        "# Série 9\n",
        "\n",
        "Ce document contient les différents exercices à réaliser. Veuillez compléter et rendre ces exercices dans deux semaines.\n",
        "\n",
        "Pour chaque exercice:\n",
        "* implémentez ce qui est demandé\n",
        "* commentez votre code\n",
        "* expliquez **en français** ce que vous avez codé dans la cellule correspondante\n",
        "\n",
        "Dans vos explications à chacun des exercices, indiquez un pourcentage subjectif d'investissement de chaque membre du groupe.\n",
        "**Des interrogations aléatoires en classe pourront être réalisées pour vérifier votre contribution/compréhension**.\n",
        "\n",
        "Les tentatives infructueuses, les explications, commentaires et analyses des échecs **rapportent des points**. Ne rendez pas copie-blanche, même si votre fonction n'est pas correcte."
      ]
    },
    {
      "cell_type": "markdown",
      "id": "1fb0b066-c859-40a3-a8d6-7bcc656f8764",
      "metadata": {
        "id": "1fb0b066-c859-40a3-a8d6-7bcc656f8764"
      },
      "source": [
        "## Exercice 1\n",
        "Écrivez une file de priorité (priority queue) à l'aide d'une structure de donnée \"monceau\" (heap), appelée `BinaryHeap`. La classe doit implémenter l'interface `PriorityQueue`.\n",
        "\n",
        "La solution doit également comporter des classes qui modélisent les éléments à insérer dans la priority queue. À cette fin, écrivez la class `KeyValuePair` qui implémentes l'interface `Comparable`, en utilisant un nombre entier comme clé et une chaîne de caractères comme valeur."
      ]
    },
    {
      "cell_type": "code",
      "execution_count": null,
      "id": "90510640",
      "metadata": {
        "id": "90510640"
      },
      "outputs": [],
      "source": [
        "#\n",
        "# > Cette cellule n'a pas besoin d'être modifiée pour la série !\n",
        "#\n",
        "\n",
        "# Une interface qui indique un contrat pour des instances qui peuvent être comparables.\n",
        "class Comparable:\n",
        "    # Vérifie si cet objet est plus petit qu'un autre objet o\n",
        "    # Retourne True si l'objet courant est plus petit que o\n",
        "    # Retourne False si l'objet courant n'est pas plus petit que o\n",
        "    def less_than(self, rhs) -> bool:\n",
        "        raise NotImplementedError\n",
        "\n",
        "    # Compare cet objet avec un autre objet o\n",
        "    # Retourne un entier négatif si cet objet est plus petit que o\n",
        "    # Retourne un entier positif si cet objet est plus grand que o\n",
        "    # Retourne un 0 si cet objet est égal à o\n",
        "    def compares(self, rhs) -> int:\n",
        "        raise NotImplementedError\n",
        "\n",
        "# An interface that specifies the primitives of a priority queue.\n",
        "class PriorityQueue:\n",
        "    # Ajoute un objet Comparable (x) dans le heap\n",
        "    def insert( self, x ): # x is of type Comparable\n",
        "        raise NotImplementedError\n",
        "\n",
        "    # Supprime et retourne l'entrée la plus petite\n",
        "    def delete_min(self) -> Comparable: # throws UnderflowException\n",
        "        raise NotImplementedError\n",
        "\n",
        "    # Retourne le plus petit élément sans le supprimer\n",
        "    def find_min(self) -> Comparable: # throws UnderflowException\n",
        "        raise NotImplementedError\n",
        "\n",
        "    # Supprimer toutes les entrées du heap\n",
        "    def make_empty(self):\n",
        "        raise NotImplementedError\n",
        "\n",
        "    # Détermine si la collection est vide\n",
        "    def is_empty(self) -> bool:\n",
        "        raise NotImplementedError\n",
        "\n",
        "    # Retourne le nombre d'éléments stockés dans la collection\n",
        "    def size(self) -> int:\n",
        "        raise NotImplementedError\n",
        "\n",
        "# L'exception est levée lors d'accès aux éléments d'une collection vide\n",
        "class UnderflowException(Exception):\n",
        "    pass"
      ]
    },
    {
      "cell_type": "code",
      "execution_count": null,
      "id": "f7d53256-24f6-4c2c-860f-2b0577daf6db",
      "metadata": {
        "id": "f7d53256-24f6-4c2c-860f-2b0577daf6db"
      },
      "outputs": [],
      "source": [
        "# L'implémentation à écrire pour l'élément inséré dans le monceau.\n",
        "class KeyValuePair(Comparable):\n",
        "    # A COMPLETER\n",
        "    # Astuce: reprendre les fonctions déclarées dans l'interface Comparable et les implémenter ici.\n",
        "\n",
        "# L'implémentation à écrire avec un monceau, implémentant l'interface PriorityQueue.\n",
        "class BinaryHeap(PriorityQueue):\n",
        "    # A COMPLETER\n",
        "    # Astuce: reprendre les fonctions déclarées dans l'interface PriorityQueue et les implémenter ici."
      ]
    },
    {
      "cell_type": "code",
      "execution_count": null,
      "id": "38b90d03",
      "metadata": {
        "id": "38b90d03"
      },
      "outputs": [],
      "source": [
        "pq = BinaryHeap()\n",
        "assert pq.is_empty()\n",
        "assert pq.size() == 0\n",
        "kv1 = KeyValuePair(5, \"a\")\n",
        "kv2 = KeyValuePair(3, \"b\")\n",
        "kv3 = KeyValuePair(8, \"c\")\n",
        "kv4 = KeyValuePair(7, \"d\")\n",
        "kv5 = KeyValuePair(1, \"e\")\n",
        "\n",
        "# Doit lever une exception de type UnderflowException.\n",
        "try:\n",
        "    pq.find_min()\n",
        "except UnderflowException:\n",
        "    pass\n",
        "\n",
        "# Doit lever une exception de type UnderflowException.\n",
        "try:\n",
        "    pq.delete_min()\n",
        "except UnderflowException:\n",
        "    pass\n",
        "\n",
        "pq.insert(kv1)\n",
        "# LE HEAP DOIT ETRE [5, a] A CE STADE\n",
        "assert not pq.is_empty()\n",
        "assert pq.find_min().get_key() == 5\n",
        "assert pq.size() == 1\n",
        "\n",
        "pq.insert(kv2)\n",
        "# LE HEAP DOIT ETRE [3, b][5, a] A CE STADE\n",
        "assert pq.find_min().get_key() == 3\n",
        "assert pq.size() == 2\n",
        "\n",
        "pq.insert(kv3)\n",
        "# LE HEAP DOIT ETRE [3, b][5, a][8, c] A CE STADE\n",
        "assert pq.find_min().get_key() == 3\n",
        "assert pq.size() == 3\n",
        "\n",
        "pq.insert(kv4)\n",
        "# LE HEAP DOIT ETRE [3, b][5, a][8, c][7, d] A CE STADE\n",
        "assert pq.find_min().get_key() == 3\n",
        "assert pq.size() == 4\n",
        "\n",
        "pq.insert(kv5)\n",
        "# LE HEAP DOIT ETRE [1 , e][3 , b][8 , c][7 , d][5 , a] A CE STADE\n",
        "assert pq.find_min().get_key() == 1\n",
        "assert pq.size() == 5\n",
        "\n",
        "# Tests the primitives\n",
        "list_of_key_value_pairs = []\n",
        "for i in range(5):\n",
        "    list_of_key_value_pairs.append(pq.delete_min())\n",
        "\n",
        "list_of_key_value_pairs.reverse()\n",
        "for i in range(len(list_of_key_value_pairs)):\n",
        "    pq.insert(list_of_key_value_pairs[i])\n",
        "\n",
        "# THE HEAP MUST BE [1 , e][3 , b][8 , c][7 , d][5 , a] AT THIS POINT\n",
        "assert pq.find_min().get_key() == 1\n",
        "assert pq.size() == 5\n",
        "\n",
        "min1 = pq.delete_min().get_key()\n",
        "# LE HEAP DOIT ETRE [3 , b][5 , a][8 , c][7 , d] A CE STADE\n",
        "assert pq.find_min().get_key() == 3\n",
        "assert pq.size() == 4\n",
        "assert min1 == 1\n",
        "\n",
        "min2 = pq.delete_min().get_key()\n",
        "# LE HEAP DOIT ETRE [5 , a][7 , d][8 , c] A CE STADE\n",
        "assert min2 == 3\n",
        "assert pq.find_min().get_key() == 5\n",
        "assert pq.size() == 3\n",
        "\n",
        "pq.make_empty()\n",
        "assert pq.size() == 0\n",
        "assert pq.is_empty()"
      ]
    },
    {
      "cell_type": "markdown",
      "id": "2ca32f2e-e995-477c-8535-62f6e42dc093",
      "metadata": {
        "id": "2ca32f2e-e995-477c-8535-62f6e42dc093"
      },
      "source": [
        "### Explications"
      ]
    },
    {
      "cell_type": "markdown",
      "id": "f5a17952-cba5-4bc4-9a41-aa68a0b0d806",
      "metadata": {
        "id": "f5a17952-cba5-4bc4-9a41-aa68a0b0d806"
      },
      "source": [
        "<< A REMPLIR PAR L'ETUDIANT >>"
      ]
    },
    {
      "cell_type": "markdown",
      "id": "434c30c3-795c-4a76-9cea-4037102c653c",
      "metadata": {
        "tags": [],
        "id": "434c30c3-795c-4a76-9cea-4037102c653c"
      },
      "source": [
        "## Exercice 2\n",
        "Utilisez votre implémentation de la structure de données priority queue pour trier efficacement une liste d'objets (une liste de candidats à une élection donnée) en fonction des votes reçus et des noms.\n",
        "\n",
        "La liste reçue en input doit être donnée dans un fichier texte (disponible sur Moodle), en suivant le format: Nom,Votes\n",
        "\n",
        "| Exemple d'input   | Exemple d'output   |\n",
        "| :----------------:|:------------------:|\n",
        "| John, 6           | George, 1          |\n",
        "| Paul, 5           | Ringo, 3           |\n",
        "| George, 1         | Paul, 5            |\n",
        "| Ringo, 3          | John, 6            |\n",
        "\n",
        "Pour ouvrir un fichier en utilisant jupyter notebook, vous devez le mettre au même niveau que ce fichier ipynb"
      ]
    },
    {
      "cell_type": "code",
      "execution_count": null,
      "id": "fc672302-3c40-4364-9832-529e5e30317c",
      "metadata": {
        "id": "fc672302-3c40-4364-9832-529e5e30317c"
      },
      "outputs": [],
      "source": [
        "# Lis le fichier et en crée une priority queue (typiquement en utilisant votre implémentation BinaryHeap)\n",
        "def create_priority_queue() -> PriorityQueue:\n",
        "    # A COMPLETER\n",
        "    return None # Retourne une instance de BinaryHeap\n",
        "\n",
        "# Crée une liste ordonnée à partir de la priority queue\n",
        "def create_final_list(pq):\n",
        "    # A COMPLETER\n",
        "    return None # Retourne une liste ordonnée"
      ]
    },
    {
      "cell_type": "code",
      "execution_count": null,
      "id": "2a47e4ca",
      "metadata": {
        "id": "2a47e4ca"
      },
      "outputs": [],
      "source": [
        "pq = create_priority_queue()\n",
        "final_list = create_final_list(pq)\n",
        "for x in final_list:\n",
        "    print(x)"
      ]
    },
    {
      "cell_type": "markdown",
      "id": "dd483e92",
      "metadata": {
        "id": "dd483e92"
      },
      "source": [
        "### Explications"
      ]
    },
    {
      "cell_type": "markdown",
      "id": "52716068",
      "metadata": {
        "id": "52716068"
      },
      "source": [
        "<< A REMPLIR PAR L'ETUDIANT >>"
      ]
    },
    {
      "cell_type": "markdown",
      "id": "bd6bd0c1-822d-47dc-aff2-2a0e4d1f0bf7",
      "metadata": {
        "id": "bd6bd0c1-822d-47dc-aff2-2a0e4d1f0bf7"
      },
      "source": [
        "### Exercice 2.1\n",
        "Quel est le coût (en termes de complexité de chaque opération) de votre solution? Justifiez votre réponse."
      ]
    },
    {
      "cell_type": "markdown",
      "id": "85d504c1-3064-4df1-8d3d-f8703c9b64ee",
      "metadata": {
        "id": "85d504c1-3064-4df1-8d3d-f8703c9b64ee"
      },
      "source": [
        "### Explications"
      ]
    },
    {
      "cell_type": "markdown",
      "id": "55dd4727-de5d-4c43-81f8-6009efda9846",
      "metadata": {
        "id": "55dd4727-de5d-4c43-81f8-6009efda9846"
      },
      "source": [
        "<< A REMPLIR PAR L'ETUDIANT >>"
      ]
    }
  ],
  "metadata": {
    "interpreter": {
      "hash": "4d627b3ea71e790ed7d9c294cc76e400708b53c97c06f52348911b9296e7b669"
    },
    "kernelspec": {
      "display_name": "Python 3 (ipykernel)",
      "language": "python",
      "name": "python3"
    },
    "language_info": {
      "codemirror_mode": {
        "name": "ipython",
        "version": 3
      },
      "file_extension": ".py",
      "mimetype": "text/x-python",
      "name": "python",
      "nbconvert_exporter": "python",
      "pygments_lexer": "ipython3",
      "version": "3.9.7"
    },
    "colab": {
      "provenance": []
    }
  },
  "nbformat": 4,
  "nbformat_minor": 5
}