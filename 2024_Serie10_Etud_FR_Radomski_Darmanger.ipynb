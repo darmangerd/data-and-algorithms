{
 "cells": [
  {
   "cell_type": "markdown",
   "id": "3753f8ac-fd3a-4817-9c73-7772af832027",
   "metadata": {
    "id": "3753f8ac-fd3a-4817-9c73-7772af832027"
   },
   "source": [
    "# Serie 10\n",
    "Ce document contient les différents exercices à réaliser. Veuillez compléter et rendre ces exercices pour la semaine prochaine.\n",
    "\n",
    "Pour chaque exercice:\n",
    "* implémentez ce qui est demandé\n",
    "* commentez votre code\n",
    "* expliquez **en français or English** ce que vous avez codé dans la cellule correspondante\n",
    "\n",
    "Dans vos explications à chacun des exercices, indiquez un pourcentage subjectif d'investissement de chaque membre du groupe. **Des interrogations aléatoires en classe pourront être réalisées pour vérifier votre contribution/compréhension**.\n",
    "\n",
    "Les tentatives infructueuses, les explications, commentaires et analyses des échecs **rapportent des points**. Ne rendez pas copie-blanche, même si votre fonction n'est pas correcte."
   ]
  },
  {
   "cell_type": "markdown",
   "id": "1fb0b066-c859-40a3-a8d6-7bcc656f8764",
   "metadata": {
    "id": "1fb0b066-c859-40a3-a8d6-7bcc656f8764"
   },
   "source": [
    "## Exercice 1\n",
    "Implémentez une type de données abstrait `HashTable` (table de hachage) qui utilise une dispersion linéaire (linear probing strategy) pour résoudre les collisions. La classe `HashTable` et ses fonctions à implémenter sont données - libre à vous cependant d'ajouter de nouvelles méthodes aux aux classes. Vous pouvez optionnellement utiliser une dispersion quadratique.\n",
    "\n",
    "Vous devez implémenter une classe `HashableImpl` dont les fonctions sont données. Cela correspond aux éléments qui seront stockés dans la hash table."
   ]
  },
  {
   "cell_type": "code",
   "execution_count": null,
   "id": "f7d53256-24f6-4c2c-860f-2b0577daf6db",
   "metadata": {
    "id": "f7d53256-24f6-4c2c-860f-2b0577daf6db"
   },
   "outputs": [],
   "source": [
    "# Représente un élément pouvant être stocké dans une instance de HashTable.\n",
    "class HashableImpl:\n",
    "    key = None\n",
    "    is_active = True\n",
    "    def __init__(self, key, is_active):\n",
    "        self.key = key\n",
    "        self.is_active = is_active  # (useless for you but keep it)\n",
    "\n",
    "    # Calcule le hash de cette instance de HashableImpl.\n",
    "    # La valeur retournée est un hash, représenté par un nombre entier.\n",
    "    def hash(self, table_size):\n",
    "        # A COMPLETER\n",
    "        return None\n",
    "\n",
    "    # Retourne la clé comme représentation de cette instance\n",
    "    # (vous n'avez pas besoin de modifier cette fonction).\n",
    "    def __str__(self):\n",
    "        return str(self.key)\n",
    "\n",
    "\n",
    "class HashTable:\n",
    "    def __init__(self):\n",
    "        self.ht = [] # Initialise la liste utilisée pour stocker les éléments de la hashtable\n",
    "        self.size = None # Compte le nombre de clés présentes dans la table\n",
    "        # A COMPLETER\n",
    "        pass\n",
    "\n",
    "    # Indique le nombre de collisions qui ont eu lieu lors de la recherche d'éléments dans la hashtable\n",
    "    def number_of_collisions(self):\n",
    "        # TO COMPLETE\n",
    "        return None\n",
    "\n",
    "    # Vide la hashtable et réinitialise le compteur de collisions\n",
    "    def make_empty(self):\n",
    "        # A COMPLETER\n",
    "        pass\n",
    "\n",
    "    # Vérifie si la hashtable est vide ou pas.\n",
    "    # Retourne True si la hashtable est vide, False sinon\n",
    "    def is_empty(self):\n",
    "        if self.size > 0:\n",
    "            return False\n",
    "        return True\n",
    "\n",
    "    # Insére un élément x HashableImpl dans la hash table.\n",
    "    def insert(self, x):\n",
    "        # A COMPLETER\n",
    "        pass\n",
    "\n",
    "    # Supprime l'élément x HashableImpl de la hash table\n",
    "    # Une exception ItemNotFound est levée si l'élément ne se trouve pas dans la liste\n",
    "    def remove(self, x): # Throws ItemNotFound\n",
    "        # A COMPLETER\n",
    "        pass\n",
    "\n",
    "    # Trouve l'élément x HashableImpl dans hash table\n",
    "    # Une exception ItemNotFound est levée si l'élément ne se trouve pas dans la liste\n",
    "    # Retourne l'élément HashableImpl\n",
    "    def find(self,x): # Throws ItemNotFound\n",
    "        # A COMPLETER\n",
    "        return None\n",
    "\n",
    "class Error(Exception):\n",
    "    pass\n",
    "\n",
    "class ItemNotFound(Error):\n",
    "    pass"
   ]
  },
  {
   "cell_type": "code",
   "execution_count": null,
   "id": "236e8517",
   "metadata": {
    "id": "236e8517"
   },
   "outputs": [],
   "source": [
    "def test_unexisting_value(hashable):\n",
    "    try:\n",
    "        ht.find(hashable)\n",
    "        print(\"Error: the item '\", hashable, \"' must not exist in the hash table\")\n",
    "    except ItemNotFound:\n",
    "        pass\n",
    "    except Exception as e:\n",
    "        print(\"Error: an unexpected exception has been raised\", type(e), \":\", e)\n",
    "        raise\n",
    "\n",
    "ht = HashTable()\n",
    "assert ht.is_empty() == True\n",
    "h1 = HashableImpl(156)\n",
    "ht.insert(h1)\n",
    "assert ht.is_empty() == False\n",
    "h2 = HashableImpl(90)\n",
    "ht.insert(h2)\n",
    "h3 = HashableImpl(31)\n",
    "ht.insert(h3)\n",
    "print(\"Should display three elements, while the other entries should be None:\")\n",
    "for e in ht.ht:\n",
    "    if e is not None:\n",
    "        if e.is_active:\n",
    "            print(e)\n",
    "    else:\n",
    "        print(e)\n",
    "print()\n",
    "\n",
    "test_unexisting_value(HashableImpl(0))\n",
    "test_unexisting_value(HashableImpl(1))\n",
    "assert ht.find(h1) != None\n",
    "assert ht.find(h2) != None\n",
    "assert ht.find(h3) != None\n",
    "\n",
    "temp1 = ht.find(h1)\n",
    "print(\"h1: \", temp1.key)\n",
    "temp3 = ht.find(h3)\n",
    "print(\"h3: \", temp3.key)\n",
    "print()\n",
    "ht.remove(h2)\n",
    "print(\"Should display two elements, while the other entries should be None:\")\n",
    "for e in ht.ht:\n",
    "    if e is not None:\n",
    "        if e.is_active:\n",
    "            print(e)\n",
    "        else:\n",
    "            print(None)\n",
    "    else:\n",
    "        print(e)\n",
    "print()\n",
    "\n",
    "test_unexisting_value(HashableImpl(0))\n",
    "test_unexisting_value(HashableImpl(1))\n",
    "assert ht.find(h1) != None\n",
    "test_unexisting_value(h2)\n",
    "assert ht.find(h3) != None\n",
    "\n",
    "h4 = HashableImpl(41)\n",
    "ht.insert(h4)\n",
    "h5 = HashableImpl(54)\n",
    "ht.insert(h5)\n",
    "print(\"Should display four elements, while the other entries should be None:\")\n",
    "for e in ht.ht:\n",
    "    if e is not None:\n",
    "        if e.is_active:\n",
    "            print(e)\n",
    "        else:\n",
    "            print(None)\n",
    "    else:\n",
    "        print(e)\n",
    "\n",
    "print()\n",
    "\n",
    "test_unexisting_value(HashableImpl(0))\n",
    "test_unexisting_value(HashableImpl(1))\n",
    "assert ht.find(h1) != None\n",
    "test_unexisting_value(h2)\n",
    "assert ht.find(h3) != None\n",
    "assert ht.find(h4) != None\n",
    "assert ht.find(h5) != None\n",
    "\n",
    "h6 = HashableImpl(716)\n",
    "ht.insert(h6)\n",
    "print(\"Should display five elements, while the other entries should be None:\")\n",
    "for e in ht.ht:\n",
    "    if e is not None:\n",
    "        if e.is_active:\n",
    "            print(e)\n",
    "        else:\n",
    "            print(None)\n",
    "    else:\n",
    "        print(e)\n",
    "\n",
    "print()\n",
    "\n",
    "test_unexisting_value(HashableImpl(0))\n",
    "test_unexisting_value(HashableImpl(1))\n",
    "assert ht.find(h1) != None\n",
    "test_unexisting_value(h2)\n",
    "assert ht.find(h3) != None\n",
    "assert ht.find(h4) != None\n",
    "assert ht.find(h5) != None\n",
    "assert ht.find(h6) != None\n",
    "\n",
    "ht.make_empty()\n",
    "assert ht.is_empty() == True\n",
    "print(\"Should display all entries as None:\")\n",
    "for e in ht.ht:\n",
    "    if e is not None:\n",
    "        if e.is_active:\n",
    "            print(e)\n",
    "        else:\n",
    "            print(None)\n",
    "    else:\n",
    "        print(e)\n",
    "\n",
    "print()\n",
    "\n",
    "test_unexisting_value(HashableImpl(0))\n",
    "test_unexisting_value(HashableImpl(1))\n",
    "test_unexisting_value(h1)\n",
    "test_unexisting_value(h2)\n",
    "test_unexisting_value(h3)\n",
    "test_unexisting_value(h4)\n",
    "test_unexisting_value(h5)\n",
    "test_unexisting_value(h6)\n",
    "\n",
    "try:\n",
    "    ht.remove(h4)\n",
    "    print(\"Error: an ItemNotFound exception must be raised\")\n",
    "except ItemNotFound:\n",
    "    pass\n",
    "except Exception as e:\n",
    "    print(\"Error: an unexpected exception has been raised\", type(e), \":\", e)\n",
    "    raise"
   ]
  },
  {
   "cell_type": "markdown",
   "id": "2ca32f2e-e995-477c-8535-62f6e42dc093",
   "metadata": {
    "id": "2ca32f2e-e995-477c-8535-62f6e42dc093"
   },
   "source": [
    "### Explications"
   ]
  },
  {
   "cell_type": "markdown",
   "id": "f5a17952-cba5-4bc4-9a41-aa68a0b0d806",
   "metadata": {
    "id": "f5a17952-cba5-4bc4-9a41-aa68a0b0d806"
   },
   "source": [
    "<< A REMPLIR PAR L'ETUDIANT >>"
   ]
  },
  {
   "cell_type": "markdown",
   "id": "aiZ7b3p885sK",
   "metadata": {
    "id": "aiZ7b3p885sK"
   },
   "source": [
    "### Exercice 1.1\n",
    "Créer une hash table de taille 997. Disperser dans la table $n$ clés, pour chaque $n$ entier dans $[200,900]$."
   ]
  },
  {
   "cell_type": "markdown",
   "id": "xnlR-yH08yYs",
   "metadata": {
    "id": "xnlR-yH08yYs"
   },
   "source": [
    "\n",
    "\n",
    "```python\n",
    "    # Dispersion\n",
    "    for i in range(n):\n",
    "        a_key = np.random.randint(4242)\n",
    "        h = HashableImpl(a_key, True)\n",
    "        hash_table.insert(h)\n",
    "```\n",
    "\n"
   ]
  },
  {
   "cell_type": "markdown",
   "id": "3Mc-YGMRB0zq",
   "metadata": {
    "id": "3Mc-YGMRB0zq"
   },
   "source": [
    "Un *miss* (similaire à une collision) est, lors d'une phase de sondage, la visite d'une cellule de la table qui ne correspond pas à la clé recherchée.\n",
    "\n",
    "Pour chaque $n$, afficher le nombre de *miss* pour 100 requêtes `find` de clés existantes (les choisir au hasard).\n",
    "\n"
   ]
  },
  {
   "cell_type": "markdown",
   "id": "a557c604",
   "metadata": {
    "id": "a557c604"
   },
   "source": [
    "\n",
    "\n",
    "Quelle est la relation entre le facteur de charge (load factor) de la table de hachage et le nombre de miss ?"
   ]
  },
  {
   "cell_type": "markdown",
   "id": "67a924c0",
   "metadata": {
    "id": "67a924c0"
   },
   "source": [
    "<< A REMPLIR PAR L'ETUDIANT >>"
   ]
  },
  {
   "cell_type": "markdown",
   "id": "c61702f7",
   "metadata": {
    "id": "c61702f7"
   },
   "source": [
    "### Exercice 1.2\n",
    "Quelle est la particularité de 997, la taille choisie pour la hash table ?"
   ]
  },
  {
   "cell_type": "markdown",
   "id": "3a6ddace",
   "metadata": {
    "id": "3a6ddace"
   },
   "source": [
    "<< A REMPLIR PAR L'ETUDIANT >>"
   ]
  }
 ],
 "metadata": {
  "colab": {
   "provenance": []
  },
  "interpreter": {
   "hash": "4d627b3ea71e790ed7d9c294cc76e400708b53c97c06f52348911b9296e7b669"
  },
  "kernelspec": {
   "display_name": "Python 3 (ipykernel)",
   "language": "python",
   "name": "python3"
  },
  "language_info": {
   "codemirror_mode": {
    "name": "ipython",
    "version": 3
   },
   "file_extension": ".py",
   "mimetype": "text/x-python",
   "name": "python",
   "nbconvert_exporter": "python",
   "pygments_lexer": "ipython3",
   "version": "3.8.8"
  }
 },
 "nbformat": 4,
 "nbformat_minor": 5
}
