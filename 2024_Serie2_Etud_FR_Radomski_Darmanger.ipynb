{
  "cells": [
    {
      "cell_type": "markdown",
      "id": "9aec3600-4aba-4aca-8b31-fafd437386b0",
      "metadata": {
        "id": "9aec3600-4aba-4aca-8b31-fafd437386b0"
      },
      "source": [
        "# Série 2\n",
        "Ce document contient les différents exercices à réaliser. Veuillez compléter et rendre ces exercices dans deux semaines.\n",
        "\n",
        "Pour chaque exercice:\n",
        "* implémentez ce qui est demandé\n",
        "* commentez votre code\n",
        "* expliquez **en français** ce que vous avez codé dans la cellule correspondante\n",
        "\n",
        "Dans vos explications à chacun des exercices, indiquez un pourcentage subjectif d'investissement de chaque membre du groupe. **Des interrogations aléatoires en classe pourront être réalisées pour vérifier votre contribution/compréhension.**"
      ]
    },
    {
      "cell_type": "markdown",
      "id": "c048d1b5-ae84-420b-ad75-54022ad3d823",
      "metadata": {
        "id": "c048d1b5-ae84-420b-ad75-54022ad3d823"
      },
      "source": [
        "## Exercice 1\n",
        "Implémentez et testez un algorithme permettant d'inverser une liste d'entiers en utilisant une méthode récursive."
      ]
    },
    {
      "cell_type": "code",
      "execution_count": 14,
      "id": "530b3d63-e9ed-4be6-ba5b-e814dd41e0da",
      "metadata": {
        "id": "530b3d63-e9ed-4be6-ba5b-e814dd41e0da"
      },
      "outputs": [],
      "source": [
        "def inverse(elements: list[int]) -> list[int]:\n",
        "    \"\"\"\n",
        "    Returns a new list containing all the elements of the provided list in inverse order.\n",
        "    \"\"\"\n",
        "    if len(elements) < 2:\n",
        "        return list(elements)\n",
        "\n",
        "    first, *remaining_elements, last = elements\n",
        "    return [last, *inverse(remaining_elements), first]\n"
      ]
    },
    {
      "cell_type": "code",
      "execution_count": 15,
      "id": "102485ed-c85e-44f3-ae2f-9023bdffc948",
      "metadata": {
        "id": "102485ed-c85e-44f3-ae2f-9023bdffc948"
      },
      "outputs": [],
      "source": [
        "assert inverse([5, 8, 7, 3, 2]) == [2, 3, 7, 8, 5]\n",
        "assert inverse([8, 5]) == [5, 8]\n",
        "\n",
        "assert inverse([]) == []\n",
        "assert inverse([1]) == [1]\n"
      ]
    },
    {
      "cell_type": "markdown",
      "id": "a16a16c3-0418-4825-af9c-86694192e9f5",
      "metadata": {
        "id": "a16a16c3-0418-4825-af9c-86694192e9f5"
      },
      "source": [
        "### Explications"
      ]
    },
    {
      "cell_type": "markdown",
      "id": "cae476f0-400c-4ef8-b018-4afa60982a5a",
      "metadata": {
        "id": "cae476f0-400c-4ef8-b018-4afa60982a5a"
      },
      "source": [
        "We define the case in which the list contains less than two elements as the recursion's base case.\n",
        "The solution for this case is trivial, as the inverse of a list that contains at most one element is the list itself.\n",
        "Note that we always create a copy of the list, as the function's contract (as we've defined it) requires a new list to be returned.\n",
        "\n",
        "If the provided list contains two or more elements, we can determine the inverse order recursively.\n",
        "In every iteration, we determine the list's first and last elements, and return a new list in which the first and last element were swapped.\n",
        "The order of the remainder (i.e, middle part) of the list is inversed recursively.\n",
        "\n",
        "We can access a list's first, last, and remaining elements in a single assignment statement ([docs](https://docs.python.org/3/reference/simple_stmts.html#assignment-statements)).\n",
        "The \"starred target\" on the left-hand side of the assignment, as it's formally called, is assigned a list containing all elements that were not assigned to the other targets.\n",
        "If the object on the right-hand side only contains two elements, this list is empty.\n",
        "We use those three components to construct a new list.\n",
        "The star operator used in the list literal allows us to spread the list contents into the newly created list (otherwise, we would have a nested list)."
      ]
    },
    {
      "cell_type": "markdown",
      "id": "f4caa6ca-084e-45ea-bf26-9ce9ea4c4667",
      "metadata": {
        "id": "f4caa6ca-084e-45ea-bf26-9ce9ea4c4667"
      },
      "source": [
        "## Exercice 2\n",
        "Implémentez une méthode récursive qui trouve et retourne le plus petit élément d'une liste, où la liste et sa taille sont données en paramètre."
      ]
    },
    {
      "cell_type": "code",
      "execution_count": 16,
      "id": "d76d206b-89e0-44f4-bf0d-10f223950c2a",
      "metadata": {
        "id": "d76d206b-89e0-44f4-bf0d-10f223950c2a"
      },
      "outputs": [],
      "source": [
        "def minEl(m, s: int):\n",
        "    \"\"\"\n",
        "    Returns the minimum element in the list m of size s using recursion.\n",
        "    \"\"\"\n",
        "    # Base case \n",
        "    if s == 1:\n",
        "        return m[0]\n",
        "    \n",
        "    # Recursive call to find the minimum element in the list\n",
        "    minValue = minEl(m, s - 1)\n",
        "\n",
        "    # check if the current element is less than the minimum element found so far\n",
        "    if m[s - 1] < minValue:\n",
        "        # return the current element at index s - 1\n",
        "        return m[s - 1]\n",
        "    else:\n",
        "        # return the minimum element found so far in the recursion \n",
        "        return minValue"
      ]
    },
    {
      "cell_type": "code",
      "execution_count": 17,
      "id": "f3963a0f-8fda-4321-ab94-8856103945c9",
      "metadata": {
        "id": "f3963a0f-8fda-4321-ab94-8856103945c9"
      },
      "outputs": [],
      "source": [
        "assert minEl([6,5,3,9,1], 5) == 1\n",
        "assert minEl([6,5,3,-9,1], 5) == -9\n",
        "assert not minEl([6,5,3,-9,1], 5) == 1"
      ]
    },
    {
      "cell_type": "markdown",
      "id": "4f21166a-1dff-44fe-87fa-97721ca66713",
      "metadata": {
        "id": "4f21166a-1dff-44fe-87fa-97721ca66713"
      },
      "source": [
        "### Explications"
      ]
    },
    {
      "cell_type": "markdown",
      "id": "2ea0051d-e11f-4c78-a560-1ead461b83a4",
      "metadata": {
        "id": "2ea0051d-e11f-4c78-a560-1ead461b83a4"
      },
      "source": [
        "The function `minEl` is used to find the minimum element in a list `m` of size `s` using recursion. It takes two parameters: `m`, which is a list of elements, and `s`, which is an integer representing the size of the list.\n",
        "\n",
        "The base case of the function is when the size `s` is equal to 1. In this case, there is only one element in the list, so it is by default the minimum. The function directly returns this element (`m[0]`). If `s` is greater than 1, the function calls itself again, reducing the size `s` by 1 (`minEl(m, s - 1)`). This allows the function to handle smaller parts of the list step by step.\n",
        "\n",
        "After getting the minimum of the first `s-1` elements, the function then compares this minimum (`minValue`) with the current element, `m[s - 1]`, which is the last element of the current part of the list. If `m[s - 1]` is smaller than `minValue`, the function returns `m[s - 1]`. Otherwise, it returns `minValue`.\n",
        "\n",
        "In summary, the function divides the list into smaller parts until it reaches a size of 1 (the base case). Then, as it moves back up, it keeps comparing to find and return the smallest element. \n",
        "\n",
        "#### Example\n",
        "\n",
        "`m = [3, 1, 4]`\n",
        "\n",
        "1. **First Call:** `s = 3`  \n",
        "   The function calls itself with `s = 2`.\n",
        "\n",
        "2. **Second Call:** `s = 2`  \n",
        "   The function calls itself again with `s = 1`.\n",
        "\n",
        "3. **Third Call (Base Case):** `s = 1`  \n",
        "   The function returns `m[0]`, which is `3`.\n",
        "\n",
        "4. **Going Back Up (Comparing Elements):**\n",
        "   - In the second call (`s = 2`), it compares `m[1]` (which is `1`) with `minValue` (which is `3` from the previous call). Since `1` is smaller, the function returns `1`.\n",
        "   - In the first call (`s = 3`), it then compares `m[2]` (which is `4`) with `minValue` (which is `1`). Since `1` is still smaller, the function returns `1`.\n",
        "\n",
        "So, the minimum value in the list `[3, 1, 4]` is `1`.\n"
      ]
    },
    {
      "cell_type": "markdown",
      "id": "5ed1f459-7bd3-48dc-ac2b-e149c6df6c7f",
      "metadata": {
        "id": "5ed1f459-7bd3-48dc-ac2b-e149c6df6c7f"
      },
      "source": [
        "## Exercice 3\n",
        "Implémentez une méthode récursive qui cherche un élément dans une liste triée en utilisant la recherche binaire. La liste, la taille et l'élément cible sont donnés en paramètre."
      ]
    },
    {
      "cell_type": "code",
      "execution_count": 18,
      "id": "c2865af5-764e-494a-9749-851fdf39cd63",
      "metadata": {
        "id": "c2865af5-764e-494a-9749-851fdf39cd63"
      },
      "outputs": [],
      "source": [
        "def find_item(elements: list[int], target_element: int) -> int | None:\n",
        "    elements_size = len(elements)\n",
        "\n",
        "    if elements_size == 0:\n",
        "        return None\n",
        "\n",
        "    if elements_size == 1:\n",
        "        if elements[0] == target_element:\n",
        "            return 0\n",
        "\n",
        "        return None\n",
        "\n",
        "    pivot_idx = elements_size // 2\n",
        "    pivot_element = elements[pivot_idx]\n",
        "\n",
        "    if target_element < pivot_element:\n",
        "        return find_item(elements[0:pivot_idx], target_element)\n",
        "\n",
        "    right_half_result = find_item(elements[pivot_idx:elements_size], target_element)\n",
        "    if right_half_result is not None:\n",
        "        return right_half_result + pivot_idx\n",
        "\n",
        "    return None"
      ]
    },
    {
      "cell_type": "code",
      "execution_count": 19,
      "id": "75ca81ec-27df-45a1-9464-57e73c08aef7",
      "metadata": {
        "id": "75ca81ec-27df-45a1-9464-57e73c08aef7"
      },
      "outputs": [],
      "source": [
        "assert find_item([1, 2, 4, 7, 8], 7) == 3\n",
        "assert find_item([-12, -9, 10, 44, 85, 91], -9) == 1\n",
        "assert find_item([2, 4, 7, 9], 2) == 0\n",
        "\n",
        "assert find_item([], 1) is None\n",
        "\n",
        "assert find_item([1, 2, 4, 7, 8], 9) is None\n",
        "assert find_item([1, 2, 4, 7, 8], 0) is None\n",
        "assert find_item([1, 2, 4, 7, 8], 3) is None\n"
      ]
    },
    {
      "cell_type": "markdown",
      "id": "3f47e9dc-52a3-419a-b944-55a7a0d0a4e7",
      "metadata": {
        "id": "3f47e9dc-52a3-419a-b944-55a7a0d0a4e7"
      },
      "source": [
        "### Explications"
      ]
    },
    {
      "cell_type": "markdown",
      "id": "00cd736a-f752-461e-8540-4bf6e9193b4d",
      "metadata": {
        "id": "00cd736a-f752-461e-8540-4bf6e9193b4d"
      },
      "source": [
        "The first conditional statement deals with the edge case in which the provided list is empty.\n",
        "Neither the regular nor the base case of the recursion can deal with this.\n",
        "\n",
        "The recursive base case is given by the second conditional statement.\n",
        "It deals with the situation in which the provided list only contains a single element.\n",
        "Determining whether the list contains the target element is then as simple as comparing the single element with the target element.\n",
        "The target element's index hence always is zero.\n",
        "\n",
        "The task of the recursion's regular case therefore is to split the list into smaller list until the base case is reached.\n",
        "\n",
        "In every iteration, we compare the list's center-most element (so-called pivot element) with the target element.\n",
        "If the target element is smaller than the pivot element, we know that the target element must have a lower index than the pivot element.\n",
        "That is, we can discard all elements with an index equal to or larger than the pivot element's index (called \"left half\" hereafter).\n",
        "Likewise, we can discard all elements with an index smaller than the pivot element's index (called \"right half\" hereafter) in case the target index is equal to or larger than the pivot element.\n",
        "\n",
        "If we discard the left half, we need to add the size of the left half to the recursive call's result (unless it is `None`).\n",
        "This accounts for the sub-list's position in the overall list.\n",
        "Otherwise, we would always obtain an overall result of `0` (or `None` ).\n",
        "\n",
        "_Note: The parameter that indicates the size of the list has been removed. It did not prove useful for the chosen implementation, and was a potential source of error._"
      ]
    },
    {
      "cell_type": "markdown",
      "id": "07be6c36-643f-4951-b68c-8b792565eda7",
      "metadata": {
        "id": "07be6c36-643f-4951-b68c-8b792565eda7"
      },
      "source": [
        "## Exercice 4\n",
        "La \"Fonction 91 de McCarthy\" est définie comme suit:\n",
        "\n",
        "    M(n) for integers > 0:\n",
        "      if n > 100, M(n) = n - 10\n",
        "      if n <= 100, M(n) = M(M(n+11))\n",
        "\n",
        "La notation `M(M(n+11))` est un appel récursif imbriqué.\n",
        "\n",
        "Implémentez et testez une méthode python qui retourne la nombre de McCarthy."
      ]
    },
    {
      "cell_type": "code",
      "execution_count": 20,
      "id": "DaJgTPL5rjSr",
      "metadata": {
        "id": "DaJgTPL5rjSr"
      },
      "outputs": [],
      "source": [
        "def mcCarthy(n: int):\n",
        "    \"\"\"\n",
        "    Returns the result of the McCarthy 91 function for the given input n.\n",
        "    \"\"\"\n",
        "    if n > 100:\n",
        "        # if n > 100, M(n) = n - 10\n",
        "        return n - 10\n",
        "\n",
        "    # if n <= 100, M(n) = M(M(n + 11))\n",
        "    return mcCarthy(mcCarthy(n + 11))"
      ]
    },
    {
      "cell_type": "code",
      "execution_count": 21,
      "id": "NBgptqtXrlnR",
      "metadata": {
        "id": "NBgptqtXrlnR"
      },
      "outputs": [],
      "source": [
        "assert mcCarthy(91) == 91\n",
        "assert mcCarthy(101) == 91\n",
        "assert mcCarthy(102) == 92\n",
        "assert mcCarthy(104) == 94"
      ]
    },
    {
      "cell_type": "markdown",
      "id": "g0RAJOR2r1h8",
      "metadata": {
        "id": "g0RAJOR2r1h8"
      },
      "source": [
        "### Explications"
      ]
    },
    {
      "cell_type": "markdown",
      "id": "Zz15jFT2r3q5",
      "metadata": {
        "id": "Zz15jFT2r3q5"
      },
      "source": [
        "The function `mccarthy` is used to calculate the McCarthy value for a given integer `n`. The function is defined recursively, following the rules of the McCarthy function.\n",
        "\n",
        "The base case of the function is when `n` is greater than 100. In this case, the function returns `n - 10`. If `n` is less than or equal to 100, the function calls itself recursively with `n + 11` as the argument. This is the nested recursive call `mccarthy(mccarthy(n + 11))`.\n",
        "\n",
        "*More details at Exercice 4.1*"
      ]
    },
    {
      "cell_type": "markdown",
      "id": "Eznl-QKzrrYJ",
      "metadata": {
        "id": "Eznl-QKzrrYJ"
      },
      "source": [
        "### Exercise 4.1\n",
        "Quels sont les nombres de McCarthy pour: 1, 15, 79, 99, 100, 101, 200 ?"
      ]
    },
    {
      "cell_type": "code",
      "execution_count": 22,
      "id": "8fb349d9",
      "metadata": {},
      "outputs": [
        {
          "name": "stdout",
          "output_type": "stream",
          "text": [
            "M(1) = 91\n",
            "M(15) = 91\n",
            "M(79) = 91\n",
            "M(99) = 91\n",
            "M(100) = 91\n",
            "M(101) = 91\n",
            "M(200) = 190\n"
          ]
        }
      ],
      "source": [
        "numbers = [1, 15, 79, 99, 100, 101, 200]\n",
        "\n",
        "for n in numbers:\n",
        "    print(f\"M({n}) = {mcCarthy(n)}\")"
      ]
    },
    {
      "cell_type": "code",
      "execution_count": 23,
      "id": "e43fe631",
      "metadata": {},
      "outputs": [
        {
          "name": "stdout",
          "output_type": "stream",
          "text": [
            "M(102) = 92\n",
            "M(103) = 93\n",
            "M(110) = 100\n",
            "M(150) = 140\n",
            "M(200) = 190\n"
          ]
        }
      ],
      "source": [
        "numbers = [102, 103, 110, 150, 200]\n",
        "\n",
        "for n in numbers:\n",
        "    print(f\"M({n}) = {mcCarthy(n)}\")"
      ]
    },
    {
      "cell_type": "markdown",
      "id": "QrHhXyn2ruSd",
      "metadata": {
        "id": "QrHhXyn2ruSd"
      },
      "source": [
        "We can see that for any `n` smaller than 100, the McCarthy function will return 91. For `n` greater than 100, the function will return `n - 10`. (So if `n` is 101, the function will return 91 as well but if `n` is 200, the function will return 190.)\n",
        "\n",
        "#### Why it \"converges\" to 91\n",
        "When `n < 100`, the function calls itself in a nested way, meaning it calls `M(n + 11)`, and then calls the function again on that result. This continues until the value becomes greater than **100**, at which point the function starts to follow the first rule and subtracts **10**.\n",
        "\n",
        "\n",
        "##### Example\n",
        "For example : `n=99`\n",
        "1. M(99) = M(M(99 + 11)) = M(110)\n",
        "2. To calculate M(110), since 110 > 100, we have: M(110) = 110 - 10 = 100 \n",
        "3. So, M(99) = M(100).\n",
        "\n",
        "Now, for \\( M(100) \\):\n",
        "\n",
        "4. M(100) = M(M(100 + 11)) = M(111)\n",
        "5. Since 111 > 100, M(111) = 111 - 10 = 101.\n",
        "6. So, M(100) = M(101).\n",
        "\n",
        "Similarly:\n",
        "\n",
        "7. M(101) returns 101 - 10 = 91\n",
        "\n",
        "So, M(100) = M(101) = 91\n",
        "\n",
        "\n",
        "#### Conclusion\n",
        "For any value n < 100, the McCarthy 91 function always returns 91 due to its recursive structure. Each recursive call adds 11 until the value exceeds 100, after which the function subtracts 10 until it reaches 91. This creates a \"trap\" that ensures all inputs n < 100 converge to 91. For n > 100, the function simply returns n - 10.\n",
        "\n",
        "[Source](https://en.wikipedia.org/wiki/McCarthy_91_function)"
      ]
    },
    {
      "cell_type": "markdown",
      "id": "5gtvWXPtPqEV",
      "metadata": {
        "id": "5gtvWXPtPqEV"
      },
      "source": [
        "## Exercice 5 - (<font color='#db60cf'>Bonus</font>) Complexité algorithmique de Fibonacci récursif\n",
        "On définit l'*algorithme de Fibonacci récursif* comme suit :"
      ]
    },
    {
      "cell_type": "code",
      "execution_count": 24,
      "id": "xkC4gzDnTK4r",
      "metadata": {
        "id": "xkC4gzDnTK4r"
      },
      "outputs": [],
      "source": [
        "def fibonacci_recursive(n):\n",
        "    if n <= 1:\n",
        "        return n\n",
        "    else:\n",
        "        result1 = fibonacci_recursive(n-1,)\n",
        "        result2 = fibonacci_recursive(n-2,)\n",
        "        return result1 + result2  # Summation counts for 1 in the complexity"
      ]
    },
    {
      "cell_type": "markdown",
      "id": "J4iX_XyFT4hO",
      "metadata": {
        "id": "J4iX_XyFT4hO"
      },
      "source": [
        "Soit $T(n)$ la complexité temporelle de la fonction Fibonacci lorsqu'elle est appelée avec un $n\\in \\mathbb{N}$. Il vient de l'implémentation que $T(0)=T(1)=1$ et $$T(n)=T(n-1)+T(n-2)+1$$ pour tout $n>1$.\n",
        "\n",
        "En admettant que pour tout $n>2$, $T(n-2) \\approx T(n-1)$ (en réalité, $T(n-2)=O(T(n-1)$), exprimer $T(n)$ en fonction de $T(n-1)$.\n",
        "Exprimer alors $T(n-1)$ en fonction de $T(n-2)$, puis $T(n-2)$ en fonction de $T(n-3)$. Enfin, exprimer $T(n)$ en fonction de $T(n-3)$.\n",
        "\n",
        "Démontrer par récurrence une expression de $T(n)$ en fonction de $n$. L'implémenter dans la cellule contenant `def T(n)`."
      ]
    },
    {
      "cell_type": "markdown",
      "id": "CUvBdl-PgmG_",
      "metadata": {
        "id": "CUvBdl-PgmG_"
      },
      "source": [
        "<< A REMPLIR PAR L'ETUDIANT >>"
      ]
    },
    {
      "cell_type": "code",
      "execution_count": 25,
      "id": "UTDY-5feNAiG",
      "metadata": {
        "id": "UTDY-5feNAiG"
      },
      "outputs": [
        {
          "name": "stdout",
          "output_type": "stream",
          "text": [
            "\u001b[31mERROR: Ignored the following versions that require a different python version: 0.0.4 Requires-Python >=3.6, <3.9; 0.0.5 Requires-Python >=3.6, <3.9; 0.0.6 Requires-Python >=3.6, <3.9; 0.0.7 Requires-Python >=3.6, <3.9; 0.1.0 Requires-Python <3.11,>=3.7; 0.1.1 Requires-Python <3.11,>=3.7; 0.2.0 Requires-Python <3.11,>=3.7; 0.2.0b1 Requires-Python <3.11,>=3.7; 0.2.0b2 Requires-Python <3.11,>=3.7; 0.3.0b1 Requires-Python <3.12,>=3.7; 0.3.1 Requires-Python <3.12,>=3.7; 0.4.0 Requires-Python <3.12,>=3.7; 0.4.1 Requires-Python <3.12,>=3.7; 0.4.2 Requires-Python <3.12,>=3.7; 0.4.3.post1 Requires-Python <3.12,>=3.7\u001b[0m\u001b[31m\n",
            "\u001b[0m\u001b[31mERROR: Could not find a version that satisfies the requirement latexify-py==0.2.0 (from versions: none)\u001b[0m\u001b[31m\n",
            "\u001b[0m\u001b[31mERROR: No matching distribution found for latexify-py==0.2.0\u001b[0m\u001b[31m\n",
            "\u001b[0mNote: you may need to restart the kernel to use updated packages.\n"
          ]
        }
      ],
      "source": [
        "# Rendering latex equations with a package installed by magic cell\n",
        "%pip install latexify-py==0.2.0"
      ]
    },
    {
      "cell_type": "code",
      "execution_count": 26,
      "id": "pCK16d1hN3Ui",
      "metadata": {
        "id": "pCK16d1hN3Ui"
      },
      "outputs": [
        {
          "ename": "ModuleNotFoundError",
          "evalue": "No module named 'latexify'",
          "output_type": "error",
          "traceback": [
            "\u001b[0;31m---------------------------------------------------------------------------\u001b[0m",
            "\u001b[0;31mModuleNotFoundError\u001b[0m                       Traceback (most recent call last)",
            "Cell \u001b[0;32mIn[26], line 1\u001b[0m\n\u001b[0;32m----> 1\u001b[0m \u001b[38;5;28;01mimport\u001b[39;00m \u001b[38;5;21;01mlatexify\u001b[39;00m\n\u001b[1;32m      3\u001b[0m \u001b[38;5;129m@latexify\u001b[39m\u001b[38;5;241m.\u001b[39mfunction\n\u001b[1;32m      4\u001b[0m \u001b[38;5;28;01mdef\u001b[39;00m \u001b[38;5;21mT\u001b[39m(n):\n\u001b[1;32m      5\u001b[0m     \u001b[38;5;66;03m# A CORRIGER\u001b[39;00m\n\u001b[1;32m      6\u001b[0m     \u001b[38;5;28;01mreturn\u001b[39;00m n\n",
            "\u001b[0;31mModuleNotFoundError\u001b[0m: No module named 'latexify'"
          ]
        }
      ],
      "source": [
        "import latexify\n",
        "\n",
        "@latexify.function\n",
        "def T(n):\n",
        "    # A CORRIGER\n",
        "    return n\n",
        "\n",
        "T"
      ]
    },
    {
      "cell_type": "markdown",
      "id": "LcwOXBJZpGQR",
      "metadata": {
        "id": "LcwOXBJZpGQR"
      },
      "source": [
        "Ajouter une ligne à `fibonacci_recursive` pour que le troisième subplot (voir ci-après) montre les valeurs appropriées :"
      ]
    },
    {
      "cell_type": "code",
      "execution_count": null,
      "id": "ppHNZ46CpOjJ",
      "metadata": {
        "id": "ppHNZ46CpOjJ"
      },
      "outputs": [],
      "source": [
        "def fibonacci_recursive(n):\n",
        "    if n <= 1:\n",
        "        return n\n",
        "    else:\n",
        "        result1 = fibonacci_recursive(n-1,)\n",
        "        result2 = fibonacci_recursive(n-2,)\n",
        "        # A COMPLETER\n",
        "        return result1 + result2"
      ]
    },
    {
      "cell_type": "markdown",
      "id": "xfNgKVySr883",
      "metadata": {
        "id": "xfNgKVySr883"
      },
      "source": [
        "### Explications"
      ]
    },
    {
      "cell_type": "markdown",
      "id": "AmrXdRw8sAT-",
      "metadata": {
        "id": "AmrXdRw8sAT-"
      },
      "source": [
        "<< A REMPLIR PAR L'ETUDIANT >>"
      ]
    },
    {
      "cell_type": "code",
      "execution_count": null,
      "id": "MRx_3l-yeW6o",
      "metadata": {
        "id": "MRx_3l-yeW6o"
      },
      "outputs": [],
      "source": [
        "import time\n",
        "import matplotlib.pyplot as plt\n",
        "import numpy as np\n",
        "\n",
        "\n",
        "def measure_execution_time(func, *args):\n",
        "    start_time = time.time()\n",
        "    result = func(*args)\n",
        "    end_time = time.time()\n",
        "    execution_time = end_time - start_time\n",
        "    return result, execution_time\n",
        "\n",
        "# Generate values for n\n",
        "n_values = np.arange(1, 30)\n",
        "\n",
        "# Lists to store results\n",
        "execution_times = []\n",
        "time_complexity_values = []\n",
        "recursive_calls = []\n",
        "\n",
        "# Measure execution time, compute time complexity, and count recursive calls for each n\n",
        "for n in n_values:\n",
        "    call_counts = []\n",
        "    _, execution_time = measure_execution_time(fibonacci_recursive, n)\n",
        "    time_complexity = T(n)\n",
        "    execution_times.append(execution_time)\n",
        "    time_complexity_values.append(time_complexity)\n",
        "    recursive_calls.append(np.sum(call_counts))\n",
        "\n",
        "plt.figure(figsize=(15, 5))\n",
        "\n",
        "plt.subplot(1, 3, 1)\n",
        "plt.plot(n_values, execution_times, label='Execution Time')\n",
        "plt.xlabel('Input Size (n)')\n",
        "plt.ylabel('Execution Time (s)')\n",
        "plt.title('Algorithm Execution Time')\n",
        "\n",
        "plt.subplot(1, 3, 2)\n",
        "plt.plot(n_values, time_complexity_values, label=r'$' + T._latex + '$', color='red', linestyle='dashed')\n",
        "plt.xlabel('Input Size (n)')\n",
        "plt.ylabel('Time Complexity')\n",
        "plt.legend()\n",
        "plt.title('Time Complexity Function')\n",
        "\n",
        "plt.subplot(1, 3, 3)\n",
        "plt.plot(n_values, recursive_calls, label='Recursive Calls')\n",
        "plt.xlabel('Input Size (n)')\n",
        "plt.ylabel('Number of Recursive Calls')\n",
        "plt.title('Number of Recursive Calls')\n",
        "\n",
        "plt.tight_layout()\n",
        "plt.show()"
      ]
    },
    {
      "cell_type": "markdown",
      "id": "b_Hshwulo8i0",
      "metadata": {
        "id": "b_Hshwulo8i0"
      },
      "source": [
        "Que montrent ces courbes ?"
      ]
    },
    {
      "cell_type": "markdown",
      "id": "n17qZF9Msq99",
      "metadata": {
        "id": "n17qZF9Msq99"
      },
      "source": [
        "<< A REMPLIR PAR L'ETUDIANT >>"
      ]
    }
  ],
  "metadata": {
    "colab": {
      "provenance": []
    },
    "kernelspec": {
      "display_name": "Python",
      "language": "python",
      "name": "python3"
    },
    "language_info": {
      "codemirror_mode": {
        "name": "ipython",
        "version": 3
      },
      "file_extension": ".py",
      "mimetype": "text/x-python",
      "name": "python",
      "nbconvert_exporter": "python",
      "pygments_lexer": "ipython3",
      "version": "3.12.6"
    }
  },
  "nbformat": 4,
  "nbformat_minor": 5
}
